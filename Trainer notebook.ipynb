{
 "cells": [
  {
   "cell_type": "code",
   "execution_count": 1,
   "metadata": {},
   "outputs": [
    {
     "name": "stdout",
     "output_type": "stream",
     "text": [
      "Populating the interactive namespace from numpy and matplotlib\n"
     ]
    },
    {
     "name": "stderr",
     "output_type": "stream",
     "text": [
      "/usr/local/lib/python2.7/dist-packages/IPython/qt.py:13: ShimWarning: The `IPython.qt` package has been deprecated since IPython 4.0. You should import from qtconsole instead.\n",
      "  \"You should import from qtconsole instead.\", ShimWarning)\n"
     ]
    },
    {
     "name": "stdout",
     "output_type": "stream",
     "text": [
      "Warning could not load Chase AWG dll, check that dll located at 'C:\\_Lib\\python\\slab\\instruments\\awg\\chase\\dax22000_lib_DLL32.dll'\n",
      "Warning could not load LDA labbrick dll, check that dll located at 'C:\\_Lib\\python\\slab\\instruments\\labbrick\\VNX_atten.dll'\n",
      "Warning could not load LMS labbrick dll, check that dll located at 'C:\\_Lib\\python\\slab\\instruments\\labbrick\\vnx_fmsynth.dll'\n",
      "Warning could not load LPS labbrick dll, check that dll located at 'C:\\_Lib\\python\\slab\\instruments\\labbrick\\VNX_dps.dll'\n",
      "Could not load labbrick\n",
      "Could not load Dymo USB Scale\n",
      "DSFIT could not import guiqwt\n"
     ]
    }
   ],
   "source": [
    "%pylab inline\n",
    "from tqdm import tqdm_notebook\n",
    "import os.path\n",
    "\n",
    "from rd_model import RazzleDazzleGame, Position\n",
    "from rd_bots import PositionBot, PositionNet, IdiotBot\n",
    "from slab import get_current_filename, get_next_filename\n",
    "from slab.datamanagement import SlabFile\n",
    "\n",
    "# from __future__ import print_function\n",
    "import torch\n",
    "import torch.nn as nn\n",
    "import torch.nn.functional as F\n",
    "import torch.optim as optim\n",
    "from torch.autograd import Variable\n",
    "import random\n",
    "import numpy as np\n"
   ]
  },
  {
   "cell_type": "code",
   "execution_count": 2,
   "metadata": {
    "collapsed": true
   },
   "outputs": [],
   "source": [
    "# Need to fix this, its a terrible algorithm\n",
    "def itershuffle(iterable, bufsize=1000):\n",
    "    \"\"\"Shuffle an iterator. This works by holding `bufsize` items back\n",
    "    and yielding them sometime later. This is NOT 100% random, proved or anything.\"\"\"\n",
    "    iterable = iter(iterable)\n",
    "    buf = []\n",
    "    try:\n",
    "        while True:\n",
    "            for i in xrange(random.randint(1, bufsize - len(buf))):\n",
    "                buf.append(iterable.next())\n",
    "            random.shuffle(buf)\n",
    "            for i in xrange(random.randint(1, bufsize)):\n",
    "                if buf:\n",
    "                    yield buf.pop()\n",
    "                else:\n",
    "                    break\n",
    "    except StopIteration:\n",
    "        random.shuffle(buf)\n",
    "        while buf:\n",
    "            yield buf.pop()\n",
    "        raise StopIteration\n",
    "\n",
    "\n",
    "def generate_games(bot1, bot2, games, fname=None):\n",
    "    \"\"\"Generate lots of random games and save to text file\"\"\"\n",
    "    for ii in range(games):\n",
    "        game = RazzleDazzleGame(bot1, bot2)\n",
    "\n",
    "        game.play()\n",
    "        if fname is not None:\n",
    "            with open(fname, 'a') as f:\n",
    "                f.write(str(game) + '\\n')\n",
    "        yield str(game)\n",
    "\n",
    "\n",
    "def get_game_data(game_str):\n",
    "    if game_str.strip()[-1] == '8':  # get value\n",
    "        v = 1\n",
    "    else:\n",
    "        v = -1\n",
    "    pos = Position(score=v)\n",
    "    white_move = True\n",
    "    for ms in game_str.split(','):\n",
    "        m = pos.parse_move(ms)\n",
    "        if not white_move:\n",
    "            m = pos.rotate_move(m)\n",
    "\n",
    "        yield [pos.state.flatten(), pos.get_piece_on_square(m[0]), m[-1], v]\n",
    "        pos=pos.move(m)\n",
    "        pos.rotate()\n",
    "\n",
    "\n",
    "def correct_predictions(output,value):\n",
    "    return np.sum((1-torch.floor(torch.abs(value-output))).data.numpy())\n",
    "\n",
    "def train_loader(bot1, bot2, games, training_fraction=1.0, fname=None):\n",
    "    dataset = []\n",
    "    for game_str in generate_games(bot1, bot2, games):\n",
    "        one_game=list(get_game_data(game_str))\n",
    "        for g in one_game[-20:]:\n",
    "            dataset.append(g)\n",
    "    random.shuffle(dataset)\n",
    "    dataset = np.transpose(dataset[:int(len(dataset) * training_fraction)])\n",
    "\n",
    "    return dataset\n",
    "\n",
    "def generate_idiot_data(datapath, games, test_size):\n",
    "    bot1=IdiotBot('i1')\n",
    "    bot2=IdiotBot('i2')\n",
    "    \n",
    "    # Generate random legal game data\n",
    "    for g in tqdm_notebook(range(games)):\n",
    "        game = RazzleDazzleGame(bot1, bot2)\n",
    "        game.play()\n",
    "        \n",
    "        with open(os.path.join(datapath,'idiot_games.txt'),'a') as f:\n",
    "            f.write(str(game)+\"\\n\")\n",
    "\n",
    "    wins=[]\n",
    "    losses=[]\n",
    "    with open(os.path.join(datapath,'idiot_games.txt'),'r') as f:\n",
    "        for game_str in tqdm_notebook(f):\n",
    "            one_game=list(get_game_data(game_str))\n",
    "            for g in one_game[-10:]:\n",
    "                if g[-1]>0:\n",
    "                    wins.append(g)\n",
    "                else:\n",
    "                    losses.append(g)\n",
    "\n",
    "    num_scores=min(len(wins),len(losses))\n",
    "    test_dataset=wins[:test_size]+losses[:test_size]\n",
    "    dataset=wins[test_size:num_scores]+losses[test_size:num_scores]\n",
    "    \n",
    "    random.shuffle(dataset)\n",
    "    random.shuffle(test_dataset)\n",
    "    dataset = np.transpose(dataset)\n",
    "    test_dataset = np.transpose(test_dataset)\n",
    "    positions=np.vstack(dataset[0])\n",
    "    test_positions=np.vstack(test_dataset[0])\n",
    "    scores=np.array(dataset[-1],dtype=float)\n",
    "    test_scores=np.array(test_dataset[-1],dtype=float)\n",
    "\n",
    "    np.save(os.path.join(datapath,'idiot_positions.npy'),positions)\n",
    "    np.save(os.path.join(datapath,'idiot_scores.npy'),scores)\n",
    "    np.save(os.path.join(datapath,'test_positions.npy'),test_positions)\n",
    "    np.save(os.path.join(datapath,'test_scores.npy'),test_scores)"
   ]
  },
  {
   "cell_type": "code",
   "execution_count": 10,
   "metadata": {},
   "outputs": [
    {
     "data": {
      "application/vnd.jupyter.widget-view+json": {
       "model_id": "a505c92db47340ca90ccda563bc6d893"
      }
     },
     "metadata": {},
     "output_type": "display_data"
    },
    {
     "name": "stdout",
     "output_type": "stream",
     "text": [
      "\n"
     ]
    }
   ],
   "source": [
    "#Generate Idiot Data\n",
    "games=10000\n",
    "bot1=IdiotBot()\n",
    "bot2=IdiotBot()\n",
    "\n",
    "fname='data/idiot_games.txt'\n",
    "\n",
    "# Generate random legal game data\n",
    "for g in tqdm_notebook(range(games)):\n",
    "    game = RazzleDazzleGame(bot1, bot2)\n",
    "    game.play()\n",
    "\n",
    "    with open(fname,'a') as f:\n",
    "        f.write(str(game)+\"\\n\")"
   ]
  },
  {
   "cell_type": "code",
   "execution_count": 4,
   "metadata": {},
   "outputs": [
    {
     "data": {
      "application/vnd.jupyter.widget-view+json": {
       "model_id": "203da9bf86b74e27a3373f0d9b3be4ea"
      }
     },
     "metadata": {},
     "output_type": "display_data"
    },
    {
     "name": "stdout",
     "output_type": "stream",
     "text": [
      "\n"
     ]
    }
   ],
   "source": [
    "#generate idiot end games\n",
    "fname='data/idiot_games.txt'\n",
    "wins=[]\n",
    "losses=[]\n",
    "for game_str in tqdm_notebook(open(fname,'r')):\n",
    "    one_game=list(get_game_data(game_str))\n",
    "    for g in one_game[-10:]:\n",
    "        if g[-1]>0:\n",
    "            wins.append(g)\n",
    "        else:\n",
    "            losses.append(g)\n",
    "\n",
    "num_scores=min(len(wins),len(losses))\n",
    "test_size=4000\n",
    "test_dataset=wins[:test_size]+losses[:test_size]\n",
    "dataset=wins[test_size:num_scores]+losses[test_size:num_scores]\n",
    "random.shuffle(dataset)\n",
    "random.shuffle(test_dataset)\n",
    "dataset = np.transpose(dataset)\n",
    "test_dataset = np.transpose(test_dataset)\n",
    "positions=np.vstack(dataset[0])\n",
    "test_positions=np.vstack(test_dataset[0])\n",
    "scores=np.array(dataset[-1],dtype=float)\n",
    "test_scores=np.array(test_dataset[-1],dtype=float)\n",
    "\n",
    "np.save('data/idiot_positions.npy',positions)\n",
    "np.save('data/idiot_scores.npy',scores)\n",
    "np.save('data/test_positions.npy',test_positions)\n",
    "np.save('data/test_scores.npy',test_scores)"
   ]
  },
  {
   "cell_type": "code",
   "execution_count": null,
   "metadata": {},
   "outputs": [],
   "source": [
    "mean(scores)"
   ]
  },
  {
   "cell_type": "code",
   "execution_count": 7,
   "metadata": {},
   "outputs": [
    {
     "name": "stdout",
     "output_type": "stream",
     "text": [
      "Failed to load: test.bot\n",
      "Loading new PositionNet model\n",
      "Train: 9974/20140\t = 49.52334% correct \tLoss: 0.999997\t1/25\n",
      "Test:  3971/8000\t = 49.63750% correct\tLoss: 0.999947\n",
      "Train: 10156/20140\t = 50.42701% correct \tLoss: 0.999486\t2/25\n",
      "Test:  4047/8000\t = 50.58750% correct\tLoss: 0.999716\n",
      "Train: 10286/20140\t = 51.07249% correct \tLoss: 0.998935\t3/25\n",
      "Test:  4171/8000\t = 52.13750% correct\tLoss: 0.999471\n",
      "Train: 10390/20140\t = 51.58888% correct \tLoss: 0.998332\t4/25\n",
      "Test:  4213/8000\t = 52.66250% correct\tLoss: 0.999207\n",
      "Train: 10560/20140\t = 52.43297% correct \tLoss: 0.997594\t5/25\n",
      "Test:  4265/8000\t = 53.31250% correct\tLoss: 0.998882\n",
      "Train: 10767/20140\t = 53.46077% correct \tLoss: 0.996617\t6/25\n",
      "Test:  4336/8000\t = 54.20000% correct\tLoss: 0.998442\n",
      "Train: 11003/20140\t = 54.63257% correct \tLoss: 0.995330\t7/25\n",
      "Test:  4373/8000\t = 54.66250% correct\tLoss: 0.997849\n",
      "Train: 11279/20140\t = 56.00298% correct \tLoss: 0.993602\t8/25\n",
      "Test:  4405/8000\t = 55.06250% correct\tLoss: 0.997035\n",
      "Train: 11618/20140\t = 57.68620% correct \tLoss: 0.991126\t9/25\n",
      "Test:  4426/8000\t = 55.32500% correct\tLoss: 0.995862\n",
      "Train: 11904/20140\t = 59.10626% correct \tLoss: 0.987417\t10/25\n",
      "Test:  4467/8000\t = 55.83750% correct\tLoss: 0.994120\n",
      "Train: 12100/20140\t = 60.07944% correct \tLoss: 0.981552\t11/25\n",
      "Test:  4450/8000\t = 55.62500% correct\tLoss: 0.991458\n",
      "Train: 12329/20140\t = 61.21648% correct \tLoss: 0.971925\t12/25\n",
      "Test:  4487/8000\t = 56.08750% correct\tLoss: 0.987266\n",
      "Train: 12571/20140\t = 62.41807% correct \tLoss: 0.955428\t13/25\n",
      "Test:  4514/8000\t = 56.42500% correct\tLoss: 0.980559\n",
      "Train: 13031/20140\t = 64.70209% correct \tLoss: 0.926071\t14/25\n",
      "Test:  4639/8000\t = 57.98750% correct\tLoss: 0.970027\n",
      "Train: 13568/20140\t = 67.36842% correct \tLoss: 0.874571\t15/25\n",
      "Test:  4676/8000\t = 58.45000% correct\tLoss: 0.956892\n",
      "Train: 14169/20140\t = 70.35253% correct \tLoss: 0.804754\t16/25\n",
      "Test:  4597/8000\t = 57.46250% correct\tLoss: 0.962533\n",
      "Train: 14754/20140\t = 73.25720% correct \tLoss: 0.761579\t17/25\n",
      "Test:  4697/8000\t = 58.71250% correct\tLoss: 0.968700\n",
      "Train: 15236/20140\t = 75.65045% correct \tLoss: 0.700272\t18/25\n",
      "Test:  4807/8000\t = 60.08750% correct\tLoss: 0.985089\n",
      "Train: 15794/20140\t = 78.42105% correct \tLoss: 0.649170\t19/25\n",
      "Test:  4836/8000\t = 60.45000% correct\tLoss: 1.015426\n",
      "Train: 16329/20140\t = 81.07746% correct \tLoss: 0.614146\t20/25\n",
      "Test:  4775/8000\t = 59.68750% correct\tLoss: 1.052032\n",
      "Train: 16889/20140\t = 83.85799% correct \tLoss: 0.604847\t21/25\n",
      "Test:  4725/8000\t = 59.06250% correct\tLoss: 1.108286\n",
      "Train: 17335/20140\t = 86.07249% correct \tLoss: 0.669614\t22/25\n",
      "Test:  4644/8000\t = 58.05000% correct\tLoss: 1.166400\n",
      "Train: 17795/20140\t = 88.35650% correct \tLoss: 0.417270\t23/25\n",
      "Test:  4640/8000\t = 58.00000% correct\tLoss: 1.179444\n",
      "Train: 18388/20140\t = 91.30089% correct \tLoss: 0.289135\t24/25\n",
      "Test:  4595/8000\t = 57.43750% correct\tLoss: 1.186599\n",
      "Train: 18777/20140\t = 93.23237% correct \tLoss: 1.080955\t25/25\n",
      "Test:  4765/8000\t = 59.56250% correct\tLoss: 1.157284\n"
     ]
    }
   ],
   "source": [
    "#Train idiot with idiot data\n",
    "positions=np.load('data/idiot_positions.npy')\n",
    "scores=np.load('data/idiot_scores.npy')\n",
    "test_positions=np.load('data/test_positions.npy')\n",
    "test_scores=np.load('data/test_scores.npy')\n",
    "\n",
    "args = {}\n",
    "args['batch_size'] = 200\n",
    "args['cuda'] = False\n",
    "args['epochs'] = 25\n",
    "args['lr'] = 0.01\n",
    "args['momentum'] = 0.5\n",
    "args['log_interval'] = 10\n",
    "\n",
    "epochs=args['epochs']\n",
    "datapath=\"data/\"\n",
    "name=\"test\"\n",
    "\n",
    "fname = get_current_filename(datapath=datapath, prefix=name, suffix='.bot')\n",
    "\n",
    "bot1 = PositionBot(name)\n",
    "model = bot1.posnet\n",
    "\n",
    "\n",
    "loss_fn=nn.MSELoss()\n",
    "\n",
    "if args['cuda']:\n",
    "    model.cuda()\n",
    "optimizer = optim.SGD(model.parameters(), lr=args['lr'], momentum=args['momentum'])\n",
    "\n",
    "\n",
    "#test data/value\n",
    "test_data  = Variable (torch.from_numpy(test_positions).float())\n",
    "test_value = Variable (torch.from_numpy(test_scores).float())\n",
    "\n",
    "\n",
    "for epoch in range(epochs):\n",
    "    model.train()\n",
    "    total=0\n",
    "    correct=0\n",
    "    for ii in range(len(scores)/args['batch_size']):\n",
    "        data  = Variable (torch.from_numpy(positions[ii*args['batch_size']:(ii+1)*args['batch_size']]).float())\n",
    "        value = Variable (torch.from_numpy(scores[ii*args['batch_size']:(ii+1)*args['batch_size']]).float())\n",
    "    \n",
    "        if args['cuda']:\n",
    "            pass\n",
    "            data, value = data.cuda(), value.cuda()\n",
    "        optimizer.zero_grad()\n",
    "        output = model(data)\n",
    "        #hist(output.data.numpy(),bins=30)\n",
    "        loss = loss_fn(output, value)\n",
    "        loss.backward()\n",
    "        optimizer.step()\n",
    "\n",
    "        correct+=correct_predictions(output,value)\n",
    "        total+=len(value)\n",
    "\n",
    "    print \"Train: %d/%d\\t = %.5f%% correct \\tLoss: %.6f\\t%d/%d\" % (correct,len(scores),correct*100./len(scores),loss.data[0],epoch+1,epochs)\n",
    "    \n",
    "    model.eval()\n",
    "    test_output=model(test_data)\n",
    "    test_loss=loss_fn(test_output,test_value)\n",
    "    correct=correct_predictions(test_output,test_value)\n",
    "    total=len(test_value)    \n",
    "    print \"Test:  %d/%d\\t = %.5f%% correct\\tLoss: %.6f\" % (correct,total,correct*100./total,test_loss.data[0])\n",
    "    torch.save(model.state_dict(), 'data/test.bot')\n",
    "    "
   ]
  },
  {
   "cell_type": "code",
   "execution_count": null,
   "metadata": {},
   "outputs": [],
   "source": [
    "hist(test_output.data.numpy(),bins=30);"
   ]
  },
  {
   "cell_type": "code",
   "execution_count": 8,
   "metadata": {},
   "outputs": [
    {
     "name": "stdout",
     "output_type": "stream",
     "text": [
      "Failed to load: data/position.bot\n",
      "Loading new PositionNet model\n",
      "Failed to load: data/position2.bot\n",
      "Loading new PositionNet model\n"
     ]
    },
    {
     "data": {
      "application/vnd.jupyter.widget-view+json": {
       "model_id": "37fb0c86764646b684201013590e4c6d"
      }
     },
     "metadata": {},
     "output_type": "display_data"
    },
    {
     "name": "stdout",
     "output_type": "stream",
     "text": [
      "\n",
      "-20\n",
      "158.16\n"
     ]
    }
   ],
   "source": [
    "bot1 = IdiotBot()\n",
    "bot2 = PositionBot('test',path='data/')\n",
    "bot3 = PositionBot('position',path='data/')\n",
    "bot4 = PositionBot('position2',path='data/')\n",
    "\n",
    "\n",
    "\n",
    "#bot1.posnet.load_state_dict(torch.load('data/test.bot'))\n",
    "\n",
    "score=0\n",
    "game_length=[]\n",
    "for ii in tqdm_notebook(range(100)):\n",
    "    game=RazzleDazzleGame(bot1,bot2)\n",
    "    game.play()\n",
    "    score+=game.winner\n",
    "    game_length.append(len(game))\n",
    "\n",
    "print score\n",
    "print mean(game_length)"
   ]
  },
  {
   "cell_type": "code",
   "execution_count": 9,
   "metadata": {},
   "outputs": [
    {
     "name": "stdout",
     "output_type": "stream",
     "text": [
      "Failed to load: data/position.bot\n",
      "Loading new PositionNet model\n",
      "Failed to load: data/position.bot\n",
      "Loading new PositionNet model\n"
     ]
    },
    {
     "data": {
      "application/vnd.jupyter.widget-view+json": {
       "model_id": "2215495f17614921b5ec5fd123d701e0"
      }
     },
     "metadata": {},
     "output_type": "display_data"
    },
    {
     "name": "stdout",
     "output_type": "stream",
     "text": [
      "\n"
     ]
    },
    {
     "ename": "KeyboardInterrupt",
     "evalue": "",
     "output_type": "error",
     "traceback": [
      "\u001b[0;31m\u001b[0m",
      "\u001b[0;31mKeyboardInterrupt\u001b[0mTraceback (most recent call last)",
      "\u001b[0;32m<ipython-input-9-61c25b15c43e>\u001b[0m in \u001b[0;36m<module>\u001b[0;34m()\u001b[0m\n\u001b[1;32m      9\u001b[0m \u001b[0;32mfor\u001b[0m \u001b[0mg\u001b[0m \u001b[0;32min\u001b[0m \u001b[0mtqdm_notebook\u001b[0m\u001b[0;34m(\u001b[0m\u001b[0mrange\u001b[0m\u001b[0;34m(\u001b[0m\u001b[0mgames\u001b[0m\u001b[0;34m)\u001b[0m\u001b[0;34m)\u001b[0m\u001b[0;34m:\u001b[0m\u001b[0;34m\u001b[0m\u001b[0m\n\u001b[1;32m     10\u001b[0m     \u001b[0mgame\u001b[0m \u001b[0;34m=\u001b[0m \u001b[0mRazzleDazzleGame\u001b[0m\u001b[0;34m(\u001b[0m\u001b[0mbot1\u001b[0m\u001b[0;34m,\u001b[0m \u001b[0mbot2\u001b[0m\u001b[0;34m)\u001b[0m\u001b[0;34m\u001b[0m\u001b[0m\n\u001b[0;32m---> 11\u001b[0;31m     \u001b[0mgame\u001b[0m\u001b[0;34m.\u001b[0m\u001b[0mplay\u001b[0m\u001b[0;34m(\u001b[0m\u001b[0;34m)\u001b[0m\u001b[0;34m\u001b[0m\u001b[0m\n\u001b[0m\u001b[1;32m     12\u001b[0m \u001b[0;34m\u001b[0m\u001b[0m\n\u001b[1;32m     13\u001b[0m     \u001b[0;32mwith\u001b[0m \u001b[0mopen\u001b[0m\u001b[0;34m(\u001b[0m\u001b[0mfname\u001b[0m\u001b[0;34m,\u001b[0m\u001b[0;34m'a'\u001b[0m\u001b[0;34m)\u001b[0m \u001b[0;32mas\u001b[0m \u001b[0mf\u001b[0m\u001b[0;34m:\u001b[0m\u001b[0;34m\u001b[0m\u001b[0m\n",
      "\u001b[0;32m/home/dave/Dropbox/UofC/code/razzledazzle/rd_model.pyc\u001b[0m in \u001b[0;36mplay\u001b[0;34m(self)\u001b[0m\n\u001b[1;32m    175\u001b[0m             \u001b[0mturn\u001b[0m \u001b[0;34m*=\u001b[0m \u001b[0;34m-\u001b[0m\u001b[0;36m1\u001b[0m\u001b[0;34m\u001b[0m\u001b[0m\n\u001b[1;32m    176\u001b[0m             \u001b[0;32mif\u001b[0m \u001b[0mturn\u001b[0m \u001b[0;34m==\u001b[0m \u001b[0;36m1\u001b[0m\u001b[0;34m:\u001b[0m\u001b[0;34m\u001b[0m\u001b[0m\n\u001b[0;32m--> 177\u001b[0;31m                 \u001b[0mm\u001b[0m \u001b[0;34m=\u001b[0m \u001b[0mself\u001b[0m\u001b[0;34m.\u001b[0m\u001b[0mplayer1\u001b[0m\u001b[0;34m.\u001b[0m\u001b[0mget_move\u001b[0m\u001b[0;34m(\u001b[0m\u001b[0mself\u001b[0m\u001b[0;34m.\u001b[0m\u001b[0mposition\u001b[0m\u001b[0;34m)\u001b[0m\u001b[0;34m\u001b[0m\u001b[0m\n\u001b[0m\u001b[1;32m    178\u001b[0m                 \u001b[0mself\u001b[0m\u001b[0;34m.\u001b[0m\u001b[0mposition\u001b[0m \u001b[0;34m=\u001b[0m \u001b[0mself\u001b[0m\u001b[0;34m.\u001b[0m\u001b[0mposition\u001b[0m\u001b[0;34m.\u001b[0m\u001b[0mmove\u001b[0m\u001b[0;34m(\u001b[0m\u001b[0mm\u001b[0m\u001b[0;34m)\u001b[0m\u001b[0;34m\u001b[0m\u001b[0m\n\u001b[1;32m    179\u001b[0m                 \u001b[0mself\u001b[0m\u001b[0;34m.\u001b[0m\u001b[0mmoves\u001b[0m\u001b[0;34m.\u001b[0m\u001b[0mappend\u001b[0m\u001b[0;34m(\u001b[0m\u001b[0mself\u001b[0m\u001b[0;34m.\u001b[0m\u001b[0mposition\u001b[0m\u001b[0;34m.\u001b[0m\u001b[0mmove_str\u001b[0m\u001b[0;34m(\u001b[0m\u001b[0mm\u001b[0m\u001b[0;34m)\u001b[0m\u001b[0;34m)\u001b[0m\u001b[0;34m\u001b[0m\u001b[0m\n",
      "\u001b[0;32m/home/dave/Dropbox/UofC/code/razzledazzle/rd_bots.py\u001b[0m in \u001b[0;36mget_move\u001b[0;34m(self, position)\u001b[0m\n\u001b[1;32m    130\u001b[0m \u001b[0;34m\u001b[0m\u001b[0m\n\u001b[1;32m    131\u001b[0m     \u001b[0;32mdef\u001b[0m \u001b[0mget_move\u001b[0m\u001b[0;34m(\u001b[0m\u001b[0mself\u001b[0m\u001b[0;34m,\u001b[0m \u001b[0mposition\u001b[0m\u001b[0;34m)\u001b[0m\u001b[0;34m:\u001b[0m\u001b[0;34m\u001b[0m\u001b[0m\n\u001b[0;32m--> 132\u001b[0;31m         \u001b[0mmoves\u001b[0m \u001b[0;34m=\u001b[0m \u001b[0mlist\u001b[0m\u001b[0;34m(\u001b[0m\u001b[0mposition\u001b[0m\u001b[0;34m.\u001b[0m\u001b[0mgenerate_moves\u001b[0m\u001b[0;34m(\u001b[0m\u001b[0;34m)\u001b[0m\u001b[0;34m)\u001b[0m\u001b[0;34m\u001b[0m\u001b[0m\n\u001b[0m\u001b[1;32m    133\u001b[0m         \u001b[0mpositions\u001b[0m \u001b[0;34m=\u001b[0m \u001b[0;34m[\u001b[0m\u001b[0mposition\u001b[0m\u001b[0;34m.\u001b[0m\u001b[0mmove\u001b[0m\u001b[0;34m(\u001b[0m\u001b[0mm\u001b[0m\u001b[0;34m)\u001b[0m\u001b[0;34m.\u001b[0m\u001b[0mrotate\u001b[0m\u001b[0;34m(\u001b[0m\u001b[0;34m)\u001b[0m \u001b[0;32mfor\u001b[0m \u001b[0mm\u001b[0m \u001b[0;32min\u001b[0m \u001b[0mmoves\u001b[0m\u001b[0;34m]\u001b[0m\u001b[0;34m\u001b[0m\u001b[0m\n\u001b[1;32m    134\u001b[0m         \u001b[0mweights\u001b[0m \u001b[0;34m=\u001b[0m \u001b[0;34m(\u001b[0m\u001b[0;36m1.\u001b[0m\u001b[0;34m-\u001b[0m\u001b[0mself\u001b[0m\u001b[0;34m.\u001b[0m\u001b[0meval_positions\u001b[0m\u001b[0;34m(\u001b[0m\u001b[0mpositions\u001b[0m\u001b[0;34m)\u001b[0m\u001b[0;34m)\u001b[0m\u001b[0;34m/\u001b[0m\u001b[0;36m2.\u001b[0m\u001b[0;34m\u001b[0m\u001b[0m\n",
      "\u001b[0;32m/home/dave/Dropbox/UofC/code/razzledazzle/rd_model.pyc\u001b[0m in \u001b[0;36mgenerate_moves\u001b[0;34m(self)\u001b[0m\n\u001b[1;32m     77\u001b[0m             \u001b[0mpx\u001b[0m\u001b[0;34m,\u001b[0m \u001b[0mpy\u001b[0m \u001b[0;34m=\u001b[0m \u001b[0mploc\u001b[0m \u001b[0;34m%\u001b[0m \u001b[0;36m7\u001b[0m\u001b[0;34m,\u001b[0m \u001b[0mploc\u001b[0m \u001b[0;34m//\u001b[0m \u001b[0;36m7\u001b[0m\u001b[0;34m\u001b[0m\u001b[0m\n\u001b[1;32m     78\u001b[0m             \u001b[0;32mif\u001b[0m \u001b[0mp\u001b[0m\u001b[0;34m[\u001b[0m\u001b[0;34m-\u001b[0m\u001b[0;36m1\u001b[0m\u001b[0;34m]\u001b[0m \u001b[0;34m<\u001b[0m \u001b[0;36m0.5\u001b[0m\u001b[0;34m:\u001b[0m  \u001b[0;31m# doesn't have ball\u001b[0m\u001b[0;34m\u001b[0m\u001b[0m\n\u001b[0;32m---> 79\u001b[0;31m                 \u001b[0mnew_ps\u001b[0m \u001b[0;34m=\u001b[0m \u001b[0mnp\u001b[0m\u001b[0;34m.\u001b[0m\u001b[0marray\u001b[0m\u001b[0;34m(\u001b[0m\u001b[0;34m[\u001b[0m\u001b[0mpx\u001b[0m\u001b[0;34m,\u001b[0m \u001b[0mpy\u001b[0m\u001b[0;34m]\u001b[0m\u001b[0;34m)\u001b[0m \u001b[0;34m+\u001b[0m \u001b[0mPosition\u001b[0m\u001b[0;34m.\u001b[0m\u001b[0mPDIRS\u001b[0m\u001b[0;34m\u001b[0m\u001b[0m\n\u001b[0m\u001b[1;32m     80\u001b[0m \u001b[0;34m\u001b[0m\u001b[0m\n\u001b[1;32m     81\u001b[0m                 \u001b[0;32mfor\u001b[0m \u001b[0mnewp\u001b[0m \u001b[0;32min\u001b[0m \u001b[0mnew_ps\u001b[0m\u001b[0;34m:\u001b[0m\u001b[0;34m\u001b[0m\u001b[0m\n",
      "\u001b[0;31mKeyboardInterrupt\u001b[0m: "
     ]
    }
   ],
   "source": [
    "#Generate PositionBot Data\n",
    "games=1000\n",
    "bot1=PositionBot('position',path='data/')\n",
    "bot2=PositionBot('position',path='data/')\n",
    "\n",
    "fname='data/pbot2_games.txt'\n",
    "\n",
    "# Generate random legal game data\n",
    "for g in tqdm_notebook(range(games)):\n",
    "    game = RazzleDazzleGame(bot1, bot2)\n",
    "    game.play()\n",
    "\n",
    "    with open(fname,'a') as f:\n",
    "        f.write(str(game)+\"\\n\")"
   ]
  },
  {
   "cell_type": "code",
   "execution_count": null,
   "metadata": {},
   "outputs": [],
   "source": [
    "#generate position end games\n",
    "fname='data/pbot2_games.txt'\n",
    "moves_from_end=20\n",
    "wins=[]\n",
    "losses=[]\n",
    "for game_str in tqdm_notebook(open(fname,'r')):\n",
    "    one_game=list(get_game_data(game_str))\n",
    "    for g in one_game[-moves_from_end:]:\n",
    "        if g[-1]>0:\n",
    "            wins.append(g)\n",
    "        else:\n",
    "            losses.append(g)\n",
    "\n",
    "num_scores=min(len(wins),len(losses))\n",
    "test_size=2000\n",
    "test_dataset=wins[:test_size]+losses[:test_size]\n",
    "dataset=wins[test_size:num_scores]+losses[test_size:num_scores]\n",
    "random.shuffle(dataset)\n",
    "random.shuffle(test_dataset)\n",
    "dataset = np.transpose(dataset)\n",
    "test_dataset = np.transpose(test_dataset)\n",
    "positions=np.vstack(dataset[0])\n",
    "test_positions=np.vstack(test_dataset[0])\n",
    "scores=np.array(dataset[-1],dtype=float)\n",
    "test_scores=np.array(test_dataset[-1],dtype=float)\n",
    "\n",
    "np.save('data/pbot2_positions.npy',positions)\n",
    "np.save('data/pbot2_scores.npy',scores)\n",
    "np.save('data/pbot2_test_positions.npy',test_positions)\n",
    "np.save('data/pbot2_test_scores.npy',test_scores)"
   ]
  },
  {
   "cell_type": "code",
   "execution_count": null,
   "metadata": {},
   "outputs": [],
   "source": [
    "#Train idiot with idiot data\n",
    "positions=np.load('data/pbot2_positions.npy')\n",
    "scores=np.load('data/pbot2_scores.npy')\n",
    "test_positions=np.load('data/pbot2_test_positions.npy')\n",
    "test_scores=np.load('data/pbot2_test_scores.npy')\n",
    "\n",
    "args = {}\n",
    "args['batch_size'] = 200\n",
    "args['cuda'] = False\n",
    "args['epochs'] = 25\n",
    "args['lr'] = 0.001\n",
    "args['momentum'] = 0.5\n",
    "args['log_interval'] = 10\n",
    "\n",
    "epochs=args['epochs']\n",
    "datapath=\"data/\"\n",
    "name=\"position\"\n",
    "\n",
    "bot1 = PositionBot(\"test\",path=datapath)\n",
    "model = bot1.posnet\n",
    "\n",
    "\n",
    "loss_fn=nn.MSELoss()\n",
    "\n",
    "if args['cuda']:\n",
    "    model.cuda()\n",
    "optimizer = optim.SGD(model.parameters(), lr=args['lr'], momentum=args['momentum'])\n",
    "\n",
    "\n",
    "#test data/value\n",
    "test_data  = Variable (torch.from_numpy(test_positions).float())\n",
    "test_value = Variable (torch.from_numpy(test_scores).float())\n",
    "\n",
    "\n",
    "for epoch in range(epochs):\n",
    "    model.train()\n",
    "    total=0\n",
    "    correct=0\n",
    "    for ii in range(len(scores)/args['batch_size']):\n",
    "        data  = Variable (torch.from_numpy(positions[ii*args['batch_size']:(ii+1)*args['batch_size']]).float())\n",
    "        value = Variable (torch.from_numpy(scores[ii*args['batch_size']:(ii+1)*args['batch_size']]).float())\n",
    "    \n",
    "        if args['cuda']:\n",
    "            pass\n",
    "            data, value = data.cuda(), value.cuda()\n",
    "        optimizer.zero_grad()\n",
    "        output = model(data)\n",
    "        #hist(output.data.numpy(),bins=30)\n",
    "        loss = loss_fn(output, value)\n",
    "        loss.backward()\n",
    "        optimizer.step()\n",
    "\n",
    "        correct+=correct_predictions(output,value)\n",
    "        total+=len(value)\n",
    "\n",
    "    print \"Train: %d/%d\\t = %.5f%% correct \\tLoss: %.6f\\t%d/%d\" % (correct,len(scores),correct*100./len(scores),loss.data[0],epoch+1,epochs)\n",
    "    \n",
    "    model.eval()\n",
    "    test_output=model(test_data)\n",
    "    test_loss=loss_fn(test_output,test_value)\n",
    "    correct=correct_predictions(test_output,test_value)\n",
    "    total=len(test_value)    \n",
    "    print \"Test:  %d/%d\\t = %.5f%% correct\\tLoss: %.6f\" % (correct,total,correct*100./total,test_loss.data[0])\n",
    "    torch.save(model.state_dict(), 'data/position2.bot')"
   ]
  },
  {
   "cell_type": "code",
   "execution_count": null,
   "metadata": {
    "collapsed": true
   },
   "outputs": [],
   "source": []
  }
 ],
 "metadata": {
  "kernelspec": {
   "display_name": "Python 2",
   "language": "python",
   "name": "python2"
  },
  "language_info": {
   "codemirror_mode": {
    "name": "ipython",
    "version": 2
   },
   "file_extension": ".py",
   "mimetype": "text/x-python",
   "name": "python",
   "nbconvert_exporter": "python",
   "pygments_lexer": "ipython2",
   "version": "2.7.12"
  }
 },
 "nbformat": 4,
 "nbformat_minor": 2
}
