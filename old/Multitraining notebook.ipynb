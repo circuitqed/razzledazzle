{
 "cells": [
  {
   "cell_type": "code",
   "execution_count": 1,
   "metadata": {},
   "outputs": [
    {
     "name": "stdout",
     "output_type": "stream",
     "text": [
      "Populating the interactive namespace from numpy and matplotlib\n"
     ]
    },
    {
     "ename": "ImportError",
     "evalue": "No module named rd_model",
     "traceback": [
      "\u001b[0;31m---------------------------------------------------------------------------\u001b[0m",
      "\u001b[0;31mImportError\u001b[0m                               Traceback (most recent call last)",
      "\u001b[0;32m<ipython-input-1-033f29e2d03d>\u001b[0m in \u001b[0;36m<module>\u001b[0;34m()\u001b[0m\n\u001b[1;32m      3\u001b[0m \u001b[0;32mimport\u001b[0m \u001b[0mos\u001b[0m\u001b[0;34m.\u001b[0m\u001b[0mpath\u001b[0m\u001b[0;34m\u001b[0m\u001b[0m\n\u001b[1;32m      4\u001b[0m \u001b[0;34m\u001b[0m\u001b[0m\n\u001b[0;32m----> 5\u001b[0;31m \u001b[0;32mfrom\u001b[0m \u001b[0mrd_model\u001b[0m \u001b[0;32mimport\u001b[0m \u001b[0mRazzleDazzleGame\u001b[0m\u001b[0;34m,\u001b[0m \u001b[0mPosition\u001b[0m\u001b[0;34m\u001b[0m\u001b[0m\n\u001b[0m\u001b[1;32m      6\u001b[0m \u001b[0;32mfrom\u001b[0m \u001b[0mrd_bots\u001b[0m \u001b[0;32mimport\u001b[0m \u001b[0mPositionBot\u001b[0m\u001b[0;34m,\u001b[0m \u001b[0mPositionNet\u001b[0m\u001b[0;34m,\u001b[0m \u001b[0mIdiotBot\u001b[0m\u001b[0;34m\u001b[0m\u001b[0m\n\u001b[1;32m      7\u001b[0m \u001b[0;32mfrom\u001b[0m \u001b[0mrd_helpers\u001b[0m \u001b[0;32mimport\u001b[0m \u001b[0;34m*\u001b[0m\u001b[0;34m\u001b[0m\u001b[0m\n",
      "\u001b[0;31mImportError\u001b[0m: No module named rd_model"
     ],
     "output_type": "error"
    }
   ],
   "source": [
    "%pylab inline\n",
    "from tqdm import tqdm_notebook\n",
    "import os.path\n",
    "\n",
    "from rd_model import RazzleDazzleGame, Position\n",
    "from rd_bots import PositionBot, PositionNet, IdiotBot\n",
    "from rd_helpers import *\n",
    "\n",
    "from multiprocessing import Pool\n",
    "\n",
    "import torch\n",
    "import torch.nn as nn\n",
    "import torch.nn.functional as F\n",
    "import torch.optim as optim\n",
    "from torch.autograd import Variable\n",
    "import random\n",
    "import numpy as np"
   ]
  },
  {
   "cell_type": "code",
   "execution_count": 2,
   "metadata": {},
   "outputs": [],
   "source": [
    "def correct_predictions(output,actual):\n",
    "    return np.sum(1-np.floor(np.abs(output.flatten()-actual.flatten())))\n",
    "\n",
    "def generate_game(bot1,bot2):\n",
    "    game = RazzleDazzleGame(bot1, bot2)\n",
    "    game.play()\n",
    "    return game\n",
    "\n",
    "def get_game_data(game_str):\n",
    "    gd=[]\n",
    "    if game_str.strip()[-1] == '8':  # get value\n",
    "        v = 1\n",
    "    else:\n",
    "        v = -1\n",
    "    pos = Position(score=v)\n",
    "    white_move = True\n",
    "    for ms in game_str.split(','):\n",
    "        m = pos.parse_move(ms)\n",
    "        if not white_move:\n",
    "            m = pos.rotate_move(m)\n",
    "\n",
    "        gd.append([pos.state.flatten(), pos.get_piece_on_square(m[0]), m[-1], v])\n",
    "        pos=pos.move(m)\n",
    "        pos.rotate()\n",
    "    \n",
    "    return gd\n",
    "\n",
    "def generate_games(bot1,bot2, games, fname, path):\n",
    "    game_lengths=[]\n",
    "    wins=0\n",
    "    losses=0\n",
    "    print \"Generating %d games of %s vs. %s, stored at %s\" % (games, bot1.name,bot2.name, os.path.join(path,fname))\n",
    "    games=[pool.apply_async(generate_game, args=(bot1,bot2)) for ii in range(games)]\n",
    "    for game in tqdm_notebook(games):\n",
    "        game=game.get()\n",
    "        game_lengths.append(len(game))\n",
    "        if game.winner>0:\n",
    "            wins+=1\n",
    "        else:\n",
    "            losses+=1\n",
    "        with open(os.path.join(path,fname),'a') as f:\n",
    "            f.write(str(game)+'\\n')\n",
    "    print \"Stats: mean game length = %d, win/loss = %d / %d\" % (np.mean(game_lengths),wins,losses)\n",
    "\n",
    "            \n",
    "def generate_dataset(prefix,path, test_size, moves_before_end):\n",
    "    fname=os.path.join(path,prefix + \".txt\")\n",
    "    wins=[]\n",
    "    losses=[]\n",
    "    \n",
    "    gds=[]\n",
    "    with open(fname,'r') as f:\n",
    "        gds = [pool.apply_async(get_game_data,args=(gs,)) for gs in f]\n",
    "\n",
    "    for g in tqdm_notebook(gds):\n",
    "        g=g.get()\n",
    "        for p in g[-moves_before_end:]:\n",
    "            if p[-1]>0:\n",
    "                wins.append(p)\n",
    "            else:\n",
    "                losses.append(p)\n",
    "\n",
    "    num_scores=min(len(wins),len(losses))\n",
    "    test_dataset=wins[:test_size]+losses[:test_size]\n",
    "    dataset=wins[test_size:num_scores]+losses[test_size:num_scores]\n",
    "    random.shuffle(dataset)\n",
    "    random.shuffle(test_dataset)\n",
    "    dataset = np.transpose(dataset)\n",
    "    test_dataset = np.transpose(test_dataset)\n",
    "    positions=np.vstack(dataset[0])\n",
    "    test_positions=np.vstack(test_dataset[0])\n",
    "    scores=np.array(dataset[-1],dtype=float)\n",
    "    test_scores=np.array(test_dataset[-1],dtype=float)\n",
    "\n",
    "    np.savez_compressed(os.path.join(path,prefix+\"_dataset.npz\"), \n",
    "                        positions=positions, scores=scores, \n",
    "                        test_positions=test_positions,test_scores=test_scores)\n",
    "    \n",
    "    return (positions,scores,test_positions,test_scores)\n",
    "\n",
    "pool=Pool(processes=8)"
   ]
  },
  {
   "cell_type": "code",
   "execution_count": 3,
   "metadata": {
    "collapsed": true
   },
   "outputs": [],
   "source": [
    "def train_position_iteration(name,datapath,batch_size,epochs,lr=0.001,momentum=0.5,log_interval=10,cuda=False):\n",
    "    \n",
    "    index=current_file_index(datapath,prefix=name)\n",
    "    fname = get_current_filename(datapath=datapath, prefix=name, suffix='.bot')\n",
    "    fname_out = get_next_filename(datapath=datapath, prefix=name, suffix='.bot')\n",
    "\n",
    "    with np.load(os.path.join(datapath,name+'_dataset.npz')) as f:\n",
    "        positions,scores,test_positions,test_scores=f['positions'],f['scores'],f['test_positions'],f['test_scores']\n",
    "    \n",
    "    bot1 = PositionBot(fname,path=datapath)\n",
    "    model = bot1.posnet\n",
    "    print \"Training: \" + fname\n",
    "    print \"Training size: %d\\t Test size: %d\" % (len(scores),len(test_scores))\n",
    "\n",
    "    loss_fn=nn.MSELoss()\n",
    "\n",
    "    if cuda:\n",
    "        model.cuda()\n",
    "    optimizer = optim.SGD(model.parameters(), lr=lr, momentum=momentum)\n",
    "\n",
    "\n",
    "    #test data/value\n",
    "    test_data  = torch.from_numpy(test_positions).float()\n",
    "    test_value = torch.from_numpy(test_scores).float()\n",
    "    if cuda:\n",
    "        test_data, test_value = test_data.cuda(), test_value.cuda()            \n",
    "    test_data, test_value = Variable(test_data), Variable(test_value)\n",
    "            \n",
    "    for epoch in range(epochs):\n",
    "        model.train()\n",
    "        total=0\n",
    "        correct=0\n",
    "        for ii in range(len(scores)/batch_size):\n",
    "            data  = torch.from_numpy(positions[ii*batch_size:(ii+1)*batch_size]).float()\n",
    "            value = torch.from_numpy(scores[ii*batch_size:(ii+1)*batch_size]).float()\n",
    "            if cuda:\n",
    "                data, value = data.cuda(), value.cuda()            \n",
    "            data, value = Variable(data), Variable(value)\n",
    "            \n",
    "            optimizer.zero_grad()\n",
    "            output = model(data)\n",
    "            loss = loss_fn(output, value)\n",
    "            loss.backward()\n",
    "            optimizer.step()\n",
    "\n",
    "            correct+=correct_predictions(output.data.cpu().numpy(),value.data.cpu().numpy())\n",
    "            total+=len(value.data.cpu().numpy())\n",
    "\n",
    "        if epoch % log_interval == log_interval-1:\n",
    "            print \"Train:\\t%.3f%% correct\\tLoss: %.6f\\t%d/%d\" % (correct*100./total,loss.data[0],epoch+1,epochs)\n",
    "\n",
    "        model.eval()\n",
    "        test_output=model(test_data)\n",
    "        test_loss=loss_fn(test_output,test_value)\n",
    "        correct=correct_predictions(test_output.data.cpu().numpy(),test_value.data.cpu().numpy())\n",
    "        total=len(test_value.data.cpu().numpy())    \n",
    "        \n",
    "        if epoch % log_interval == log_interval-1:\n",
    "            print \"Test:\\t%.3f%% correct\\tLoss: %.6f\" % (correct*100./total,test_loss.data[0])\n",
    "    \n",
    "    \n",
    "    print \"Saving trained bot as: \" + fname_out\n",
    "    torch.save(model.state_dict(), os.path.join(datapath,fname_out))\n",
    "    \n",
    "    #return test_output,test_value"
   ]
  },
  {
   "cell_type": "code",
   "execution_count": 9,
   "metadata": {},
   "outputs": [
    {
     "name": "stdout",
     "output_type": "stream",
     "text": [
      "Generating 10000 games of Idiot vs. Idiot, stored at data/iterative.txt\n"
     ]
    },
    {
     "data": {},
     "metadata": {},
     "output_type": "display_data"
    },
    {
     "name": "stdout",
     "output_type": "stream",
     "text": [
      "\n",
      "Stats: mean game length = 217, win/loss = 4765 / 5235\n"
     ]
    },
    {
     "data": {},
     "metadata": {},
     "output_type": "display_data"
    },
    {
     "name": "stdout",
     "output_type": "stream",
     "text": [
      "\n",
      "Failed to load: data/00000_iterative.bot\n",
      "Loading new PositionNet model\n",
      "Training: 00000_iterative.bot\n",
      "Training size: 93300\t Test size: 2000\n",
      "Train:\t99.068% correct\tLoss: 0.012161\t5/25\n",
      "Test:\t71.150% correct\tLoss: 0.928609\n",
      "Train:\t100.000% correct\tLoss: 0.000936\t10/25\n",
      "Test:\t72.400% correct\tLoss: 0.896846\n",
      "Train:\t100.000% correct\tLoss: 0.000412\t15/25\n",
      "Test:\t72.800% correct\tLoss: 0.904899\n",
      "Train:\t100.000% correct\tLoss: 0.000253\t20/25\n",
      "Test:\t72.800% correct\tLoss: 0.909288\n",
      "Train:\t100.000% correct\tLoss: 0.000179\t25/25\n",
      "Test:\t72.800% correct\tLoss: 0.912320\n",
      "Saving trained bot as: 00000_iterative.bot\n"
     ]
    }
   ],
   "source": [
    "games=10000\n",
    "name='iterative'\n",
    "path='data/'\n",
    "\n",
    "# Generate some seed data\n",
    "ib1=IdiotBot()\n",
    "ib2=IdiotBot()\n",
    "generate_games(ib1,ib2,games,name+'.txt',path)\n",
    "(positions,scores,test_positions,test_scores)=generate_dataset(name,'data/',test_size=1000, moves_before_end=10)\n",
    "train_position_iteration(name=name,datapath='data/',batch_size=200,epochs=25,lr=0.01,momentum=0.5,log_interval=5,cuda=True)\n"
   ]
  },
  {
   "cell_type": "code",
   "execution_count": null,
   "metadata": {},
   "outputs": [],
   "source": [
    "train_position_iteration(name=name,datapath='data/',batch_size=200,epochs=25,lr=0.01,momentum=0.5,log_interval=5,cuda=True)"
   ]
  },
  {
   "cell_type": "code",
   "execution_count": 10,
   "metadata": {},
   "outputs": [
    {
     "name": "stdout",
     "output_type": "stream",
     "text": [
      "Generating 100 games of 00000_iterative.bot vs. Idiot, stored at data/00000_iterative.bot.txt\n"
     ]
    },
    {
     "data": {},
     "metadata": {},
     "output_type": "display_data"
    },
    {
     "name": "stdout",
     "output_type": "stream",
     "text": [
      "\n",
      "Stats: mean game length = 229, win/loss = 43 / 57\n"
     ]
    }
   ],
   "source": [
    "games=100\n",
    "name='iterative'\n",
    "path='data/'\n",
    "fname = get_current_filename(datapath='data/', prefix=name, suffix='.bot')\n",
    "b1 = PositionBot(fname,path='data/')\n",
    "b2 = PositionBot(fname,path='data/')\n",
    "generate_games(b1,IdiotBot(),games,fname+'.txt',path)\n"
   ]
  },
  {
   "cell_type": "code",
   "execution_count": null,
   "metadata": {
    "collapsed": true
   },
   "outputs": [],
   "source": [
    "games=1000\n",
    "for ii in range(20):\n",
    "    fname = get_current_filename(datapath='data/', prefix=name, suffix='.bot')\n",
    "    b1 = PositionBot(fname,path='data/')\n",
    "    b2 = PositionBot(fname,path='data/')\n",
    "    generate_games(b1,b2,games,fname+'.txt',path)\n",
    "    (positions,scores,test_positions,test_scores)=generate_dataset(fname,'data/',test_size=1000, moves_before_end=10)\n",
    "    train_position_iteration(name=name,datapath='data/',batch_size=200,epochs=50,lr=0.001,momentum=0.5,log_interval=10,cuda=True)"
   ]
  }
 ],
 "metadata": {
  "kernelspec": {
   "display_name": "Python 2",
   "language": "python",
   "name": "python2"
  },
  "language_info": {
   "codemirror_mode": {
    "name": "ipython",
    "version": 2
   },
   "file_extension": ".py",
   "mimetype": "text/x-python",
   "name": "python",
   "nbconvert_exporter": "python",
   "pygments_lexer": "ipython2",
   "version": "2.7.12"
  }
 },
 "nbformat": 4,
 "nbformat_minor": 2
}
