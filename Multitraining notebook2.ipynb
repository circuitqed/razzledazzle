{
 "cells": [
  {
   "cell_type": "code",
   "execution_count": 1,
   "metadata": {},
   "outputs": [
    {
     "name": "stdout",
     "output_type": "stream",
     "text": [
      "Populating the interactive namespace from numpy and matplotlib\n"
     ]
    }
   ],
   "source": [
    "%pylab inline\n",
    "from tqdm import tqdm_notebook\n",
    "import os.path\n",
    "\n",
    "from rd_model import RazzleDazzleGame, Position\n",
    "from rd_bots import PositionBot, PositionNet, IdiotBot\n",
    "from rd_helpers import *\n",
    "\n",
    "from multiprocessing import Pool\n",
    "\n",
    "import torch\n",
    "import torch.nn as nn\n",
    "import torch.nn.functional as F\n",
    "import torch.optim as optim\n",
    "from torch.autograd import Variable\n",
    "import random\n",
    "import numpy as np"
   ]
  },
  {
   "cell_type": "code",
   "execution_count": 2,
   "metadata": {},
   "outputs": [],
   "source": [
    "def correct_predictions(output,actual):\n",
    "    return np.sum(1-np.floor(np.abs(output.flatten()-actual.flatten())))\n",
    "\n",
    "def generate_game(bot1,bot2):\n",
    "    game = RazzleDazzleGame(bot1, bot2)\n",
    "    game.play()\n",
    "    return game\n",
    "\n",
    "def get_game_data(game_str):\n",
    "    gd=[]\n",
    "    if game_str.strip()[-1] == '8':  # get value\n",
    "        v = 1\n",
    "    else:\n",
    "        v = -1\n",
    "    pos = Position(score=v)\n",
    "    white_move = True\n",
    "    for ms in game_str.split(','):\n",
    "        m = pos.parse_move(ms)\n",
    "        if not white_move:\n",
    "            m = pos.rotate_move(m)\n",
    "\n",
    "        gd.append([pos.state.flatten(), pos.get_piece_on_square(m[0]), m[-1], v])\n",
    "        pos=pos.move(m)\n",
    "        pos.rotate()\n",
    "    \n",
    "    return gd\n",
    "\n",
    "def generate_games(bot1,bot2, games, fname, path):\n",
    "    game_lengths=[]\n",
    "    wins=0\n",
    "    losses=0\n",
    "    print \"Generating %d games of %s vs. %s, stored at %s\" % (games, bot1.name,bot2.name, os.path.join(path,fname))\n",
    "    games=[pool.apply_async(generate_game, args=(bot1,bot2)) for ii in range(games)]\n",
    "    for game in tqdm_notebook(games):\n",
    "        game=game.get()\n",
    "        game_lengths.append(len(game))\n",
    "        if game.winner>0:\n",
    "            wins+=1\n",
    "        else:\n",
    "            losses+=1\n",
    "        with open(os.path.join(path,fname),'a') as f:\n",
    "            f.write(str(game)+'\\n')\n",
    "    print \"Stats: mean game length = %d, win/loss = %d / %d\" % (np.mean(game_lengths),wins,losses)\n",
    "\n",
    "            \n",
    "def generate_dataset_old(prefix,path, test_size, moves_before_end):\n",
    "    fname=os.path.join(path,prefix + \".txt\")\n",
    "    wins=[]\n",
    "    losses=[]\n",
    "    \n",
    "    gds=[]\n",
    "    with open(fname,'r') as f:\n",
    "        gds = [pool.apply_async(get_game_data,args=(gs,)) for gs in f]\n",
    "\n",
    "    for g in tqdm_notebook(gds):\n",
    "        g=g.get()\n",
    "        for p in g[-moves_before_end:]:\n",
    "            if p[-1]>0:\n",
    "                wins.append(p)\n",
    "            else:\n",
    "                losses.append(p)\n",
    "\n",
    "    num_scores=min(len(wins),len(losses))\n",
    "    test_dataset=wins[:test_size]+losses[:test_size]\n",
    "    dataset=wins[test_size:num_scores]+losses[test_size:num_scores]\n",
    "    random.shuffle(dataset)\n",
    "    random.shuffle(test_dataset)\n",
    "    dataset = np.transpose(dataset)\n",
    "    test_dataset = np.transpose(test_dataset)\n",
    "    positions=np.vstack(dataset[0])\n",
    "    test_positions=np.vstack(test_dataset[0])\n",
    "    scores=np.array(dataset[-1],dtype=float)\n",
    "    test_scores=np.array(test_dataset[-1],dtype=float)\n",
    "\n",
    "    np.savez_compressed(os.path.join(path,prefix+\"_dataset.npz\"), \n",
    "                        positions=positions, scores=scores, \n",
    "                        test_positions=test_positions,test_scores=test_scores)\n",
    "    \n",
    "    return (positions,scores,test_positions,test_scores)\n",
    "\n",
    "def get_game_data2(game_str):\n",
    "    gd=[]\n",
    "    if game_str.strip()[-1] == '8':  # get value\n",
    "        v = 1\n",
    "    else:\n",
    "        v = -1\n",
    "    pos = Position(score=v)\n",
    "    white_move = True\n",
    "    for ms in game_str.split(','):\n",
    "        m = pos.parse_move(ms)\n",
    "        if not white_move:\n",
    "            m = pos.rotate_move(m)\n",
    "\n",
    "        gd.append(pos.state.flatten())\n",
    "        pos=pos.move(m)\n",
    "        pos.rotate()\n",
    "    return gd,v\n",
    "\n",
    "def generate_dataset(prefix,path, test_size, moves_before_end):\n",
    "    fname=os.path.join(path,prefix + \".txt\")\n",
    "    wins=[]\n",
    "    losses=[]\n",
    "    \n",
    "    gds=[]\n",
    "    with open(fname,'r') as f:\n",
    "        gds = [pool.apply_async(get_game_data2,args=(gs,)) for gs in f]\n",
    "\n",
    "    for g in tqdm_notebook(gds):\n",
    "        g=g.get()\n",
    "        gd=g[0]\n",
    "        v=g[-1]\n",
    "        if v>0:\n",
    "            wins.append((np.array(gd[-moves_before_end:]),v))\n",
    "        else:\n",
    "            losses.append((np.array(gd[-moves_before_end:]),v))\n",
    "\n",
    "    num_scores=min(len(wins),len(losses))\n",
    "    test_dataset=np.array(wins[:test_size]+losses[:test_size])\n",
    "    dataset=np.array(wins[test_size:num_scores]+losses[test_size:num_scores])\n",
    "\n",
    "    random.shuffle(dataset)\n",
    "    random.shuffle(test_dataset)\n",
    "#     dataset = np.transpose(dataset)\n",
    "#     test_dataset = np.transpose(test_dataset)\n",
    "#     positions=np.vstack(dataset[0])\n",
    "#     test_positions=np.vstack(test_dataset[0])\n",
    "#     scores=np.array(dataset[-1],dtype=float)\n",
    "#     test_scores=np.array(test_dataset[-1],dtype=float)\n",
    "\n",
    "    np.savez_compressed(os.path.join(path,prefix+\"_dataset.npz\"), \n",
    "                        dataset=dataset, test_dataset=test_dataset)\n",
    "    \n",
    "    return dataset,test_dataset\n",
    "\n",
    "\n",
    "pool=Pool(processes=8)"
   ]
  },
  {
   "cell_type": "code",
   "execution_count": 3,
   "metadata": {
    "collapsed": true
   },
   "outputs": [],
   "source": [
    "def train_position_iteration(name,datapath,epochs,lr=0.001,momentum=0.5,log_interval=10,cuda=False):\n",
    "\n",
    "    index=current_file_index(datapath,prefix=name)\n",
    "    fname = get_current_filename(datapath=datapath, prefix=name, suffix='.bot')\n",
    "    fname_out = get_next_filename(datapath=datapath, prefix=name, suffix='.bot')\n",
    "\n",
    "    with np.load(os.path.join(datapath,fname+'_dataset.npz')) as f:\n",
    "        #positions,scores,test_positions,test_scores=f['positions'],f['scores'],f['test_positions'],f['test_scores']\n",
    "        dataset,test_dataset = f['dataset'], f['test_dataset']\n",
    "\n",
    "    bot1 = PositionBot(fname,path=datapath)\n",
    "    model = bot1.posnet\n",
    "    print \"Training: \" + fname\n",
    "    print \"Training size: %d\\t Test size: %d\" % (len(dataset),len(test_dataset))\n",
    "\n",
    "    loss_fn=nn.MSELoss()\n",
    "\n",
    "    if cuda:\n",
    "        model.cuda()\n",
    "    optimizer = optim.SGD(model.parameters(), lr=lr, momentum=momentum)\n",
    "\n",
    "\n",
    "    #test data/value\n",
    "    #test_data  = torch.from_numpy(test_positions).float()\n",
    "    #test_value = torch.from_numpy(test_scores).float()\n",
    "    #if cuda:\n",
    "    #    test_data, test_value = test_data.cuda(), test_value.cuda()            \n",
    "    #test_data, test_value = Variable(test_data), Variable(test_value)\n",
    "            \n",
    "    for epoch in range(epochs):\n",
    "        model.train()\n",
    "        total=0\n",
    "        correct=0\n",
    "        for ii, data in enumerate(dataset):\n",
    "            #print data[0].shape\n",
    "            score = data[-1]\n",
    "            data  = torch.from_numpy(data[0]).float()\n",
    "#            value = torch.from_numpy(scores[ii*batch_size:(ii+1)*batch_size]).float()\n",
    "#            if cuda:\n",
    "#                data, value = data.cuda(), value.cuda()            \n",
    "#            data, value = Variable(data), Variable(value)\n",
    "            data = Variable(data)\n",
    "            optimizer.zero_grad()\n",
    "            output = model(data)\n",
    "            #shift output by one slot and make last estimation who won\n",
    "            value = output.data.cpu().numpy().copy()\n",
    "            value[:-1]=value[1:]\n",
    "            value[-1]=score\n",
    "            value = torch.from_numpy(value).float()               \n",
    "            value = Variable(value)\n",
    "            \n",
    "            #print \"output:\", output\n",
    "            #print \"value:\", value\n",
    "            loss = loss_fn(output, value)\n",
    "            loss.backward()\n",
    "            optimizer.step()\n",
    "\n",
    "            #correct+=correct_predictions(output.data.cpu().numpy(),value.data.cpu().numpy())\n",
    "            #total+=len(value.data.cpu().numpy())\n",
    "\n",
    "        if epoch % log_interval == log_interval-1:\n",
    "            #print \"Train:\\t%.3f%% correct\\tLoss: %.6f\\t%d/%d\" % (correct*100./total,loss.data[0],epoch+1,epochs)\n",
    "            print \"Train Loss: %.6f\\t%d/%d\" % (loss.data[0],epoch+1,epochs)\n",
    "\n",
    "#         model.eval()\n",
    "#         test_output=model(test_data)\n",
    "#         value = output.data.cpu().numpy().copy()\n",
    "#         value[:-1]=value[1:]\n",
    "#         value[-1]=score\n",
    "#         value = torch.from_numpy(value).float()               \n",
    "#         value = Variable(value)\n",
    "#         test_loss=loss_fn(test_output,test_value)\n",
    "#         #correct=correct_predictions(test_output.data.cpu().numpy(),test_value.data.cpu().numpy())\n",
    "#         total=len(test_value.data.cpu().numpy())    \n",
    "        \n",
    "#         if epoch % log_interval == log_interval-1:\n",
    "#             print \"Test:\\t%.3f%% correct\\tLoss: %.6f\" % (correct*100./total,test_loss.data[0])\n",
    "    \n",
    "    \n",
    "    print \"Saving trained bot as: \" + fname_out\n",
    "    torch.save(model.state_dict(), os.path.join(datapath,fname_out))\n",
    "    \n",
    "    #return test_output,test_value"
   ]
  },
  {
   "cell_type": "code",
   "execution_count": 4,
   "metadata": {},
   "outputs": [
    {
     "name": "stdout",
     "output_type": "stream",
     "text": [
      "Generating 25000 games of Idiot vs. Idiot, stored at data/medium.txt\n"
     ]
    },
    {
     "name": "stderr",
     "output_type": "stream",
     "text": [
      "Widget Javascript not detected.  It may not be installed or enabled properly.\n"
     ]
    },
    {
     "data": {
      "application/vnd.jupyter.widget-view+json": {
       "model_id": "4b89665e744e4775961de22f6f33314b"
      }
     },
     "metadata": {},
     "output_type": "display_data"
    },
    {
     "name": "stdout",
     "output_type": "stream",
     "text": [
      "\n",
      "Stats: mean game length = 223, win/loss = 11697 / 13303\n"
     ]
    }
   ],
   "source": [
    "games=25000\n",
    "name='medium'\n",
    "path='data/'\n",
    "\n",
    "# Generate some seed data\n",
    "ib1=IdiotBot()\n",
    "ib2=IdiotBot()\n",
    "generate_games(ib1,ib2,games,name+'.txt',path)\n",
    "#(positions,scores,test_positions,test_scores)=generate_dataset(name,'data/',test_size=1000, moves_before_end=10)\n",
    "#train_position_iteration(name=name,datapath='data/',batch_size=200,epochs=25,lr=0.01,momentum=0.5,log_interval=5,cuda=True)\n"
   ]
  },
  {
   "cell_type": "code",
   "execution_count": 6,
   "metadata": {
    "collapsed": true
   },
   "outputs": [],
   "source": [
    "generate_dataset??"
   ]
  },
  {
   "cell_type": "code",
   "execution_count": 3,
   "metadata": {},
   "outputs": [
    {
     "data": {
      "application/vnd.jupyter.widget-view+json": {
       "model_id": "3953fbe0074d4789a921d1fe9f9c8058"
      }
     },
     "metadata": {},
     "output_type": "display_data"
    },
    {
     "name": "stdout",
     "output_type": "stream",
     "text": [
      "\n"
     ]
    },
    {
     "ename": "KeyboardInterrupt",
     "evalue": "",
     "output_type": "error",
     "traceback": [
      "\u001b[0;31m---------------------------------------------------------------------------\u001b[0m",
      "\u001b[0;31mKeyboardInterrupt\u001b[0m                         Traceback (most recent call last)",
      "\u001b[0;32m<ipython-input-3-bded40acceba>\u001b[0m in \u001b[0;36m<module>\u001b[0;34m()\u001b[0m\n\u001b[1;32m      2\u001b[0m \u001b[0mname\u001b[0m\u001b[0;34m=\u001b[0m\u001b[0;34m'medium'\u001b[0m\u001b[0;34m\u001b[0m\u001b[0m\n\u001b[1;32m      3\u001b[0m \u001b[0mpath\u001b[0m\u001b[0;34m=\u001b[0m\u001b[0;34m'data/'\u001b[0m\u001b[0;34m\u001b[0m\u001b[0m\n\u001b[0;32m----> 4\u001b[0;31m \u001b[0mdataset\u001b[0m\u001b[0;34m,\u001b[0m\u001b[0mtest_dataset\u001b[0m\u001b[0;34m=\u001b[0m\u001b[0mgenerate_dataset\u001b[0m\u001b[0;34m(\u001b[0m\u001b[0mname\u001b[0m\u001b[0;34m,\u001b[0m\u001b[0;34m'data/'\u001b[0m\u001b[0;34m,\u001b[0m\u001b[0mtest_size\u001b[0m\u001b[0;34m=\u001b[0m\u001b[0;36m100\u001b[0m\u001b[0;34m,\u001b[0m \u001b[0mmoves_before_end\u001b[0m\u001b[0;34m=\u001b[0m\u001b[0;36m10\u001b[0m\u001b[0;34m)\u001b[0m\u001b[0;34m\u001b[0m\u001b[0m\n\u001b[0m",
      "\u001b[0;32m<ipython-input-2-2a53b0c3771e>\u001b[0m in \u001b[0;36mgenerate_dataset\u001b[0;34m(prefix, path, test_size, moves_before_end)\u001b[0m\n\u001b[1;32m    107\u001b[0m \u001b[0;34m\u001b[0m\u001b[0m\n\u001b[1;32m    108\u001b[0m     \u001b[0;32mfor\u001b[0m \u001b[0mg\u001b[0m \u001b[0;32min\u001b[0m \u001b[0mtqdm_notebook\u001b[0m\u001b[0;34m(\u001b[0m\u001b[0mgds\u001b[0m\u001b[0;34m)\u001b[0m\u001b[0;34m:\u001b[0m\u001b[0;34m\u001b[0m\u001b[0m\n\u001b[0;32m--> 109\u001b[0;31m         \u001b[0mg\u001b[0m\u001b[0;34m=\u001b[0m\u001b[0mg\u001b[0m\u001b[0;34m.\u001b[0m\u001b[0mget\u001b[0m\u001b[0;34m(\u001b[0m\u001b[0;34m)\u001b[0m\u001b[0;34m\u001b[0m\u001b[0m\n\u001b[0m\u001b[1;32m    110\u001b[0m         \u001b[0mgd\u001b[0m\u001b[0;34m=\u001b[0m\u001b[0mg\u001b[0m\u001b[0;34m[\u001b[0m\u001b[0;36m0\u001b[0m\u001b[0;34m]\u001b[0m\u001b[0;34m\u001b[0m\u001b[0m\n\u001b[1;32m    111\u001b[0m         \u001b[0mv\u001b[0m\u001b[0;34m=\u001b[0m\u001b[0mg\u001b[0m\u001b[0;34m[\u001b[0m\u001b[0;34m-\u001b[0m\u001b[0;36m1\u001b[0m\u001b[0;34m]\u001b[0m\u001b[0;34m\u001b[0m\u001b[0m\n",
      "\u001b[0;32m/usr/local/Cellar/python/2.7.10/Frameworks/Python.framework/Versions/2.7/lib/python2.7/multiprocessing/pool.pyc\u001b[0m in \u001b[0;36mget\u001b[0;34m(self, timeout)\u001b[0m\n\u001b[1;32m    559\u001b[0m \u001b[0;34m\u001b[0m\u001b[0m\n\u001b[1;32m    560\u001b[0m     \u001b[0;32mdef\u001b[0m \u001b[0mget\u001b[0m\u001b[0;34m(\u001b[0m\u001b[0mself\u001b[0m\u001b[0;34m,\u001b[0m \u001b[0mtimeout\u001b[0m\u001b[0;34m=\u001b[0m\u001b[0mNone\u001b[0m\u001b[0;34m)\u001b[0m\u001b[0;34m:\u001b[0m\u001b[0;34m\u001b[0m\u001b[0m\n\u001b[0;32m--> 561\u001b[0;31m         \u001b[0mself\u001b[0m\u001b[0;34m.\u001b[0m\u001b[0mwait\u001b[0m\u001b[0;34m(\u001b[0m\u001b[0mtimeout\u001b[0m\u001b[0;34m)\u001b[0m\u001b[0;34m\u001b[0m\u001b[0m\n\u001b[0m\u001b[1;32m    562\u001b[0m         \u001b[0;32mif\u001b[0m \u001b[0;32mnot\u001b[0m \u001b[0mself\u001b[0m\u001b[0;34m.\u001b[0m\u001b[0m_ready\u001b[0m\u001b[0;34m:\u001b[0m\u001b[0;34m\u001b[0m\u001b[0m\n\u001b[1;32m    563\u001b[0m             \u001b[0;32mraise\u001b[0m \u001b[0mTimeoutError\u001b[0m\u001b[0;34m\u001b[0m\u001b[0m\n",
      "\u001b[0;32m/usr/local/Cellar/python/2.7.10/Frameworks/Python.framework/Versions/2.7/lib/python2.7/multiprocessing/pool.pyc\u001b[0m in \u001b[0;36mwait\u001b[0;34m(self, timeout)\u001b[0m\n\u001b[1;32m    554\u001b[0m         \u001b[0;32mtry\u001b[0m\u001b[0;34m:\u001b[0m\u001b[0;34m\u001b[0m\u001b[0m\n\u001b[1;32m    555\u001b[0m             \u001b[0;32mif\u001b[0m \u001b[0;32mnot\u001b[0m \u001b[0mself\u001b[0m\u001b[0;34m.\u001b[0m\u001b[0m_ready\u001b[0m\u001b[0;34m:\u001b[0m\u001b[0;34m\u001b[0m\u001b[0m\n\u001b[0;32m--> 556\u001b[0;31m                 \u001b[0mself\u001b[0m\u001b[0;34m.\u001b[0m\u001b[0m_cond\u001b[0m\u001b[0;34m.\u001b[0m\u001b[0mwait\u001b[0m\u001b[0;34m(\u001b[0m\u001b[0mtimeout\u001b[0m\u001b[0;34m)\u001b[0m\u001b[0;34m\u001b[0m\u001b[0m\n\u001b[0m\u001b[1;32m    557\u001b[0m         \u001b[0;32mfinally\u001b[0m\u001b[0;34m:\u001b[0m\u001b[0;34m\u001b[0m\u001b[0m\n\u001b[1;32m    558\u001b[0m             \u001b[0mself\u001b[0m\u001b[0;34m.\u001b[0m\u001b[0m_cond\u001b[0m\u001b[0;34m.\u001b[0m\u001b[0mrelease\u001b[0m\u001b[0;34m(\u001b[0m\u001b[0;34m)\u001b[0m\u001b[0;34m\u001b[0m\u001b[0m\n",
      "\u001b[0;32m/usr/local/Cellar/python/2.7.10/Frameworks/Python.framework/Versions/2.7/lib/python2.7/threading.pyc\u001b[0m in \u001b[0;36mwait\u001b[0;34m(self, timeout)\u001b[0m\n\u001b[1;32m    338\u001b[0m         \u001b[0;32mtry\u001b[0m\u001b[0;34m:\u001b[0m    \u001b[0;31m# restore state no matter what (e.g., KeyboardInterrupt)\u001b[0m\u001b[0;34m\u001b[0m\u001b[0m\n\u001b[1;32m    339\u001b[0m             \u001b[0;32mif\u001b[0m \u001b[0mtimeout\u001b[0m \u001b[0;32mis\u001b[0m \u001b[0mNone\u001b[0m\u001b[0;34m:\u001b[0m\u001b[0;34m\u001b[0m\u001b[0m\n\u001b[0;32m--> 340\u001b[0;31m                 \u001b[0mwaiter\u001b[0m\u001b[0;34m.\u001b[0m\u001b[0macquire\u001b[0m\u001b[0;34m(\u001b[0m\u001b[0;34m)\u001b[0m\u001b[0;34m\u001b[0m\u001b[0m\n\u001b[0m\u001b[1;32m    341\u001b[0m                 \u001b[0;32mif\u001b[0m \u001b[0m__debug__\u001b[0m\u001b[0;34m:\u001b[0m\u001b[0;34m\u001b[0m\u001b[0m\n\u001b[1;32m    342\u001b[0m                     \u001b[0mself\u001b[0m\u001b[0;34m.\u001b[0m\u001b[0m_note\u001b[0m\u001b[0;34m(\u001b[0m\u001b[0;34m\"%s.wait(): got it\"\u001b[0m\u001b[0;34m,\u001b[0m \u001b[0mself\u001b[0m\u001b[0;34m)\u001b[0m\u001b[0;34m\u001b[0m\u001b[0m\n",
      "\u001b[0;31mKeyboardInterrupt\u001b[0m: "
     ]
    }
   ],
   "source": [
    "games=10000\n",
    "name='medium'\n",
    "path='data/'\n",
    "dataset,test_dataset=generate_dataset(name,'data/',test_size=100, moves_before_end=10)"
   ]
  },
  {
   "cell_type": "code",
   "execution_count": 8,
   "metadata": {
    "scrolled": true
   },
   "outputs": [
    {
     "name": "stdout",
     "output_type": "stream",
     "text": [
      "Failed to load: data/00000_medium.bot\n",
      "Loading new PositionNet model\n",
      "Training: 00000_medium.bot\n",
      "Training size: 23194\t Test size: 200\n",
      "Train Loss: 0.078958\t1/5\n",
      "Train Loss: 0.045387\t2/5\n",
      "Train Loss: 0.023024\t3/5\n",
      "Train Loss: 0.012217\t4/5\n",
      "Train Loss: 0.032637\t5/5\n",
      "Saving trained bot as: 00000_medium.bot\n"
     ]
    }
   ],
   "source": [
    "train_position_iteration(name=name,datapath='data/',epochs=5,lr=0.01,momentum=0.5,log_interval=1,cuda=False)"
   ]
  },
  {
   "cell_type": "code",
   "execution_count": 9,
   "metadata": {},
   "outputs": [
    {
     "name": "stdout",
     "output_type": "stream",
     "text": [
      "Generating 100 games of 00220_iter.bot vs. Idiot, stored at data/00220_iter.bot.txt\n"
     ]
    },
    {
     "data": {
      "application/vnd.jupyter.widget-view+json": {
       "model_id": "27ebc64378a04f7d8040d7c469f93477"
      }
     },
     "metadata": {},
     "output_type": "display_data"
    },
    {
     "name": "stdout",
     "output_type": "stream",
     "text": [
      "\n",
      "Stats: mean game length = 271, win/loss = 40 / 60\n"
     ]
    }
   ],
   "source": [
    "games=100\n",
    "name='iter'\n",
    "path='data/'\n",
    "fname = get_current_filename(datapath='data/', prefix=name, suffix='.bot')\n",
    "b1 = PositionBot(fname,path='data/')\n",
    "b2 = PositionBot(fname,path='data/')\n",
    "generate_games(b1,IdiotBot(),games,fname+'.txt',path)\n"
   ]
  },
  {
   "cell_type": "code",
   "execution_count": 8,
   "metadata": {
    "scrolled": false
   },
   "outputs": [
    {
     "name": "stdout",
     "output_type": "stream",
     "text": [
      "Generating 200 games of 00120_iter.bot vs. 00120_iter.bot, stored at data/00120_iter.bot.txt\n"
     ]
    },
    {
     "data": {
      "application/vnd.jupyter.widget-view+json": {
       "model_id": "1d42b35b8de946afb7ed4129bb7828eb"
      }
     },
     "metadata": {},
     "output_type": "display_data"
    },
    {
     "name": "stdout",
     "output_type": "stream",
     "text": [
      "\n",
      "Stats: mean game length = 545, win/loss = 103 / 97\n"
     ]
    },
    {
     "data": {
      "application/vnd.jupyter.widget-view+json": {
       "model_id": "d534a3b2be2044989ac78f3b5be8bef8"
      }
     },
     "metadata": {},
     "output_type": "display_data"
    },
    {
     "name": "stdout",
     "output_type": "stream",
     "text": [
      "\n",
      "Training: 00120_iter.bot\n",
      "Training size: 174\t Test size: 20\n",
      "Train Loss: 0.002023\t1/10\n",
      "Train Loss: 0.002030\t2/10\n",
      "Train Loss: 0.002038\t3/10\n",
      "Train Loss: 0.002045\t4/10\n",
      "Train Loss: 0.002052\t5/10\n",
      "Train Loss: 0.002059\t6/10\n",
      "Train Loss: 0.002066\t7/10\n",
      "Train Loss: 0.002073\t8/10\n",
      "Train Loss: 0.002079\t9/10\n",
      "Train Loss: 0.002086\t10/10\n",
      "Saving trained bot as: 00121_iter.bot\n",
      "Generating 200 games of 00121_iter.bot vs. 00121_iter.bot, stored at data/00121_iter.bot.txt\n"
     ]
    },
    {
     "data": {
      "application/vnd.jupyter.widget-view+json": {
       "model_id": "58e4e20ecbae4cb3955c3162d282f07d"
      }
     },
     "metadata": {},
     "output_type": "display_data"
    },
    {
     "name": "stdout",
     "output_type": "stream",
     "text": [
      "\n",
      "Stats: mean game length = 578, win/loss = 109 / 91\n"
     ]
    },
    {
     "data": {
      "application/vnd.jupyter.widget-view+json": {
       "model_id": "b25f0989895146918301a1e9205daff0"
      }
     },
     "metadata": {},
     "output_type": "display_data"
    },
    {
     "name": "stdout",
     "output_type": "stream",
     "text": [
      "\n",
      "Training: 00121_iter.bot\n",
      "Training size: 162\t Test size: 20\n",
      "Train Loss: 0.028157\t1/10\n",
      "Train Loss: 0.028161\t2/10\n",
      "Train Loss: 0.028164\t3/10\n",
      "Train Loss: 0.028167\t4/10\n",
      "Train Loss: 0.028170\t5/10\n",
      "Train Loss: 0.028173\t6/10\n",
      "Train Loss: 0.028175\t7/10\n",
      "Train Loss: 0.028178\t8/10\n",
      "Train Loss: 0.028181\t9/10\n",
      "Train Loss: 0.028184\t10/10\n",
      "Saving trained bot as: 00122_iter.bot\n",
      "Generating 200 games of 00122_iter.bot vs. 00122_iter.bot, stored at data/00122_iter.bot.txt\n"
     ]
    },
    {
     "data": {
      "application/vnd.jupyter.widget-view+json": {
       "model_id": "7d75b7ab29254532a7b61f0d67b3a625"
      }
     },
     "metadata": {},
     "output_type": "display_data"
    },
    {
     "name": "stdout",
     "output_type": "stream",
     "text": [
      "\n",
      "Stats: mean game length = 523, win/loss = 87 / 113\n"
     ]
    },
    {
     "data": {
      "application/vnd.jupyter.widget-view+json": {
       "model_id": "9fa7adf822c94d16bf0e47f1d177f1ac"
      }
     },
     "metadata": {},
     "output_type": "display_data"
    },
    {
     "name": "stdout",
     "output_type": "stream",
     "text": [
      "\n",
      "Training: 00122_iter.bot\n",
      "Training size: 154\t Test size: 20\n",
      "Train Loss: 0.028760\t1/10\n",
      "Train Loss: 0.028762\t2/10\n",
      "Train Loss: 0.028765\t3/10\n",
      "Train Loss: 0.028767\t4/10\n",
      "Train Loss: 0.028770\t5/10\n",
      "Train Loss: 0.028772\t6/10\n",
      "Train Loss: 0.028775\t7/10\n",
      "Train Loss: 0.028777\t8/10\n",
      "Train Loss: 0.028780\t9/10\n",
      "Train Loss: 0.028782\t10/10\n",
      "Saving trained bot as: 00123_iter.bot\n",
      "Generating 200 games of 00123_iter.bot vs. 00123_iter.bot, stored at data/00123_iter.bot.txt\n"
     ]
    },
    {
     "data": {
      "application/vnd.jupyter.widget-view+json": {
       "model_id": "887617a341f44cc6ba67a752b0effcc7"
      }
     },
     "metadata": {},
     "output_type": "display_data"
    },
    {
     "name": "stdout",
     "output_type": "stream",
     "text": [
      "\n",
      "Stats: mean game length = 538, win/loss = 97 / 103\n"
     ]
    },
    {
     "data": {
      "application/vnd.jupyter.widget-view+json": {
       "model_id": "c96d6e69df13437eaf331a94306628c1"
      }
     },
     "metadata": {},
     "output_type": "display_data"
    },
    {
     "name": "stdout",
     "output_type": "stream",
     "text": [
      "\n",
      "Training: 00123_iter.bot\n",
      "Training size: 174\t Test size: 20\n",
      "Train Loss: 0.027383\t1/10\n",
      "Train Loss: 0.027379\t2/10\n",
      "Train Loss: 0.027375\t3/10\n",
      "Train Loss: 0.027372\t4/10\n",
      "Train Loss: 0.027368\t5/10\n",
      "Train Loss: 0.027364\t6/10\n",
      "Train Loss: 0.027361\t7/10\n",
      "Train Loss: 0.027357\t8/10\n",
      "Train Loss: 0.027353\t9/10\n",
      "Train Loss: 0.027350\t10/10\n",
      "Saving trained bot as: 00124_iter.bot\n",
      "Generating 200 games of 00124_iter.bot vs. 00124_iter.bot, stored at data/00124_iter.bot.txt\n"
     ]
    },
    {
     "data": {
      "application/vnd.jupyter.widget-view+json": {
       "model_id": "42f4b34873314673bdacd188aef9cb4b"
      }
     },
     "metadata": {},
     "output_type": "display_data"
    },
    {
     "name": "stdout",
     "output_type": "stream",
     "text": [
      "\n",
      "Stats: mean game length = 506, win/loss = 100 / 100\n"
     ]
    },
    {
     "data": {
      "application/vnd.jupyter.widget-view+json": {
       "model_id": "ed5ac32a4c7840caa8d3aad221b08f1e"
      }
     },
     "metadata": {},
     "output_type": "display_data"
    },
    {
     "name": "stdout",
     "output_type": "stream",
     "text": [
      "\n",
      "Training: 00124_iter.bot\n",
      "Training size: 180\t Test size: 20\n",
      "Train Loss: 0.001041\t1/10\n",
      "Train Loss: 0.001042\t2/10\n",
      "Train Loss: 0.001042\t3/10\n",
      "Train Loss: 0.001043\t4/10\n",
      "Train Loss: 0.001044\t5/10\n",
      "Train Loss: 0.001045\t6/10\n",
      "Train Loss: 0.001045\t7/10\n",
      "Train Loss: 0.001046\t8/10\n",
      "Train Loss: 0.001047\t9/10\n",
      "Train Loss: 0.001048\t10/10\n",
      "Saving trained bot as: 00125_iter.bot\n",
      "Generating 200 games of 00125_iter.bot vs. 00125_iter.bot, stored at data/00125_iter.bot.txt\n"
     ]
    },
    {
     "data": {
      "application/vnd.jupyter.widget-view+json": {
       "model_id": "b00d070900684f1392dcd0b0280e810d"
      }
     },
     "metadata": {},
     "output_type": "display_data"
    },
    {
     "name": "stdout",
     "output_type": "stream",
     "text": [
      "\n",
      "Stats: mean game length = 520, win/loss = 97 / 103\n"
     ]
    },
    {
     "data": {
      "application/vnd.jupyter.widget-view+json": {
       "model_id": "1ff978aac8d249898f1acd23aed55f73"
      }
     },
     "metadata": {},
     "output_type": "display_data"
    },
    {
     "name": "stdout",
     "output_type": "stream",
     "text": [
      "\n",
      "Training: 00125_iter.bot\n",
      "Training size: 174\t Test size: 20\n",
      "Train Loss: 0.038289\t1/10\n",
      "Train Loss: 0.038300\t2/10\n",
      "Train Loss: 0.038312\t3/10\n",
      "Train Loss: 0.038324\t4/10\n",
      "Train Loss: 0.038335\t5/10\n",
      "Train Loss: 0.038347\t6/10\n",
      "Train Loss: 0.038358\t7/10\n",
      "Train Loss: 0.038369\t8/10\n",
      "Train Loss: 0.038380\t9/10\n",
      "Train Loss: 0.038391\t10/10\n",
      "Saving trained bot as: 00126_iter.bot\n",
      "Generating 200 games of 00126_iter.bot vs. 00126_iter.bot, stored at data/00126_iter.bot.txt\n"
     ]
    },
    {
     "data": {
      "application/vnd.jupyter.widget-view+json": {
       "model_id": "b62d163059e9409e84f3d100ae8acfd5"
      }
     },
     "metadata": {},
     "output_type": "display_data"
    },
    {
     "name": "stdout",
     "output_type": "stream",
     "text": [
      "\n",
      "Stats: mean game length = 526, win/loss = 98 / 102\n"
     ]
    },
    {
     "data": {
      "application/vnd.jupyter.widget-view+json": {
       "model_id": "eb44463c997b42b08137908987bd27dc"
      }
     },
     "metadata": {},
     "output_type": "display_data"
    },
    {
     "name": "stdout",
     "output_type": "stream",
     "text": [
      "\n",
      "Training: 00126_iter.bot\n",
      "Training size: 176\t Test size: 20\n",
      "Train Loss: 0.028677\t1/10\n",
      "Train Loss: 0.028689\t2/10\n",
      "Train Loss: 0.028701\t3/10\n",
      "Train Loss: 0.028713\t4/10\n",
      "Train Loss: 0.028725\t5/10\n",
      "Train Loss: 0.028737\t6/10\n",
      "Train Loss: 0.028748\t7/10\n",
      "Train Loss: 0.028760\t8/10\n",
      "Train Loss: 0.028771\t9/10\n",
      "Train Loss: 0.028783\t10/10\n",
      "Saving trained bot as: 00127_iter.bot\n",
      "Generating 200 games of 00127_iter.bot vs. 00127_iter.bot, stored at data/00127_iter.bot.txt\n"
     ]
    },
    {
     "data": {
      "application/vnd.jupyter.widget-view+json": {
       "model_id": "1a102641d441482d89d491eeef0c940b"
      }
     },
     "metadata": {},
     "output_type": "display_data"
    },
    {
     "name": "stdout",
     "output_type": "stream",
     "text": [
      "\n",
      "Stats: mean game length = 479, win/loss = 92 / 108\n"
     ]
    },
    {
     "data": {
      "application/vnd.jupyter.widget-view+json": {
       "model_id": "834cd2267e43433bb4bbda26673ec2d8"
      }
     },
     "metadata": {},
     "output_type": "display_data"
    },
    {
     "name": "stdout",
     "output_type": "stream",
     "text": [
      "\n",
      "Training: 00127_iter.bot\n",
      "Training size: 164\t Test size: 20\n",
      "Train Loss: 0.028239\t1/10\n",
      "Train Loss: 0.028238\t2/10\n",
      "Train Loss: 0.028237\t3/10\n",
      "Train Loss: 0.028236\t4/10\n",
      "Train Loss: 0.028235\t5/10\n",
      "Train Loss: 0.028234\t6/10\n",
      "Train Loss: 0.028233\t7/10\n",
      "Train Loss: 0.028232\t8/10\n",
      "Train Loss: 0.028231\t9/10\n",
      "Train Loss: 0.028230\t10/10\n",
      "Saving trained bot as: 00128_iter.bot\n",
      "Generating 200 games of 00128_iter.bot vs. 00128_iter.bot, stored at data/00128_iter.bot.txt\n"
     ]
    },
    {
     "data": {
      "application/vnd.jupyter.widget-view+json": {
       "model_id": "a3fb5f1457d3464dae0a0591b9cb61ab"
      }
     },
     "metadata": {},
     "output_type": "display_data"
    },
    {
     "name": "stdout",
     "output_type": "stream",
     "text": [
      "\n",
      "Stats: mean game length = 526, win/loss = 95 / 105\n"
     ]
    },
    {
     "data": {
      "application/vnd.jupyter.widget-view+json": {
       "model_id": "966623cc36d3403e9da014d0a652191e"
      }
     },
     "metadata": {},
     "output_type": "display_data"
    },
    {
     "name": "stdout",
     "output_type": "stream",
     "text": [
      "\n",
      "Training: 00128_iter.bot\n",
      "Training size: 170\t Test size: 20\n",
      "Train Loss: 0.001116\t1/10\n",
      "Train Loss: 0.001116\t2/10\n",
      "Train Loss: 0.001115\t3/10\n",
      "Train Loss: 0.001115\t4/10\n",
      "Train Loss: 0.001115\t5/10\n",
      "Train Loss: 0.001115\t6/10\n",
      "Train Loss: 0.001115\t7/10\n",
      "Train Loss: 0.001115\t8/10\n",
      "Train Loss: 0.001115\t9/10\n",
      "Train Loss: 0.001114\t10/10\n",
      "Saving trained bot as: 00129_iter.bot\n",
      "Generating 200 games of 00129_iter.bot vs. 00129_iter.bot, stored at data/00129_iter.bot.txt\n"
     ]
    },
    {
     "data": {
      "application/vnd.jupyter.widget-view+json": {
       "model_id": "c8a90e1c14ad4a569326390009bb6ef2"
      }
     },
     "metadata": {},
     "output_type": "display_data"
    },
    {
     "name": "stdout",
     "output_type": "stream",
     "text": [
      "\n",
      "Stats: mean game length = 492, win/loss = 97 / 103\n"
     ]
    },
    {
     "data": {
      "application/vnd.jupyter.widget-view+json": {
       "model_id": "45263c3f41f74defaa7e393217af7ca6"
      }
     },
     "metadata": {},
     "output_type": "display_data"
    },
    {
     "name": "stdout",
     "output_type": "stream",
     "text": [
      "\n",
      "Training: 00129_iter.bot\n",
      "Training size: 174\t Test size: 20\n",
      "Train Loss: 0.028227\t1/10\n",
      "Train Loss: 0.028231\t2/10\n",
      "Train Loss: 0.028234\t3/10\n",
      "Train Loss: 0.028238\t4/10\n",
      "Train Loss: 0.028242\t5/10\n",
      "Train Loss: 0.028245\t6/10\n",
      "Train Loss: 0.028249\t7/10\n",
      "Train Loss: 0.028253\t8/10\n",
      "Train Loss: 0.028256\t9/10\n",
      "Train Loss: 0.028260\t10/10\n",
      "Saving trained bot as: 00130_iter.bot\n",
      "Generating 200 games of 00130_iter.bot vs. 00130_iter.bot, stored at data/00130_iter.bot.txt\n"
     ]
    },
    {
     "data": {
      "application/vnd.jupyter.widget-view+json": {
       "model_id": "99b7ae59ab504d2f9b3b5326b6bf32c7"
      }
     },
     "metadata": {},
     "output_type": "display_data"
    },
    {
     "name": "stdout",
     "output_type": "stream",
     "text": [
      "\n",
      "Stats: mean game length = 566, win/loss = 103 / 97\n"
     ]
    },
    {
     "data": {
      "application/vnd.jupyter.widget-view+json": {
       "model_id": "089cf0b8e4bf4d7bafb30606a559adb5"
      }
     },
     "metadata": {},
     "output_type": "display_data"
    },
    {
     "name": "stdout",
     "output_type": "stream",
     "text": [
      "\n",
      "Training: 00130_iter.bot\n",
      "Training size: 174\t Test size: 20\n",
      "Train Loss: 0.027198\t1/10\n",
      "Train Loss: 0.027196\t2/10\n",
      "Train Loss: 0.027193\t3/10\n",
      "Train Loss: 0.027191\t4/10\n",
      "Train Loss: 0.027188\t5/10\n",
      "Train Loss: 0.027186\t6/10\n",
      "Train Loss: 0.027183\t7/10\n",
      "Train Loss: 0.027181\t8/10\n",
      "Train Loss: 0.027179\t9/10\n",
      "Train Loss: 0.027176\t10/10\n",
      "Saving trained bot as: 00131_iter.bot\n",
      "Generating 200 games of 00131_iter.bot vs. 00131_iter.bot, stored at data/00131_iter.bot.txt\n"
     ]
    },
    {
     "data": {
      "application/vnd.jupyter.widget-view+json": {
       "model_id": "3e0d45560ddd49eea7da8148902c7e80"
      }
     },
     "metadata": {},
     "output_type": "display_data"
    },
    {
     "name": "stdout",
     "output_type": "stream",
     "text": [
      "\n",
      "Stats: mean game length = 561, win/loss = 102 / 98\n"
     ]
    },
    {
     "data": {
      "application/vnd.jupyter.widget-view+json": {
       "model_id": "bc3c0772d6ea4204802c0a02c0e09eec"
      }
     },
     "metadata": {},
     "output_type": "display_data"
    },
    {
     "name": "stdout",
     "output_type": "stream",
     "text": [
      "\n",
      "Training: 00131_iter.bot\n",
      "Training size: 176\t Test size: 20\n",
      "Train Loss: 0.028762\t1/10\n",
      "Train Loss: 0.028766\t2/10\n",
      "Train Loss: 0.028770\t3/10\n",
      "Train Loss: 0.028773\t4/10\n",
      "Train Loss: 0.028777\t5/10\n",
      "Train Loss: 0.028780\t6/10\n",
      "Train Loss: 0.028784\t7/10\n",
      "Train Loss: 0.028787\t8/10\n",
      "Train Loss: 0.028791\t9/10\n",
      "Train Loss: 0.028794\t10/10\n",
      "Saving trained bot as: 00132_iter.bot\n",
      "Generating 200 games of 00132_iter.bot vs. 00132_iter.bot, stored at data/00132_iter.bot.txt\n"
     ]
    },
    {
     "data": {
      "application/vnd.jupyter.widget-view+json": {
       "model_id": "811bc87e0b7d417aa5fe03a9599c2bb1"
      }
     },
     "metadata": {},
     "output_type": "display_data"
    },
    {
     "name": "stdout",
     "output_type": "stream",
     "text": [
      "\n",
      "Stats: mean game length = 565, win/loss = 98 / 102\n"
     ]
    },
    {
     "data": {
      "application/vnd.jupyter.widget-view+json": {
       "model_id": "051949fd25ec4df991ff2de03955f351"
      }
     },
     "metadata": {},
     "output_type": "display_data"
    },
    {
     "name": "stdout",
     "output_type": "stream",
     "text": [
      "\n",
      "Training: 00132_iter.bot\n",
      "Training size: 176\t Test size: 20\n",
      "Train Loss: 0.000900\t1/10\n",
      "Train Loss: 0.000899\t2/10\n",
      "Train Loss: 0.000899\t3/10\n",
      "Train Loss: 0.000898\t4/10\n",
      "Train Loss: 0.000898\t5/10\n",
      "Train Loss: 0.000897\t6/10\n",
      "Train Loss: 0.000897\t7/10\n",
      "Train Loss: 0.000896\t8/10\n",
      "Train Loss: 0.000896\t9/10\n",
      "Train Loss: 0.000895\t10/10\n",
      "Saving trained bot as: 00133_iter.bot\n",
      "Generating 200 games of 00133_iter.bot vs. 00133_iter.bot, stored at data/00133_iter.bot.txt\n"
     ]
    },
    {
     "data": {
      "application/vnd.jupyter.widget-view+json": {
       "model_id": "d466d8cbf1804214a5abede37ba42467"
      }
     },
     "metadata": {},
     "output_type": "display_data"
    },
    {
     "name": "stdout",
     "output_type": "stream",
     "text": [
      "\n",
      "Stats: mean game length = 480, win/loss = 99 / 101\n"
     ]
    },
    {
     "data": {
      "application/vnd.jupyter.widget-view+json": {
       "model_id": "5285780315da40df8cab1cd2e95745bf"
      }
     },
     "metadata": {},
     "output_type": "display_data"
    },
    {
     "name": "stdout",
     "output_type": "stream",
     "text": [
      "\n",
      "Training: 00133_iter.bot\n",
      "Training size: 178\t Test size: 20\n",
      "Train Loss: 0.027480\t1/10\n",
      "Train Loss: 0.027484\t2/10\n",
      "Train Loss: 0.027488\t3/10\n",
      "Train Loss: 0.027492\t4/10\n",
      "Train Loss: 0.027496\t5/10\n",
      "Train Loss: 0.027499\t6/10\n",
      "Train Loss: 0.027503\t7/10\n",
      "Train Loss: 0.027507\t8/10\n",
      "Train Loss: 0.027511\t9/10\n",
      "Train Loss: 0.027515\t10/10\n",
      "Saving trained bot as: 00134_iter.bot\n",
      "Generating 200 games of 00134_iter.bot vs. 00134_iter.bot, stored at data/00134_iter.bot.txt\n"
     ]
    },
    {
     "data": {
      "application/vnd.jupyter.widget-view+json": {
       "model_id": "9287cdfd9aa04c6fb612b5425a6891f8"
      }
     },
     "metadata": {},
     "output_type": "display_data"
    },
    {
     "name": "stdout",
     "output_type": "stream",
     "text": [
      "\n",
      "Stats: mean game length = 481, win/loss = 96 / 104\n"
     ]
    },
    {
     "data": {
      "application/vnd.jupyter.widget-view+json": {
       "model_id": "ca13aaf5132248aa9568cdef58ab96b5"
      }
     },
     "metadata": {},
     "output_type": "display_data"
    },
    {
     "name": "stdout",
     "output_type": "stream",
     "text": [
      "\n",
      "Training: 00134_iter.bot\n",
      "Training size: 172\t Test size: 20\n",
      "Train Loss: 0.001019\t1/10\n",
      "Train Loss: 0.001019\t2/10\n",
      "Train Loss: 0.001020\t3/10\n",
      "Train Loss: 0.001020\t4/10\n",
      "Train Loss: 0.001020\t5/10\n",
      "Train Loss: 0.001021\t6/10\n",
      "Train Loss: 0.001021\t7/10\n",
      "Train Loss: 0.001022\t8/10\n",
      "Train Loss: 0.001022\t9/10\n",
      "Train Loss: 0.001023\t10/10\n",
      "Saving trained bot as: 00135_iter.bot\n",
      "Generating 200 games of 00135_iter.bot vs. 00135_iter.bot, stored at data/00135_iter.bot.txt\n"
     ]
    },
    {
     "data": {
      "application/vnd.jupyter.widget-view+json": {
       "model_id": "47d10a1de0be497399e603d7d083269c"
      }
     },
     "metadata": {},
     "output_type": "display_data"
    },
    {
     "name": "stdout",
     "output_type": "stream",
     "text": [
      "\n",
      "Stats: mean game length = 551, win/loss = 91 / 109\n"
     ]
    },
    {
     "data": {
      "application/vnd.jupyter.widget-view+json": {
       "model_id": "0f63f9bbc8d14f168d42b319a7e3ac8d"
      }
     },
     "metadata": {},
     "output_type": "display_data"
    },
    {
     "name": "stdout",
     "output_type": "stream",
     "text": [
      "\n",
      "Training: 00135_iter.bot\n",
      "Training size: 162\t Test size: 20\n",
      "Train Loss: 0.028178\t1/10\n",
      "Train Loss: 0.028175\t2/10\n",
      "Train Loss: 0.028172\t3/10\n",
      "Train Loss: 0.028169\t4/10\n",
      "Train Loss: 0.028165\t5/10\n",
      "Train Loss: 0.028162\t6/10\n",
      "Train Loss: 0.028159\t7/10\n",
      "Train Loss: 0.028156\t8/10\n",
      "Train Loss: 0.028153\t9/10\n",
      "Train Loss: 0.028150\t10/10\n",
      "Saving trained bot as: 00136_iter.bot\n",
      "Generating 200 games of 00136_iter.bot vs. 00136_iter.bot, stored at data/00136_iter.bot.txt\n"
     ]
    },
    {
     "data": {
      "application/vnd.jupyter.widget-view+json": {
       "model_id": "7733db8bf230445893bee2c84ec7c964"
      }
     },
     "metadata": {},
     "output_type": "display_data"
    },
    {
     "name": "stdout",
     "output_type": "stream",
     "text": [
      "\n",
      "Stats: mean game length = 481, win/loss = 105 / 95\n"
     ]
    },
    {
     "data": {
      "application/vnd.jupyter.widget-view+json": {
       "model_id": "4bcdc0faf7c340788171bb1c8f8aeeb0"
      }
     },
     "metadata": {},
     "output_type": "display_data"
    },
    {
     "name": "stdout",
     "output_type": "stream",
     "text": [
      "\n",
      "Training: 00136_iter.bot\n",
      "Training size: 170\t Test size: 20\n",
      "Train Loss: 0.028465\t1/10\n",
      "Train Loss: 0.028472\t2/10\n",
      "Train Loss: 0.028479\t3/10\n",
      "Train Loss: 0.028486\t4/10\n",
      "Train Loss: 0.028492\t5/10\n",
      "Train Loss: 0.028499\t6/10\n",
      "Train Loss: 0.028506\t7/10\n",
      "Train Loss: 0.028512\t8/10\n",
      "Train Loss: 0.028519\t9/10\n",
      "Train Loss: 0.028525\t10/10\n",
      "Saving trained bot as: 00137_iter.bot\n",
      "Generating 200 games of 00137_iter.bot vs. 00137_iter.bot, stored at data/00137_iter.bot.txt\n"
     ]
    },
    {
     "data": {
      "application/vnd.jupyter.widget-view+json": {
       "model_id": "5f95b9c24c2e4bdb8a92151d7e2520c0"
      }
     },
     "metadata": {},
     "output_type": "display_data"
    },
    {
     "name": "stdout",
     "output_type": "stream",
     "text": [
      "\n",
      "Stats: mean game length = 539, win/loss = 109 / 91\n"
     ]
    },
    {
     "data": {
      "application/vnd.jupyter.widget-view+json": {
       "model_id": "cc96375329e947a894ea11b7e4a244ae"
      }
     },
     "metadata": {},
     "output_type": "display_data"
    },
    {
     "name": "stdout",
     "output_type": "stream",
     "text": [
      "\n",
      "Training: 00137_iter.bot\n",
      "Training size: 162\t Test size: 20\n",
      "Train Loss: 0.000954\t1/10\n",
      "Train Loss: 0.000956\t2/10\n",
      "Train Loss: 0.000958\t3/10\n",
      "Train Loss: 0.000959\t4/10\n",
      "Train Loss: 0.000961\t5/10\n",
      "Train Loss: 0.000963\t6/10\n",
      "Train Loss: 0.000965\t7/10\n",
      "Train Loss: 0.000967\t8/10\n",
      "Train Loss: 0.000969\t9/10\n",
      "Train Loss: 0.000971\t10/10\n",
      "Saving trained bot as: 00138_iter.bot\n",
      "Generating 200 games of 00138_iter.bot vs. 00138_iter.bot, stored at data/00138_iter.bot.txt\n"
     ]
    },
    {
     "data": {
      "application/vnd.jupyter.widget-view+json": {
       "model_id": "0ae955f5105f4c0380d456aa560787bb"
      }
     },
     "metadata": {},
     "output_type": "display_data"
    },
    {
     "name": "stdout",
     "output_type": "stream",
     "text": [
      "\n",
      "Stats: mean game length = 529, win/loss = 104 / 96\n"
     ]
    },
    {
     "data": {
      "application/vnd.jupyter.widget-view+json": {
       "model_id": "877e69106eb8434f82904d15e1f48c10"
      }
     },
     "metadata": {},
     "output_type": "display_data"
    },
    {
     "name": "stdout",
     "output_type": "stream",
     "text": [
      "\n",
      "Training: 00138_iter.bot\n",
      "Training size: 172\t Test size: 20\n",
      "Train Loss: 0.001046\t1/10\n",
      "Train Loss: 0.001046\t2/10\n",
      "Train Loss: 0.001047\t3/10\n",
      "Train Loss: 0.001047\t4/10\n",
      "Train Loss: 0.001048\t5/10\n",
      "Train Loss: 0.001048\t6/10\n",
      "Train Loss: 0.001049\t7/10\n",
      "Train Loss: 0.001049\t8/10\n",
      "Train Loss: 0.001050\t9/10\n",
      "Train Loss: 0.001050\t10/10\n",
      "Saving trained bot as: 00139_iter.bot\n",
      "Generating 200 games of 00139_iter.bot vs. 00139_iter.bot, stored at data/00139_iter.bot.txt\n"
     ]
    },
    {
     "data": {
      "application/vnd.jupyter.widget-view+json": {
       "model_id": "343fdd9a6841492db6a7a9f4877921b9"
      }
     },
     "metadata": {},
     "output_type": "display_data"
    },
    {
     "name": "stdout",
     "output_type": "stream",
     "text": [
      "\n",
      "Stats: mean game length = 448, win/loss = 95 / 105\n"
     ]
    },
    {
     "data": {
      "application/vnd.jupyter.widget-view+json": {
       "model_id": "dbf1359a28d049e09d1055c438f3044d"
      }
     },
     "metadata": {},
     "output_type": "display_data"
    },
    {
     "name": "stdout",
     "output_type": "stream",
     "text": [
      "\n",
      "Training: 00139_iter.bot\n",
      "Training size: 170\t Test size: 20\n",
      "Train Loss: 0.001245\t1/10\n",
      "Train Loss: 0.001247\t2/10\n",
      "Train Loss: 0.001249\t3/10\n",
      "Train Loss: 0.001251\t4/10\n",
      "Train Loss: 0.001253\t5/10\n",
      "Train Loss: 0.001255\t6/10\n",
      "Train Loss: 0.001258\t7/10\n",
      "Train Loss: 0.001260\t8/10\n",
      "Train Loss: 0.001262\t9/10\n",
      "Train Loss: 0.001264\t10/10\n",
      "Saving trained bot as: 00140_iter.bot\n",
      "Generating 200 games of 00140_iter.bot vs. 00140_iter.bot, stored at data/00140_iter.bot.txt\n"
     ]
    },
    {
     "data": {
      "application/vnd.jupyter.widget-view+json": {
       "model_id": "942d89ede1764f9f92febacf4cd87150"
      }
     },
     "metadata": {},
     "output_type": "display_data"
    },
    {
     "name": "stdout",
     "output_type": "stream",
     "text": [
      "\n",
      "Stats: mean game length = 441, win/loss = 106 / 94\n"
     ]
    },
    {
     "data": {
      "application/vnd.jupyter.widget-view+json": {
       "model_id": "7fe0c03b0ee44f60ac668099a195e7a5"
      }
     },
     "metadata": {},
     "output_type": "display_data"
    },
    {
     "name": "stdout",
     "output_type": "stream",
     "text": [
      "\n",
      "Training: 00140_iter.bot\n",
      "Training size: 168\t Test size: 20\n",
      "Train Loss: 0.001000\t1/10\n",
      "Train Loss: 0.001001\t2/10\n",
      "Train Loss: 0.001002\t3/10\n",
      "Train Loss: 0.001003\t4/10\n",
      "Train Loss: 0.001004\t5/10\n",
      "Train Loss: 0.001005\t6/10\n",
      "Train Loss: 0.001006\t7/10\n",
      "Train Loss: 0.001008\t8/10\n",
      "Train Loss: 0.001009\t9/10\n",
      "Train Loss: 0.001010\t10/10\n",
      "Saving trained bot as: 00141_iter.bot\n",
      "Generating 200 games of 00141_iter.bot vs. 00141_iter.bot, stored at data/00141_iter.bot.txt\n"
     ]
    },
    {
     "data": {
      "application/vnd.jupyter.widget-view+json": {
       "model_id": "8164aab5e6324067b0520de7e9159e7e"
      }
     },
     "metadata": {},
     "output_type": "display_data"
    },
    {
     "name": "stdout",
     "output_type": "stream",
     "text": [
      "\n",
      "Stats: mean game length = 506, win/loss = 104 / 96\n"
     ]
    },
    {
     "data": {
      "application/vnd.jupyter.widget-view+json": {
       "model_id": "af210907ac57446081cd4bceeb54b4fe"
      }
     },
     "metadata": {},
     "output_type": "display_data"
    },
    {
     "name": "stdout",
     "output_type": "stream",
     "text": [
      "\n",
      "Training: 00141_iter.bot\n",
      "Training size: 172\t Test size: 20\n",
      "Train Loss: 0.027617\t1/10\n",
      "Train Loss: 0.027609\t2/10\n",
      "Train Loss: 0.027601\t3/10\n",
      "Train Loss: 0.027593\t4/10\n",
      "Train Loss: 0.027585\t5/10\n",
      "Train Loss: 0.027576\t6/10\n",
      "Train Loss: 0.027568\t7/10\n",
      "Train Loss: 0.027560\t8/10\n",
      "Train Loss: 0.027552\t9/10\n",
      "Train Loss: 0.027544\t10/10\n",
      "Saving trained bot as: 00142_iter.bot\n",
      "Generating 200 games of 00142_iter.bot vs. 00142_iter.bot, stored at data/00142_iter.bot.txt\n"
     ]
    },
    {
     "data": {
      "application/vnd.jupyter.widget-view+json": {
       "model_id": "9fe40e87f1fd4ee790ab25a52a359526"
      }
     },
     "metadata": {},
     "output_type": "display_data"
    },
    {
     "name": "stdout",
     "output_type": "stream",
     "text": [
      "\n",
      "Stats: mean game length = 518, win/loss = 107 / 93\n"
     ]
    },
    {
     "data": {
      "application/vnd.jupyter.widget-view+json": {
       "model_id": "63b573233d284aa0b31beca5c222aa42"
      }
     },
     "metadata": {},
     "output_type": "display_data"
    },
    {
     "name": "stdout",
     "output_type": "stream",
     "text": [
      "\n",
      "Training: 00142_iter.bot\n",
      "Training size: 166\t Test size: 20\n",
      "Train Loss: 0.001023\t1/10\n",
      "Train Loss: 0.001020\t2/10\n",
      "Train Loss: 0.001017\t3/10\n",
      "Train Loss: 0.001015\t4/10\n",
      "Train Loss: 0.001012\t5/10\n",
      "Train Loss: 0.001010\t6/10\n",
      "Train Loss: 0.001007\t7/10\n",
      "Train Loss: 0.001005\t8/10\n",
      "Train Loss: 0.001002\t9/10\n",
      "Train Loss: 0.001000\t10/10\n",
      "Saving trained bot as: 00143_iter.bot\n",
      "Generating 200 games of 00143_iter.bot vs. 00143_iter.bot, stored at data/00143_iter.bot.txt\n"
     ]
    },
    {
     "data": {
      "application/vnd.jupyter.widget-view+json": {
       "model_id": "e1af8e2e889b41b7ae02053ff9c7b703"
      }
     },
     "metadata": {},
     "output_type": "display_data"
    },
    {
     "name": "stdout",
     "output_type": "stream",
     "text": [
      "\n",
      "Stats: mean game length = 453, win/loss = 109 / 91\n"
     ]
    },
    {
     "data": {
      "application/vnd.jupyter.widget-view+json": {
       "model_id": "53223d1258774496af634fa83957d054"
      }
     },
     "metadata": {},
     "output_type": "display_data"
    },
    {
     "name": "stdout",
     "output_type": "stream",
     "text": [
      "\n",
      "Training: 00143_iter.bot\n",
      "Training size: 162\t Test size: 20\n",
      "Train Loss: 0.000866\t1/10\n",
      "Train Loss: 0.000867\t2/10\n",
      "Train Loss: 0.000868\t3/10\n",
      "Train Loss: 0.000869\t4/10\n",
      "Train Loss: 0.000870\t5/10\n",
      "Train Loss: 0.000870\t6/10\n",
      "Train Loss: 0.000871\t7/10\n",
      "Train Loss: 0.000872\t8/10\n",
      "Train Loss: 0.000873\t9/10\n",
      "Train Loss: 0.000874\t10/10\n",
      "Saving trained bot as: 00144_iter.bot\n",
      "Generating 200 games of 00144_iter.bot vs. 00144_iter.bot, stored at data/00144_iter.bot.txt\n"
     ]
    },
    {
     "data": {
      "application/vnd.jupyter.widget-view+json": {
       "model_id": "f48ef2d4d11a4adeb80918451a840f38"
      }
     },
     "metadata": {},
     "output_type": "display_data"
    },
    {
     "name": "stdout",
     "output_type": "stream",
     "text": [
      "\n",
      "Stats: mean game length = 513, win/loss = 107 / 93\n"
     ]
    },
    {
     "data": {
      "application/vnd.jupyter.widget-view+json": {
       "model_id": "534fbbe34aa7492bbfc7d0242b6a47a9"
      }
     },
     "metadata": {},
     "output_type": "display_data"
    },
    {
     "name": "stdout",
     "output_type": "stream",
     "text": [
      "\n",
      "Training: 00144_iter.bot\n",
      "Training size: 166\t Test size: 20\n",
      "Train Loss: 0.001060\t1/10\n",
      "Train Loss: 0.001058\t2/10\n",
      "Train Loss: 0.001056\t3/10\n",
      "Train Loss: 0.001054\t4/10\n",
      "Train Loss: 0.001052\t5/10\n",
      "Train Loss: 0.001050\t6/10\n",
      "Train Loss: 0.001049\t7/10\n",
      "Train Loss: 0.001047\t8/10\n",
      "Train Loss: 0.001045\t9/10\n",
      "Train Loss: 0.001043\t10/10\n",
      "Saving trained bot as: 00145_iter.bot\n",
      "Generating 200 games of 00145_iter.bot vs. 00145_iter.bot, stored at data/00145_iter.bot.txt\n"
     ]
    },
    {
     "data": {
      "application/vnd.jupyter.widget-view+json": {
       "model_id": "371a46b925194767abb6f4c2459c7ce9"
      }
     },
     "metadata": {},
     "output_type": "display_data"
    },
    {
     "name": "stdout",
     "output_type": "stream",
     "text": [
      "\n",
      "Stats: mean game length = 515, win/loss = 109 / 91\n"
     ]
    },
    {
     "data": {
      "application/vnd.jupyter.widget-view+json": {
       "model_id": "c185982beecd475eaa621f425ad9a54b"
      }
     },
     "metadata": {},
     "output_type": "display_data"
    },
    {
     "name": "stdout",
     "output_type": "stream",
     "text": [
      "\n",
      "Training: 00145_iter.bot\n",
      "Training size: 162\t Test size: 20\n",
      "Train Loss: 0.000999\t1/10\n",
      "Train Loss: 0.000999\t2/10\n",
      "Train Loss: 0.001000\t3/10\n",
      "Train Loss: 0.001001\t4/10\n",
      "Train Loss: 0.001001\t5/10\n",
      "Train Loss: 0.001002\t6/10\n",
      "Train Loss: 0.001003\t7/10\n",
      "Train Loss: 0.001003\t8/10\n",
      "Train Loss: 0.001004\t9/10\n",
      "Train Loss: 0.001004\t10/10\n",
      "Saving trained bot as: 00146_iter.bot\n",
      "Generating 200 games of 00146_iter.bot vs. 00146_iter.bot, stored at data/00146_iter.bot.txt\n"
     ]
    },
    {
     "data": {
      "application/vnd.jupyter.widget-view+json": {
       "model_id": "7d6293a4b58d4820bc257f36f7fe7a3a"
      }
     },
     "metadata": {},
     "output_type": "display_data"
    },
    {
     "name": "stdout",
     "output_type": "stream",
     "text": [
      "\n",
      "Stats: mean game length = 531, win/loss = 105 / 95\n"
     ]
    },
    {
     "data": {
      "application/vnd.jupyter.widget-view+json": {
       "model_id": "4c74cfd485124323a27f14702ff5de55"
      }
     },
     "metadata": {},
     "output_type": "display_data"
    },
    {
     "name": "stdout",
     "output_type": "stream",
     "text": [
      "\n",
      "Training: 00146_iter.bot\n",
      "Training size: 170\t Test size: 20\n",
      "Train Loss: 0.028402\t1/10\n",
      "Train Loss: 0.028405\t2/10\n",
      "Train Loss: 0.028408\t3/10\n",
      "Train Loss: 0.028411\t4/10\n",
      "Train Loss: 0.028413\t5/10\n",
      "Train Loss: 0.028416\t6/10\n",
      "Train Loss: 0.028418\t7/10\n",
      "Train Loss: 0.028421\t8/10\n",
      "Train Loss: 0.028423\t9/10\n",
      "Train Loss: 0.028426\t10/10\n",
      "Saving trained bot as: 00147_iter.bot\n",
      "Generating 200 games of 00147_iter.bot vs. 00147_iter.bot, stored at data/00147_iter.bot.txt\n"
     ]
    },
    {
     "data": {
      "application/vnd.jupyter.widget-view+json": {
       "model_id": "b4a168a19bf041aea1a0099621978e13"
      }
     },
     "metadata": {},
     "output_type": "display_data"
    },
    {
     "name": "stdout",
     "output_type": "stream",
     "text": [
      "\n",
      "Stats: mean game length = 504, win/loss = 110 / 90\n"
     ]
    },
    {
     "data": {
      "application/vnd.jupyter.widget-view+json": {
       "model_id": "925c2cc36bcc4efc84797d329dbfb104"
      }
     },
     "metadata": {},
     "output_type": "display_data"
    },
    {
     "name": "stdout",
     "output_type": "stream",
     "text": [
      "\n",
      "Training: 00147_iter.bot\n",
      "Training size: 160\t Test size: 20\n",
      "Train Loss: 0.028611\t1/10\n",
      "Train Loss: 0.028606\t2/10\n",
      "Train Loss: 0.028600\t3/10\n",
      "Train Loss: 0.028594\t4/10\n",
      "Train Loss: 0.028588\t5/10\n",
      "Train Loss: 0.028583\t6/10\n",
      "Train Loss: 0.028577\t7/10\n",
      "Train Loss: 0.028571\t8/10\n",
      "Train Loss: 0.028566\t9/10\n",
      "Train Loss: 0.028560\t10/10\n",
      "Saving trained bot as: 00148_iter.bot\n",
      "Generating 200 games of 00148_iter.bot vs. 00148_iter.bot, stored at data/00148_iter.bot.txt\n"
     ]
    },
    {
     "data": {
      "application/vnd.jupyter.widget-view+json": {
       "model_id": "401b6692e17f44d0a218186e05b243b9"
      }
     },
     "metadata": {},
     "output_type": "display_data"
    },
    {
     "name": "stdout",
     "output_type": "stream",
     "text": [
      "\n",
      "Stats: mean game length = 439, win/loss = 105 / 95\n"
     ]
    },
    {
     "data": {
      "application/vnd.jupyter.widget-view+json": {
       "model_id": "9f25b6ff4f4241cdacc9dca4b8adcb54"
      }
     },
     "metadata": {},
     "output_type": "display_data"
    },
    {
     "name": "stdout",
     "output_type": "stream",
     "text": [
      "\n",
      "Training: 00148_iter.bot\n",
      "Training size: 170\t Test size: 20\n",
      "Train Loss: 0.001168\t1/10\n",
      "Train Loss: 0.001170\t2/10\n",
      "Train Loss: 0.001173\t3/10\n",
      "Train Loss: 0.001175\t4/10\n",
      "Train Loss: 0.001178\t5/10\n",
      "Train Loss: 0.001181\t6/10\n",
      "Train Loss: 0.001183\t7/10\n",
      "Train Loss: 0.001186\t8/10\n",
      "Train Loss: 0.001188\t9/10\n",
      "Train Loss: 0.001191\t10/10\n",
      "Saving trained bot as: 00149_iter.bot\n",
      "Generating 200 games of 00149_iter.bot vs. 00149_iter.bot, stored at data/00149_iter.bot.txt\n"
     ]
    },
    {
     "data": {
      "application/vnd.jupyter.widget-view+json": {
       "model_id": "9a22fca02abd4358a836f15b3cbff05a"
      }
     },
     "metadata": {},
     "output_type": "display_data"
    },
    {
     "name": "stdout",
     "output_type": "stream",
     "text": [
      "\n",
      "Stats: mean game length = 495, win/loss = 100 / 100\n"
     ]
    },
    {
     "data": {
      "application/vnd.jupyter.widget-view+json": {
       "model_id": "0494592bd70b4642b583872ec7bcbada"
      }
     },
     "metadata": {},
     "output_type": "display_data"
    },
    {
     "name": "stdout",
     "output_type": "stream",
     "text": [
      "\n",
      "Training: 00149_iter.bot\n",
      "Training size: 180\t Test size: 20\n",
      "Train Loss: 0.001266\t1/10\n",
      "Train Loss: 0.001266\t2/10\n",
      "Train Loss: 0.001266\t3/10\n",
      "Train Loss: 0.001266\t4/10\n",
      "Train Loss: 0.001266\t5/10\n",
      "Train Loss: 0.001266\t6/10\n",
      "Train Loss: 0.001266\t7/10\n",
      "Train Loss: 0.001266\t8/10\n",
      "Train Loss: 0.001266\t9/10\n",
      "Train Loss: 0.001266\t10/10\n",
      "Saving trained bot as: 00150_iter.bot\n",
      "Generating 200 games of 00150_iter.bot vs. 00150_iter.bot, stored at data/00150_iter.bot.txt\n"
     ]
    },
    {
     "data": {
      "application/vnd.jupyter.widget-view+json": {
       "model_id": "1bb490527bef42c49d086e6a683bb9e6"
      }
     },
     "metadata": {},
     "output_type": "display_data"
    },
    {
     "name": "stdout",
     "output_type": "stream",
     "text": [
      "\n",
      "Stats: mean game length = 540, win/loss = 104 / 96\n"
     ]
    },
    {
     "data": {
      "application/vnd.jupyter.widget-view+json": {
       "model_id": "d15ca270f52a48f6ac57058dadead35f"
      }
     },
     "metadata": {},
     "output_type": "display_data"
    },
    {
     "name": "stdout",
     "output_type": "stream",
     "text": [
      "\n",
      "Training: 00150_iter.bot\n",
      "Training size: 172\t Test size: 20\n",
      "Train Loss: 0.001279\t1/10\n",
      "Train Loss: 0.001279\t2/10\n",
      "Train Loss: 0.001280\t3/10\n",
      "Train Loss: 0.001280\t4/10\n",
      "Train Loss: 0.001280\t5/10\n",
      "Train Loss: 0.001281\t6/10\n",
      "Train Loss: 0.001281\t7/10\n",
      "Train Loss: 0.001282\t8/10\n",
      "Train Loss: 0.001282\t9/10\n",
      "Train Loss: 0.001282\t10/10\n",
      "Saving trained bot as: 00151_iter.bot\n",
      "Generating 200 games of 00151_iter.bot vs. 00151_iter.bot, stored at data/00151_iter.bot.txt\n"
     ]
    },
    {
     "data": {
      "application/vnd.jupyter.widget-view+json": {
       "model_id": "8e9732bf83ec4d21a9e0636f03b538d2"
      }
     },
     "metadata": {},
     "output_type": "display_data"
    },
    {
     "name": "stdout",
     "output_type": "stream",
     "text": [
      "\n",
      "Stats: mean game length = 488, win/loss = 103 / 97\n"
     ]
    },
    {
     "data": {
      "application/vnd.jupyter.widget-view+json": {
       "model_id": "9a8e7f8eb68147e1a29be30f91cb8b1b"
      }
     },
     "metadata": {},
     "output_type": "display_data"
    },
    {
     "name": "stdout",
     "output_type": "stream",
     "text": [
      "\n",
      "Training: 00151_iter.bot\n",
      "Training size: 174\t Test size: 20\n",
      "Train Loss: 0.041594\t1/10\n",
      "Train Loss: 0.041608\t2/10\n",
      "Train Loss: 0.041622\t3/10\n",
      "Train Loss: 0.041636\t4/10\n",
      "Train Loss: 0.041649\t5/10\n",
      "Train Loss: 0.041663\t6/10\n",
      "Train Loss: 0.041676\t7/10\n",
      "Train Loss: 0.041690\t8/10\n",
      "Train Loss: 0.041703\t9/10\n",
      "Train Loss: 0.041716\t10/10\n",
      "Saving trained bot as: 00152_iter.bot\n",
      "Generating 200 games of 00152_iter.bot vs. 00152_iter.bot, stored at data/00152_iter.bot.txt\n"
     ]
    },
    {
     "data": {
      "application/vnd.jupyter.widget-view+json": {
       "model_id": "99f9d64b60184db8beca3ea778138292"
      }
     },
     "metadata": {},
     "output_type": "display_data"
    },
    {
     "name": "stdout",
     "output_type": "stream",
     "text": [
      "\n",
      "Stats: mean game length = 494, win/loss = 105 / 95\n"
     ]
    },
    {
     "data": {
      "application/vnd.jupyter.widget-view+json": {
       "model_id": "9b68187a1ca54b87acd107fb95fc0e46"
      }
     },
     "metadata": {},
     "output_type": "display_data"
    },
    {
     "name": "stdout",
     "output_type": "stream",
     "text": [
      "\n",
      "Training: 00152_iter.bot\n",
      "Training size: 170\t Test size: 20\n",
      "Train Loss: 0.001079\t1/10\n",
      "Train Loss: 0.001080\t2/10\n",
      "Train Loss: 0.001080\t3/10\n",
      "Train Loss: 0.001081\t4/10\n",
      "Train Loss: 0.001082\t5/10\n",
      "Train Loss: 0.001083\t6/10\n",
      "Train Loss: 0.001083\t7/10\n",
      "Train Loss: 0.001084\t8/10\n",
      "Train Loss: 0.001085\t9/10\n",
      "Train Loss: 0.001086\t10/10\n",
      "Saving trained bot as: 00153_iter.bot\n",
      "Generating 200 games of 00153_iter.bot vs. 00153_iter.bot, stored at data/00153_iter.bot.txt\n"
     ]
    },
    {
     "data": {
      "application/vnd.jupyter.widget-view+json": {
       "model_id": "f6a1351d653c4ecca4b23c6a4fee00bc"
      }
     },
     "metadata": {},
     "output_type": "display_data"
    },
    {
     "name": "stdout",
     "output_type": "stream",
     "text": [
      "\n",
      "Stats: mean game length = 529, win/loss = 109 / 91\n"
     ]
    },
    {
     "data": {
      "application/vnd.jupyter.widget-view+json": {
       "model_id": "b4983f1a9aaf45bea03b0dc5e596355c"
      }
     },
     "metadata": {},
     "output_type": "display_data"
    },
    {
     "name": "stdout",
     "output_type": "stream",
     "text": [
      "\n",
      "Training: 00153_iter.bot\n",
      "Training size: 162\t Test size: 20\n",
      "Train Loss: 0.000921\t1/10\n",
      "Train Loss: 0.000920\t2/10\n",
      "Train Loss: 0.000918\t3/10\n",
      "Train Loss: 0.000917\t4/10\n",
      "Train Loss: 0.000916\t5/10\n",
      "Train Loss: 0.000915\t6/10\n",
      "Train Loss: 0.000914\t7/10\n",
      "Train Loss: 0.000912\t8/10\n",
      "Train Loss: 0.000911\t9/10\n",
      "Train Loss: 0.000910\t10/10\n",
      "Saving trained bot as: 00154_iter.bot\n",
      "Generating 200 games of 00154_iter.bot vs. 00154_iter.bot, stored at data/00154_iter.bot.txt\n"
     ]
    },
    {
     "data": {
      "application/vnd.jupyter.widget-view+json": {
       "model_id": "9d01a1e4e85a4ff0b476112c555b97a7"
      }
     },
     "metadata": {},
     "output_type": "display_data"
    },
    {
     "name": "stdout",
     "output_type": "stream",
     "text": [
      "\n",
      "Stats: mean game length = 487, win/loss = 96 / 104\n"
     ]
    },
    {
     "data": {
      "application/vnd.jupyter.widget-view+json": {
       "model_id": "4472d721c3084c6ca3501dac9cd67404"
      }
     },
     "metadata": {},
     "output_type": "display_data"
    },
    {
     "name": "stdout",
     "output_type": "stream",
     "text": [
      "\n",
      "Training: 00154_iter.bot\n",
      "Training size: 172\t Test size: 20\n",
      "Train Loss: 0.001243\t1/10\n",
      "Train Loss: 0.001243\t2/10\n",
      "Train Loss: 0.001243\t3/10\n",
      "Train Loss: 0.001243\t4/10\n",
      "Train Loss: 0.001244\t5/10\n",
      "Train Loss: 0.001244\t6/10\n",
      "Train Loss: 0.001244\t7/10\n",
      "Train Loss: 0.001244\t8/10\n",
      "Train Loss: 0.001244\t9/10\n",
      "Train Loss: 0.001244\t10/10\n",
      "Saving trained bot as: 00155_iter.bot\n",
      "Generating 200 games of 00155_iter.bot vs. 00155_iter.bot, stored at data/00155_iter.bot.txt\n"
     ]
    },
    {
     "data": {
      "application/vnd.jupyter.widget-view+json": {
       "model_id": "7e5073dec8fb4158b89fedf8d7c81056"
      }
     },
     "metadata": {},
     "output_type": "display_data"
    },
    {
     "name": "stdout",
     "output_type": "stream",
     "text": [
      "\n",
      "Stats: mean game length = 462, win/loss = 98 / 102\n"
     ]
    },
    {
     "data": {
      "application/vnd.jupyter.widget-view+json": {
       "model_id": "d073aef4fb3e404882eca25d19244754"
      }
     },
     "metadata": {},
     "output_type": "display_data"
    },
    {
     "name": "stdout",
     "output_type": "stream",
     "text": [
      "\n",
      "Training: 00155_iter.bot\n",
      "Training size: 176\t Test size: 20\n",
      "Train Loss: 0.001183\t1/10\n",
      "Train Loss: 0.001181\t2/10\n",
      "Train Loss: 0.001179\t3/10\n",
      "Train Loss: 0.001177\t4/10\n",
      "Train Loss: 0.001174\t5/10\n",
      "Train Loss: 0.001172\t6/10\n",
      "Train Loss: 0.001170\t7/10\n",
      "Train Loss: 0.001168\t8/10\n",
      "Train Loss: 0.001166\t9/10\n",
      "Train Loss: 0.001164\t10/10\n",
      "Saving trained bot as: 00156_iter.bot\n",
      "Generating 200 games of 00156_iter.bot vs. 00156_iter.bot, stored at data/00156_iter.bot.txt\n"
     ]
    },
    {
     "data": {
      "application/vnd.jupyter.widget-view+json": {
       "model_id": "44c0a8fffaa34435b2b618370c510e1e"
      }
     },
     "metadata": {},
     "output_type": "display_data"
    },
    {
     "name": "stdout",
     "output_type": "stream",
     "text": [
      "\n",
      "Stats: mean game length = 512, win/loss = 104 / 96\n"
     ]
    },
    {
     "data": {
      "application/vnd.jupyter.widget-view+json": {
       "model_id": "de4520fe88204a0ba555694a5be0ebe7"
      }
     },
     "metadata": {},
     "output_type": "display_data"
    },
    {
     "name": "stdout",
     "output_type": "stream",
     "text": [
      "\n",
      "Training: 00156_iter.bot\n",
      "Training size: 172\t Test size: 20\n",
      "Train Loss: 0.000920\t1/10\n",
      "Train Loss: 0.000918\t2/10\n",
      "Train Loss: 0.000915\t3/10\n",
      "Train Loss: 0.000912\t4/10\n",
      "Train Loss: 0.000909\t5/10\n",
      "Train Loss: 0.000906\t6/10\n",
      "Train Loss: 0.000904\t7/10\n",
      "Train Loss: 0.000901\t8/10\n",
      "Train Loss: 0.000898\t9/10\n",
      "Train Loss: 0.000895\t10/10\n",
      "Saving trained bot as: 00157_iter.bot\n",
      "Generating 200 games of 00157_iter.bot vs. 00157_iter.bot, stored at data/00157_iter.bot.txt\n"
     ]
    },
    {
     "data": {
      "application/vnd.jupyter.widget-view+json": {
       "model_id": "1af17d912b3e450aaa7b537ab7cc6d1b"
      }
     },
     "metadata": {},
     "output_type": "display_data"
    },
    {
     "name": "stdout",
     "output_type": "stream",
     "text": [
      "\n",
      "Stats: mean game length = 453, win/loss = 94 / 106\n"
     ]
    },
    {
     "data": {
      "application/vnd.jupyter.widget-view+json": {
       "model_id": "67b180af1af8401390b594abf5bba64a"
      }
     },
     "metadata": {},
     "output_type": "display_data"
    },
    {
     "name": "stdout",
     "output_type": "stream",
     "text": [
      "\n",
      "Training: 00157_iter.bot\n",
      "Training size: 168\t Test size: 20\n",
      "Train Loss: 0.000952\t1/10\n",
      "Train Loss: 0.000949\t2/10\n",
      "Train Loss: 0.000947\t3/10\n",
      "Train Loss: 0.000944\t4/10\n",
      "Train Loss: 0.000942\t5/10\n",
      "Train Loss: 0.000940\t6/10\n",
      "Train Loss: 0.000937\t7/10\n",
      "Train Loss: 0.000935\t8/10\n",
      "Train Loss: 0.000933\t9/10\n",
      "Train Loss: 0.000931\t10/10\n",
      "Saving trained bot as: 00158_iter.bot\n",
      "Generating 200 games of 00158_iter.bot vs. 00158_iter.bot, stored at data/00158_iter.bot.txt\n"
     ]
    },
    {
     "data": {
      "application/vnd.jupyter.widget-view+json": {
       "model_id": "fdb7378a2517401785077eebd337c92a"
      }
     },
     "metadata": {},
     "output_type": "display_data"
    },
    {
     "name": "stdout",
     "output_type": "stream",
     "text": [
      "\n",
      "Stats: mean game length = 487, win/loss = 99 / 101\n"
     ]
    },
    {
     "data": {
      "application/vnd.jupyter.widget-view+json": {
       "model_id": "ba10fe6cdbd24a219ad4b9a1587d9036"
      }
     },
     "metadata": {},
     "output_type": "display_data"
    },
    {
     "name": "stdout",
     "output_type": "stream",
     "text": [
      "\n",
      "Training: 00158_iter.bot\n",
      "Training size: 178\t Test size: 20\n",
      "Train Loss: 0.028873\t1/10\n",
      "Train Loss: 0.028871\t2/10\n",
      "Train Loss: 0.028868\t3/10\n",
      "Train Loss: 0.028865\t4/10\n",
      "Train Loss: 0.028862\t5/10\n",
      "Train Loss: 0.028860\t6/10\n",
      "Train Loss: 0.028857\t7/10\n",
      "Train Loss: 0.028854\t8/10\n",
      "Train Loss: 0.028852\t9/10\n",
      "Train Loss: 0.028849\t10/10\n",
      "Saving trained bot as: 00159_iter.bot\n",
      "Generating 200 games of 00159_iter.bot vs. 00159_iter.bot, stored at data/00159_iter.bot.txt\n"
     ]
    },
    {
     "data": {
      "application/vnd.jupyter.widget-view+json": {
       "model_id": "b459991b15d944308cbcde5b5a01fe24"
      }
     },
     "metadata": {},
     "output_type": "display_data"
    },
    {
     "name": "stdout",
     "output_type": "stream",
     "text": [
      "\n",
      "Stats: mean game length = 488, win/loss = 81 / 119\n"
     ]
    },
    {
     "data": {
      "application/vnd.jupyter.widget-view+json": {
       "model_id": "fd9c50b2979548e39cbf6735e37f87c8"
      }
     },
     "metadata": {},
     "output_type": "display_data"
    },
    {
     "name": "stdout",
     "output_type": "stream",
     "text": [
      "\n",
      "Training: 00159_iter.bot\n",
      "Training size: 142\t Test size: 20\n",
      "Train Loss: 0.028486\t1/10\n",
      "Train Loss: 0.028486\t2/10\n",
      "Train Loss: 0.028487\t3/10\n",
      "Train Loss: 0.028488\t4/10\n",
      "Train Loss: 0.028488\t5/10\n",
      "Train Loss: 0.028489\t6/10\n",
      "Train Loss: 0.028490\t7/10\n",
      "Train Loss: 0.028490\t8/10\n",
      "Train Loss: 0.028491\t9/10\n",
      "Train Loss: 0.028492\t10/10\n",
      "Saving trained bot as: 00160_iter.bot\n",
      "Generating 200 games of 00160_iter.bot vs. 00160_iter.bot, stored at data/00160_iter.bot.txt\n"
     ]
    },
    {
     "data": {
      "application/vnd.jupyter.widget-view+json": {
       "model_id": "01e70c3bf9be493b9fe5942d6e955bf0"
      }
     },
     "metadata": {},
     "output_type": "display_data"
    },
    {
     "name": "stdout",
     "output_type": "stream",
     "text": [
      "\n",
      "Stats: mean game length = 529, win/loss = 79 / 121\n"
     ]
    },
    {
     "data": {
      "application/vnd.jupyter.widget-view+json": {
       "model_id": "1cc86629c96743cbbfaf3b8e3e4343a6"
      }
     },
     "metadata": {},
     "output_type": "display_data"
    },
    {
     "name": "stdout",
     "output_type": "stream",
     "text": [
      "\n",
      "Training: 00160_iter.bot\n",
      "Training size: 138\t Test size: 20\n",
      "Train Loss: 0.001871\t1/10\n",
      "Train Loss: 0.001871\t2/10\n",
      "Train Loss: 0.001871\t3/10\n",
      "Train Loss: 0.001871\t4/10\n",
      "Train Loss: 0.001871\t5/10\n",
      "Train Loss: 0.001871\t6/10\n",
      "Train Loss: 0.001871\t7/10\n",
      "Train Loss: 0.001871\t8/10\n",
      "Train Loss: 0.001872\t9/10\n",
      "Train Loss: 0.001872\t10/10\n",
      "Saving trained bot as: 00161_iter.bot\n",
      "Generating 200 games of 00161_iter.bot vs. 00161_iter.bot, stored at data/00161_iter.bot.txt\n"
     ]
    },
    {
     "data": {
      "application/vnd.jupyter.widget-view+json": {
       "model_id": "642c702cae454c83a36c5c0a789e13f3"
      }
     },
     "metadata": {},
     "output_type": "display_data"
    },
    {
     "name": "stdout",
     "output_type": "stream",
     "text": [
      "\n",
      "Stats: mean game length = 475, win/loss = 109 / 91\n"
     ]
    },
    {
     "data": {
      "application/vnd.jupyter.widget-view+json": {
       "model_id": "0396296cecc449c6b9d4f8b54d283398"
      }
     },
     "metadata": {},
     "output_type": "display_data"
    },
    {
     "name": "stdout",
     "output_type": "stream",
     "text": [
      "\n",
      "Training: 00161_iter.bot\n",
      "Training size: 162\t Test size: 20\n",
      "Train Loss: 0.028036\t1/10\n",
      "Train Loss: 0.028038\t2/10\n",
      "Train Loss: 0.028039\t3/10\n",
      "Train Loss: 0.028041\t4/10\n",
      "Train Loss: 0.028042\t5/10\n",
      "Train Loss: 0.028044\t6/10\n",
      "Train Loss: 0.028045\t7/10\n",
      "Train Loss: 0.028047\t8/10\n",
      "Train Loss: 0.028048\t9/10\n",
      "Train Loss: 0.028050\t10/10\n",
      "Saving trained bot as: 00162_iter.bot\n",
      "Generating 200 games of 00162_iter.bot vs. 00162_iter.bot, stored at data/00162_iter.bot.txt\n"
     ]
    },
    {
     "data": {
      "application/vnd.jupyter.widget-view+json": {
       "model_id": "545c377cb7334c48ae1d3698366d21ba"
      }
     },
     "metadata": {},
     "output_type": "display_data"
    },
    {
     "name": "stdout",
     "output_type": "stream",
     "text": [
      "\n",
      "Stats: mean game length = 465, win/loss = 92 / 108\n"
     ]
    },
    {
     "data": {
      "application/vnd.jupyter.widget-view+json": {
       "model_id": "198b6e1c960f47139d0efb09d3958015"
      }
     },
     "metadata": {},
     "output_type": "display_data"
    },
    {
     "name": "stdout",
     "output_type": "stream",
     "text": [
      "\n",
      "Training: 00162_iter.bot\n",
      "Training size: 164\t Test size: 20\n",
      "Train Loss: 0.028289\t1/10\n",
      "Train Loss: 0.028285\t2/10\n",
      "Train Loss: 0.028281\t3/10\n",
      "Train Loss: 0.028277\t4/10\n",
      "Train Loss: 0.028273\t5/10\n",
      "Train Loss: 0.028269\t6/10\n",
      "Train Loss: 0.028265\t7/10\n",
      "Train Loss: 0.028261\t8/10\n",
      "Train Loss: 0.028257\t9/10\n",
      "Train Loss: 0.028253\t10/10\n",
      "Saving trained bot as: 00163_iter.bot\n",
      "Generating 200 games of 00163_iter.bot vs. 00163_iter.bot, stored at data/00163_iter.bot.txt\n"
     ]
    },
    {
     "data": {
      "application/vnd.jupyter.widget-view+json": {
       "model_id": "790abea39bc04929baf91a3ce9c6fa2b"
      }
     },
     "metadata": {},
     "output_type": "display_data"
    },
    {
     "name": "stdout",
     "output_type": "stream",
     "text": [
      "\n",
      "Stats: mean game length = 495, win/loss = 89 / 111\n"
     ]
    },
    {
     "data": {
      "application/vnd.jupyter.widget-view+json": {
       "model_id": "b7474d3072a7453081e748875c5343f1"
      }
     },
     "metadata": {},
     "output_type": "display_data"
    },
    {
     "name": "stdout",
     "output_type": "stream",
     "text": [
      "\n",
      "Training: 00163_iter.bot\n",
      "Training size: 158\t Test size: 20\n",
      "Train Loss: 0.028728\t1/10\n",
      "Train Loss: 0.028739\t2/10\n",
      "Train Loss: 0.028749\t3/10\n",
      "Train Loss: 0.028760\t4/10\n",
      "Train Loss: 0.028771\t5/10\n",
      "Train Loss: 0.028781\t6/10\n",
      "Train Loss: 0.028792\t7/10\n",
      "Train Loss: 0.028802\t8/10\n",
      "Train Loss: 0.028812\t9/10\n",
      "Train Loss: 0.028823\t10/10\n",
      "Saving trained bot as: 00164_iter.bot\n",
      "Generating 200 games of 00164_iter.bot vs. 00164_iter.bot, stored at data/00164_iter.bot.txt\n"
     ]
    },
    {
     "data": {
      "application/vnd.jupyter.widget-view+json": {
       "model_id": "fc7a08c0b29b4e7ba130fe668eb103df"
      }
     },
     "metadata": {},
     "output_type": "display_data"
    },
    {
     "name": "stdout",
     "output_type": "stream",
     "text": [
      "\n",
      "Stats: mean game length = 469, win/loss = 108 / 92\n"
     ]
    },
    {
     "data": {
      "application/vnd.jupyter.widget-view+json": {
       "model_id": "9bec1e6874294319956cfdb2967e6642"
      }
     },
     "metadata": {},
     "output_type": "display_data"
    },
    {
     "name": "stdout",
     "output_type": "stream",
     "text": [
      "\n",
      "Training: 00164_iter.bot\n",
      "Training size: 164\t Test size: 20\n",
      "Train Loss: 0.028480\t1/10\n",
      "Train Loss: 0.028481\t2/10\n",
      "Train Loss: 0.028483\t3/10\n",
      "Train Loss: 0.028485\t4/10\n",
      "Train Loss: 0.028486\t5/10\n",
      "Train Loss: 0.028488\t6/10\n",
      "Train Loss: 0.028489\t7/10\n",
      "Train Loss: 0.028491\t8/10\n",
      "Train Loss: 0.028492\t9/10\n",
      "Train Loss: 0.028494\t10/10\n",
      "Saving trained bot as: 00165_iter.bot\n",
      "Generating 200 games of 00165_iter.bot vs. 00165_iter.bot, stored at data/00165_iter.bot.txt\n"
     ]
    },
    {
     "data": {
      "application/vnd.jupyter.widget-view+json": {
       "model_id": "36579d1dd245447cb6cbb55f84a8fca5"
      }
     },
     "metadata": {},
     "output_type": "display_data"
    },
    {
     "name": "stdout",
     "output_type": "stream",
     "text": [
      "\n",
      "Stats: mean game length = 496, win/loss = 92 / 108\n"
     ]
    },
    {
     "data": {
      "application/vnd.jupyter.widget-view+json": {
       "model_id": "e261d8d64bdc425ab95dfef88e4c2318"
      }
     },
     "metadata": {},
     "output_type": "display_data"
    },
    {
     "name": "stdout",
     "output_type": "stream",
     "text": [
      "\n",
      "Training: 00165_iter.bot\n",
      "Training size: 164\t Test size: 20\n",
      "Train Loss: 0.028889\t1/10\n",
      "Train Loss: 0.028882\t2/10\n",
      "Train Loss: 0.028874\t3/10\n",
      "Train Loss: 0.028867\t4/10\n",
      "Train Loss: 0.028859\t5/10\n",
      "Train Loss: 0.028852\t6/10\n",
      "Train Loss: 0.028844\t7/10\n",
      "Train Loss: 0.028837\t8/10\n",
      "Train Loss: 0.028830\t9/10\n",
      "Train Loss: 0.028822\t10/10\n",
      "Saving trained bot as: 00166_iter.bot\n",
      "Generating 200 games of 00166_iter.bot vs. 00166_iter.bot, stored at data/00166_iter.bot.txt\n"
     ]
    },
    {
     "data": {
      "application/vnd.jupyter.widget-view+json": {
       "model_id": "f2a353e31728438d84c4052ed73dd802"
      }
     },
     "metadata": {},
     "output_type": "display_data"
    },
    {
     "name": "stdout",
     "output_type": "stream",
     "text": [
      "\n",
      "Stats: mean game length = 533, win/loss = 86 / 114\n"
     ]
    },
    {
     "data": {
      "application/vnd.jupyter.widget-view+json": {
       "model_id": "4b4a4c171507432cb40427f9dfd9d1c4"
      }
     },
     "metadata": {},
     "output_type": "display_data"
    },
    {
     "name": "stdout",
     "output_type": "stream",
     "text": [
      "\n",
      "Training: 00166_iter.bot\n",
      "Training size: 152\t Test size: 20\n",
      "Train Loss: 0.001088\t1/10\n",
      "Train Loss: 0.001089\t2/10\n",
      "Train Loss: 0.001090\t3/10\n",
      "Train Loss: 0.001091\t4/10\n",
      "Train Loss: 0.001092\t5/10\n",
      "Train Loss: 0.001093\t6/10\n",
      "Train Loss: 0.001094\t7/10\n",
      "Train Loss: 0.001095\t8/10\n",
      "Train Loss: 0.001096\t9/10\n",
      "Train Loss: 0.001097\t10/10\n",
      "Saving trained bot as: 00167_iter.bot\n",
      "Generating 200 games of 00167_iter.bot vs. 00167_iter.bot, stored at data/00167_iter.bot.txt\n"
     ]
    },
    {
     "data": {
      "application/vnd.jupyter.widget-view+json": {
       "model_id": "cd3b248b9d6545c9a89900d3c51b41cf"
      }
     },
     "metadata": {},
     "output_type": "display_data"
    },
    {
     "name": "stdout",
     "output_type": "stream",
     "text": [
      "\n",
      "Stats: mean game length = 511, win/loss = 92 / 108\n"
     ]
    },
    {
     "data": {
      "application/vnd.jupyter.widget-view+json": {
       "model_id": "fe8e4be92c5e43bdb2bcc7aecbd6ba82"
      }
     },
     "metadata": {},
     "output_type": "display_data"
    },
    {
     "name": "stdout",
     "output_type": "stream",
     "text": [
      "\n",
      "Training: 00167_iter.bot\n",
      "Training size: 164\t Test size: 20\n",
      "Train Loss: 0.032838\t1/10\n",
      "Train Loss: 0.032843\t2/10\n",
      "Train Loss: 0.032849\t3/10\n",
      "Train Loss: 0.032855\t4/10\n",
      "Train Loss: 0.032861\t5/10\n",
      "Train Loss: 0.032866\t6/10\n",
      "Train Loss: 0.032872\t7/10\n",
      "Train Loss: 0.032877\t8/10\n",
      "Train Loss: 0.032883\t9/10\n",
      "Train Loss: 0.032888\t10/10\n",
      "Saving trained bot as: 00168_iter.bot\n",
      "Generating 200 games of 00168_iter.bot vs. 00168_iter.bot, stored at data/00168_iter.bot.txt\n"
     ]
    },
    {
     "data": {
      "application/vnd.jupyter.widget-view+json": {
       "model_id": "ba781385fa3d4d0cba412f5c63e8499e"
      }
     },
     "metadata": {},
     "output_type": "display_data"
    },
    {
     "name": "stdout",
     "output_type": "stream",
     "text": [
      "\n",
      "Stats: mean game length = 457, win/loss = 95 / 105\n"
     ]
    },
    {
     "data": {
      "application/vnd.jupyter.widget-view+json": {
       "model_id": "367364bc342e4bb7b4a349824c5cd57a"
      }
     },
     "metadata": {},
     "output_type": "display_data"
    },
    {
     "name": "stdout",
     "output_type": "stream",
     "text": [
      "\n",
      "Training: 00168_iter.bot\n",
      "Training size: 170\t Test size: 20\n",
      "Train Loss: 0.001029\t1/10\n",
      "Train Loss: 0.001030\t2/10\n",
      "Train Loss: 0.001032\t3/10\n",
      "Train Loss: 0.001033\t4/10\n",
      "Train Loss: 0.001034\t5/10\n",
      "Train Loss: 0.001035\t6/10\n",
      "Train Loss: 0.001036\t7/10\n",
      "Train Loss: 0.001037\t8/10\n",
      "Train Loss: 0.001038\t9/10\n",
      "Train Loss: 0.001040\t10/10\n",
      "Saving trained bot as: 00169_iter.bot\n",
      "Generating 200 games of 00169_iter.bot vs. 00169_iter.bot, stored at data/00169_iter.bot.txt\n"
     ]
    },
    {
     "data": {
      "application/vnd.jupyter.widget-view+json": {
       "model_id": "1920d68d22a6477e9040b6329f85077c"
      }
     },
     "metadata": {},
     "output_type": "display_data"
    },
    {
     "name": "stdout",
     "output_type": "stream",
     "text": [
      "\n",
      "Stats: mean game length = 523, win/loss = 100 / 100\n"
     ]
    },
    {
     "data": {
      "application/vnd.jupyter.widget-view+json": {
       "model_id": "0bb7163437ab4e0ca6887c9bf033f9c3"
      }
     },
     "metadata": {},
     "output_type": "display_data"
    },
    {
     "name": "stdout",
     "output_type": "stream",
     "text": [
      "\n",
      "Training: 00169_iter.bot\n",
      "Training size: 180\t Test size: 20\n",
      "Train Loss: 0.029321\t1/10\n",
      "Train Loss: 0.029317\t2/10\n",
      "Train Loss: 0.029313\t3/10\n",
      "Train Loss: 0.029310\t4/10\n",
      "Train Loss: 0.029306\t5/10\n",
      "Train Loss: 0.029302\t6/10\n",
      "Train Loss: 0.029299\t7/10\n",
      "Train Loss: 0.029295\t8/10\n",
      "Train Loss: 0.029292\t9/10\n",
      "Train Loss: 0.029288\t10/10\n",
      "Saving trained bot as: 00170_iter.bot\n",
      "Generating 200 games of 00170_iter.bot vs. 00170_iter.bot, stored at data/00170_iter.bot.txt\n"
     ]
    },
    {
     "data": {
      "application/vnd.jupyter.widget-view+json": {
       "model_id": "8e406d9aa2ca46b4bae5d67022df5f80"
      }
     },
     "metadata": {},
     "output_type": "display_data"
    },
    {
     "name": "stdout",
     "output_type": "stream",
     "text": [
      "\n",
      "Stats: mean game length = 546, win/loss = 98 / 102\n"
     ]
    },
    {
     "data": {
      "application/vnd.jupyter.widget-view+json": {
       "model_id": "a3e7178865fa42fdaafa3ce1de317ed5"
      }
     },
     "metadata": {},
     "output_type": "display_data"
    },
    {
     "name": "stdout",
     "output_type": "stream",
     "text": [
      "\n",
      "Training: 00170_iter.bot\n",
      "Training size: 176\t Test size: 20\n",
      "Train Loss: 0.001059\t1/10\n",
      "Train Loss: 0.001061\t2/10\n",
      "Train Loss: 0.001064\t3/10\n",
      "Train Loss: 0.001067\t4/10\n",
      "Train Loss: 0.001069\t5/10\n",
      "Train Loss: 0.001072\t6/10\n",
      "Train Loss: 0.001074\t7/10\n",
      "Train Loss: 0.001077\t8/10\n",
      "Train Loss: 0.001080\t9/10\n",
      "Train Loss: 0.001082\t10/10\n",
      "Saving trained bot as: 00171_iter.bot\n",
      "Generating 200 games of 00171_iter.bot vs. 00171_iter.bot, stored at data/00171_iter.bot.txt\n"
     ]
    },
    {
     "data": {
      "application/vnd.jupyter.widget-view+json": {
       "model_id": "0959b75eee82417aae56004f5846769d"
      }
     },
     "metadata": {},
     "output_type": "display_data"
    },
    {
     "name": "stdout",
     "output_type": "stream",
     "text": [
      "\n",
      "Stats: mean game length = 472, win/loss = 101 / 99\n"
     ]
    },
    {
     "data": {
      "application/vnd.jupyter.widget-view+json": {
       "model_id": "c7d5fc9203ee47aeb173e762fd11c0b4"
      }
     },
     "metadata": {},
     "output_type": "display_data"
    },
    {
     "name": "stdout",
     "output_type": "stream",
     "text": [
      "\n",
      "Training: 00171_iter.bot\n",
      "Training size: 178\t Test size: 20\n",
      "Train Loss: 0.000953\t1/10\n",
      "Train Loss: 0.000954\t2/10\n",
      "Train Loss: 0.000955\t3/10\n",
      "Train Loss: 0.000956\t4/10\n",
      "Train Loss: 0.000957\t5/10\n",
      "Train Loss: 0.000958\t6/10\n",
      "Train Loss: 0.000959\t7/10\n",
      "Train Loss: 0.000960\t8/10\n",
      "Train Loss: 0.000961\t9/10\n",
      "Train Loss: 0.000962\t10/10\n",
      "Saving trained bot as: 00172_iter.bot\n",
      "Generating 200 games of 00172_iter.bot vs. 00172_iter.bot, stored at data/00172_iter.bot.txt\n"
     ]
    },
    {
     "data": {
      "application/vnd.jupyter.widget-view+json": {
       "model_id": "ff7d6ba33cc841efa0eaa08811f0d6a2"
      }
     },
     "metadata": {},
     "output_type": "display_data"
    },
    {
     "name": "stdout",
     "output_type": "stream",
     "text": [
      "\n",
      "Stats: mean game length = 535, win/loss = 120 / 80\n"
     ]
    },
    {
     "data": {
      "application/vnd.jupyter.widget-view+json": {
       "model_id": "08d588cf8a5541d8856803717408116f"
      }
     },
     "metadata": {},
     "output_type": "display_data"
    },
    {
     "name": "stdout",
     "output_type": "stream",
     "text": [
      "\n",
      "Training: 00172_iter.bot\n",
      "Training size: 140\t Test size: 20\n",
      "Train Loss: 0.000924\t1/10\n",
      "Train Loss: 0.000925\t2/10\n",
      "Train Loss: 0.000925\t3/10\n",
      "Train Loss: 0.000925\t4/10\n",
      "Train Loss: 0.000926\t5/10\n",
      "Train Loss: 0.000926\t6/10\n",
      "Train Loss: 0.000926\t7/10\n",
      "Train Loss: 0.000927\t8/10\n",
      "Train Loss: 0.000927\t9/10\n",
      "Train Loss: 0.000928\t10/10\n",
      "Saving trained bot as: 00173_iter.bot\n",
      "Generating 200 games of 00173_iter.bot vs. 00173_iter.bot, stored at data/00173_iter.bot.txt\n"
     ]
    },
    {
     "data": {
      "application/vnd.jupyter.widget-view+json": {
       "model_id": "31116b1256cc4287b2f9a532c69e3e63"
      }
     },
     "metadata": {},
     "output_type": "display_data"
    },
    {
     "name": "stdout",
     "output_type": "stream",
     "text": [
      "\n",
      "Stats: mean game length = 498, win/loss = 98 / 102\n"
     ]
    },
    {
     "data": {
      "application/vnd.jupyter.widget-view+json": {
       "model_id": "7317ef6033a34c5d9a93a7d543ebb352"
      }
     },
     "metadata": {},
     "output_type": "display_data"
    },
    {
     "name": "stdout",
     "output_type": "stream",
     "text": [
      "\n",
      "Training: 00173_iter.bot\n",
      "Training size: 176\t Test size: 20\n",
      "Train Loss: 0.000986\t1/10\n",
      "Train Loss: 0.000985\t2/10\n",
      "Train Loss: 0.000983\t3/10\n",
      "Train Loss: 0.000982\t4/10\n",
      "Train Loss: 0.000980\t5/10\n",
      "Train Loss: 0.000979\t6/10\n",
      "Train Loss: 0.000978\t7/10\n",
      "Train Loss: 0.000976\t8/10\n",
      "Train Loss: 0.000975\t9/10\n",
      "Train Loss: 0.000973\t10/10\n",
      "Saving trained bot as: 00174_iter.bot\n",
      "Generating 200 games of 00174_iter.bot vs. 00174_iter.bot, stored at data/00174_iter.bot.txt\n"
     ]
    },
    {
     "data": {
      "application/vnd.jupyter.widget-view+json": {
       "model_id": "70d18d9f0fa048c1a9d6a8b1e5a1a8c6"
      }
     },
     "metadata": {},
     "output_type": "display_data"
    },
    {
     "name": "stdout",
     "output_type": "stream",
     "text": [
      "\n",
      "Stats: mean game length = 507, win/loss = 93 / 107\n"
     ]
    },
    {
     "data": {
      "application/vnd.jupyter.widget-view+json": {
       "model_id": "18af16a5252443cab011957e5ff8c877"
      }
     },
     "metadata": {},
     "output_type": "display_data"
    },
    {
     "name": "stdout",
     "output_type": "stream",
     "text": [
      "\n",
      "Training: 00174_iter.bot\n",
      "Training size: 166\t Test size: 20\n",
      "Train Loss: 0.028105\t1/10\n",
      "Train Loss: 0.028111\t2/10\n",
      "Train Loss: 0.028117\t3/10\n",
      "Train Loss: 0.028123\t4/10\n",
      "Train Loss: 0.028128\t5/10\n",
      "Train Loss: 0.028134\t6/10\n",
      "Train Loss: 0.028139\t7/10\n",
      "Train Loss: 0.028145\t8/10\n",
      "Train Loss: 0.028151\t9/10\n",
      "Train Loss: 0.028156\t10/10\n",
      "Saving trained bot as: 00175_iter.bot\n",
      "Generating 200 games of 00175_iter.bot vs. 00175_iter.bot, stored at data/00175_iter.bot.txt\n"
     ]
    },
    {
     "data": {
      "application/vnd.jupyter.widget-view+json": {
       "model_id": "068a43770afd49cb908ffef4c44f2d38"
      }
     },
     "metadata": {},
     "output_type": "display_data"
    },
    {
     "name": "stdout",
     "output_type": "stream",
     "text": [
      "\n",
      "Stats: mean game length = 524, win/loss = 110 / 90\n"
     ]
    },
    {
     "data": {
      "application/vnd.jupyter.widget-view+json": {
       "model_id": "a9eea98d4a3a4cff871bfde348abfdaa"
      }
     },
     "metadata": {},
     "output_type": "display_data"
    },
    {
     "name": "stdout",
     "output_type": "stream",
     "text": [
      "\n",
      "Training: 00175_iter.bot\n",
      "Training size: 160\t Test size: 20\n",
      "Train Loss: 0.028443\t1/10\n",
      "Train Loss: 0.028441\t2/10\n",
      "Train Loss: 0.028439\t3/10\n",
      "Train Loss: 0.028437\t4/10\n",
      "Train Loss: 0.028434\t5/10\n",
      "Train Loss: 0.028432\t6/10\n",
      "Train Loss: 0.028430\t7/10\n",
      "Train Loss: 0.028428\t8/10\n",
      "Train Loss: 0.028426\t9/10\n",
      "Train Loss: 0.028424\t10/10\n",
      "Saving trained bot as: 00176_iter.bot\n",
      "Generating 200 games of 00176_iter.bot vs. 00176_iter.bot, stored at data/00176_iter.bot.txt\n"
     ]
    },
    {
     "data": {
      "application/vnd.jupyter.widget-view+json": {
       "model_id": "7266d1c6f40a4d5faaf9bbd2cae0e4c8"
      }
     },
     "metadata": {},
     "output_type": "display_data"
    },
    {
     "name": "stdout",
     "output_type": "stream",
     "text": [
      "\n",
      "Stats: mean game length = 514, win/loss = 88 / 112\n"
     ]
    },
    {
     "data": {
      "application/vnd.jupyter.widget-view+json": {
       "model_id": "5e0e3ce1127449d19c6cc7434405573d"
      }
     },
     "metadata": {},
     "output_type": "display_data"
    },
    {
     "name": "stdout",
     "output_type": "stream",
     "text": [
      "\n",
      "Training: 00176_iter.bot\n",
      "Training size: 156\t Test size: 20\n",
      "Train Loss: 0.028634\t1/10\n",
      "Train Loss: 0.028641\t2/10\n",
      "Train Loss: 0.028647\t3/10\n",
      "Train Loss: 0.028653\t4/10\n",
      "Train Loss: 0.028659\t5/10\n",
      "Train Loss: 0.028666\t6/10\n",
      "Train Loss: 0.028672\t7/10\n",
      "Train Loss: 0.028678\t8/10\n",
      "Train Loss: 0.028684\t9/10\n",
      "Train Loss: 0.028690\t10/10\n",
      "Saving trained bot as: 00177_iter.bot\n",
      "Generating 200 games of 00177_iter.bot vs. 00177_iter.bot, stored at data/00177_iter.bot.txt\n"
     ]
    },
    {
     "data": {
      "application/vnd.jupyter.widget-view+json": {
       "model_id": "eb74496c22a24c77834d843144a31ff2"
      }
     },
     "metadata": {},
     "output_type": "display_data"
    },
    {
     "name": "stdout",
     "output_type": "stream",
     "text": [
      "\n",
      "Stats: mean game length = 508, win/loss = 96 / 104\n"
     ]
    },
    {
     "data": {
      "application/vnd.jupyter.widget-view+json": {
       "model_id": "e8d42c76432e435495f94ed8a2612ee8"
      }
     },
     "metadata": {},
     "output_type": "display_data"
    },
    {
     "name": "stdout",
     "output_type": "stream",
     "text": [
      "\n",
      "Training: 00177_iter.bot\n",
      "Training size: 172\t Test size: 20\n",
      "Train Loss: 0.028619\t1/10\n",
      "Train Loss: 0.028626\t2/10\n",
      "Train Loss: 0.028633\t3/10\n",
      "Train Loss: 0.028641\t4/10\n",
      "Train Loss: 0.028648\t5/10\n",
      "Train Loss: 0.028655\t6/10\n",
      "Train Loss: 0.028662\t7/10\n",
      "Train Loss: 0.028669\t8/10\n",
      "Train Loss: 0.028676\t9/10\n",
      "Train Loss: 0.028683\t10/10\n",
      "Saving trained bot as: 00178_iter.bot\n",
      "Generating 200 games of 00178_iter.bot vs. 00178_iter.bot, stored at data/00178_iter.bot.txt\n"
     ]
    },
    {
     "data": {
      "application/vnd.jupyter.widget-view+json": {
       "model_id": "8dc0e0783b84408d98056766ee70e33f"
      }
     },
     "metadata": {},
     "output_type": "display_data"
    },
    {
     "name": "stdout",
     "output_type": "stream",
     "text": [
      "\n",
      "Stats: mean game length = 527, win/loss = 102 / 98\n"
     ]
    },
    {
     "data": {
      "application/vnd.jupyter.widget-view+json": {
       "model_id": "119cbb8924a9412984488b9b81868bd3"
      }
     },
     "metadata": {},
     "output_type": "display_data"
    },
    {
     "name": "stdout",
     "output_type": "stream",
     "text": [
      "\n",
      "Training: 00178_iter.bot\n",
      "Training size: 176\t Test size: 20\n",
      "Train Loss: 0.028975\t1/10\n",
      "Train Loss: 0.028957\t2/10\n",
      "Train Loss: 0.028939\t3/10\n",
      "Train Loss: 0.028921\t4/10\n",
      "Train Loss: 0.028904\t5/10\n",
      "Train Loss: 0.028886\t6/10\n",
      "Train Loss: 0.028868\t7/10\n",
      "Train Loss: 0.028850\t8/10\n",
      "Train Loss: 0.028833\t9/10\n",
      "Train Loss: 0.028815\t10/10\n",
      "Saving trained bot as: 00179_iter.bot\n",
      "Generating 200 games of 00179_iter.bot vs. 00179_iter.bot, stored at data/00179_iter.bot.txt\n"
     ]
    },
    {
     "data": {
      "application/vnd.jupyter.widget-view+json": {
       "model_id": "ed0725db055c4d35ad70eba9e5b422e6"
      }
     },
     "metadata": {},
     "output_type": "display_data"
    },
    {
     "name": "stdout",
     "output_type": "stream",
     "text": [
      "\n",
      "Stats: mean game length = 485, win/loss = 96 / 104\n"
     ]
    },
    {
     "data": {
      "application/vnd.jupyter.widget-view+json": {
       "model_id": "e30bc92a7d0e49b280aec3d725fb6624"
      }
     },
     "metadata": {},
     "output_type": "display_data"
    },
    {
     "name": "stdout",
     "output_type": "stream",
     "text": [
      "\n",
      "Training: 00179_iter.bot\n",
      "Training size: 172\t Test size: 20\n",
      "Train Loss: 0.028440\t1/10\n",
      "Train Loss: 0.028443\t2/10\n",
      "Train Loss: 0.028446\t3/10\n",
      "Train Loss: 0.028449\t4/10\n",
      "Train Loss: 0.028452\t5/10\n",
      "Train Loss: 0.028455\t6/10\n",
      "Train Loss: 0.028458\t7/10\n",
      "Train Loss: 0.028461\t8/10\n",
      "Train Loss: 0.028464\t9/10\n",
      "Train Loss: 0.028467\t10/10\n",
      "Saving trained bot as: 00180_iter.bot\n",
      "Generating 200 games of 00180_iter.bot vs. 00180_iter.bot, stored at data/00180_iter.bot.txt\n"
     ]
    },
    {
     "data": {
      "application/vnd.jupyter.widget-view+json": {
       "model_id": "4933887234254d8eb4414a903a8dae5c"
      }
     },
     "metadata": {},
     "output_type": "display_data"
    },
    {
     "name": "stdout",
     "output_type": "stream",
     "text": [
      "\n",
      "Stats: mean game length = 479, win/loss = 110 / 90\n"
     ]
    },
    {
     "data": {
      "application/vnd.jupyter.widget-view+json": {
       "model_id": "00b9d22ff2364deeb3565b99eaca5575"
      }
     },
     "metadata": {},
     "output_type": "display_data"
    },
    {
     "name": "stdout",
     "output_type": "stream",
     "text": [
      "\n",
      "Training: 00180_iter.bot\n",
      "Training size: 160\t Test size: 20\n",
      "Train Loss: 0.000871\t1/10\n",
      "Train Loss: 0.000870\t2/10\n",
      "Train Loss: 0.000869\t3/10\n",
      "Train Loss: 0.000868\t4/10\n",
      "Train Loss: 0.000867\t5/10\n",
      "Train Loss: 0.000866\t6/10\n",
      "Train Loss: 0.000864\t7/10\n",
      "Train Loss: 0.000863\t8/10\n",
      "Train Loss: 0.000862\t9/10\n",
      "Train Loss: 0.000861\t10/10\n",
      "Saving trained bot as: 00181_iter.bot\n",
      "Generating 200 games of 00181_iter.bot vs. 00181_iter.bot, stored at data/00181_iter.bot.txt\n"
     ]
    },
    {
     "data": {
      "application/vnd.jupyter.widget-view+json": {
       "model_id": "73129e26251e438a855ed96b31d97fa0"
      }
     },
     "metadata": {},
     "output_type": "display_data"
    },
    {
     "name": "stdout",
     "output_type": "stream",
     "text": [
      "\n",
      "Stats: mean game length = 479, win/loss = 112 / 88\n"
     ]
    },
    {
     "data": {
      "application/vnd.jupyter.widget-view+json": {
       "model_id": "4d82dd6d7f6445fc9e57517f1fc53c8a"
      }
     },
     "metadata": {},
     "output_type": "display_data"
    },
    {
     "name": "stdout",
     "output_type": "stream",
     "text": [
      "\n",
      "Training: 00181_iter.bot\n",
      "Training size: 156\t Test size: 20\n",
      "Train Loss: 0.028701\t1/10\n",
      "Train Loss: 0.028687\t2/10\n",
      "Train Loss: 0.028674\t3/10\n",
      "Train Loss: 0.028660\t4/10\n",
      "Train Loss: 0.028646\t5/10\n",
      "Train Loss: 0.028633\t6/10\n",
      "Train Loss: 0.028619\t7/10\n",
      "Train Loss: 0.028606\t8/10\n",
      "Train Loss: 0.028592\t9/10\n",
      "Train Loss: 0.028579\t10/10\n",
      "Saving trained bot as: 00182_iter.bot\n",
      "Generating 200 games of 00182_iter.bot vs. 00182_iter.bot, stored at data/00182_iter.bot.txt\n"
     ]
    },
    {
     "data": {
      "application/vnd.jupyter.widget-view+json": {
       "model_id": "911385e1d9724949bac342d6ec7d3a3e"
      }
     },
     "metadata": {},
     "output_type": "display_data"
    },
    {
     "name": "stdout",
     "output_type": "stream",
     "text": [
      "\n",
      "Stats: mean game length = 508, win/loss = 98 / 102\n"
     ]
    },
    {
     "data": {
      "application/vnd.jupyter.widget-view+json": {
       "model_id": "482deaf4f65947a68cef856e3f495f06"
      }
     },
     "metadata": {},
     "output_type": "display_data"
    },
    {
     "name": "stdout",
     "output_type": "stream",
     "text": [
      "\n",
      "Training: 00182_iter.bot\n",
      "Training size: 176\t Test size: 20\n",
      "Train Loss: 0.028544\t1/10\n",
      "Train Loss: 0.028542\t2/10\n",
      "Train Loss: 0.028539\t3/10\n",
      "Train Loss: 0.028537\t4/10\n",
      "Train Loss: 0.028535\t5/10\n",
      "Train Loss: 0.028532\t6/10\n",
      "Train Loss: 0.028530\t7/10\n",
      "Train Loss: 0.028528\t8/10\n",
      "Train Loss: 0.028525\t9/10\n",
      "Train Loss: 0.028523\t10/10\n",
      "Saving trained bot as: 00183_iter.bot\n",
      "Generating 200 games of 00183_iter.bot vs. 00183_iter.bot, stored at data/00183_iter.bot.txt\n"
     ]
    },
    {
     "data": {
      "application/vnd.jupyter.widget-view+json": {
       "model_id": "68549ea6da544205a27cb2655ee37322"
      }
     },
     "metadata": {},
     "output_type": "display_data"
    },
    {
     "name": "stdout",
     "output_type": "stream",
     "text": [
      "\n",
      "Stats: mean game length = 467, win/loss = 110 / 90\n"
     ]
    },
    {
     "data": {
      "application/vnd.jupyter.widget-view+json": {
       "model_id": "9139d3b444a54f3eb2320455e8e2b037"
      }
     },
     "metadata": {},
     "output_type": "display_data"
    },
    {
     "name": "stdout",
     "output_type": "stream",
     "text": [
      "\n",
      "Training: 00183_iter.bot\n",
      "Training size: 160\t Test size: 20\n",
      "Train Loss: 0.000989\t1/10\n",
      "Train Loss: 0.000989\t2/10\n",
      "Train Loss: 0.000990\t3/10\n",
      "Train Loss: 0.000990\t4/10\n",
      "Train Loss: 0.000991\t5/10\n",
      "Train Loss: 0.000992\t6/10\n",
      "Train Loss: 0.000992\t7/10\n",
      "Train Loss: 0.000993\t8/10\n",
      "Train Loss: 0.000993\t9/10\n",
      "Train Loss: 0.000994\t10/10\n",
      "Saving trained bot as: 00184_iter.bot\n",
      "Generating 200 games of 00184_iter.bot vs. 00184_iter.bot, stored at data/00184_iter.bot.txt\n"
     ]
    },
    {
     "data": {
      "application/vnd.jupyter.widget-view+json": {
       "model_id": "e9aab35ace7c46d6b60f478566e34e30"
      }
     },
     "metadata": {},
     "output_type": "display_data"
    },
    {
     "name": "stdout",
     "output_type": "stream",
     "text": [
      "\n",
      "Stats: mean game length = 427, win/loss = 107 / 93\n"
     ]
    },
    {
     "data": {
      "application/vnd.jupyter.widget-view+json": {
       "model_id": "65efa77ad44e4989bfef35a68e74b849"
      }
     },
     "metadata": {},
     "output_type": "display_data"
    },
    {
     "name": "stdout",
     "output_type": "stream",
     "text": [
      "\n",
      "Training: 00184_iter.bot\n",
      "Training size: 166\t Test size: 20\n",
      "Train Loss: 0.027812\t1/10\n",
      "Train Loss: 0.027822\t2/10\n",
      "Train Loss: 0.027833\t3/10\n",
      "Train Loss: 0.027844\t4/10\n",
      "Train Loss: 0.027855\t5/10\n",
      "Train Loss: 0.027865\t6/10\n",
      "Train Loss: 0.027876\t7/10\n",
      "Train Loss: 0.027886\t8/10\n",
      "Train Loss: 0.027896\t9/10\n",
      "Train Loss: 0.027907\t10/10\n",
      "Saving trained bot as: 00185_iter.bot\n",
      "Generating 200 games of 00185_iter.bot vs. 00185_iter.bot, stored at data/00185_iter.bot.txt\n"
     ]
    },
    {
     "data": {
      "application/vnd.jupyter.widget-view+json": {
       "model_id": "3d9ca9d6762945529574cd4232f57bdb"
      }
     },
     "metadata": {},
     "output_type": "display_data"
    },
    {
     "name": "stdout",
     "output_type": "stream",
     "text": [
      "\n",
      "Stats: mean game length = 500, win/loss = 94 / 106\n"
     ]
    },
    {
     "data": {
      "application/vnd.jupyter.widget-view+json": {
       "model_id": "557c3b4c21814bbaafdf9a963e388f1f"
      }
     },
     "metadata": {},
     "output_type": "display_data"
    },
    {
     "name": "stdout",
     "output_type": "stream",
     "text": [
      "\n",
      "Training: 00185_iter.bot\n",
      "Training size: 168\t Test size: 20\n",
      "Train Loss: 0.001031\t1/10\n",
      "Train Loss: 0.001031\t2/10\n",
      "Train Loss: 0.001031\t3/10\n",
      "Train Loss: 0.001031\t4/10\n",
      "Train Loss: 0.001031\t5/10\n",
      "Train Loss: 0.001031\t6/10\n",
      "Train Loss: 0.001031\t7/10\n",
      "Train Loss: 0.001031\t8/10\n",
      "Train Loss: 0.001031\t9/10\n",
      "Train Loss: 0.001031\t10/10\n",
      "Saving trained bot as: 00186_iter.bot\n",
      "Generating 200 games of 00186_iter.bot vs. 00186_iter.bot, stored at data/00186_iter.bot.txt\n"
     ]
    },
    {
     "data": {
      "application/vnd.jupyter.widget-view+json": {
       "model_id": "02e441d483924efa8246fb5d9f82c74d"
      }
     },
     "metadata": {},
     "output_type": "display_data"
    },
    {
     "name": "stdout",
     "output_type": "stream",
     "text": [
      "\n",
      "Stats: mean game length = 461, win/loss = 97 / 103\n"
     ]
    },
    {
     "data": {
      "application/vnd.jupyter.widget-view+json": {
       "model_id": "4157ebb1ac194f5c91c45357b5512310"
      }
     },
     "metadata": {},
     "output_type": "display_data"
    },
    {
     "name": "stdout",
     "output_type": "stream",
     "text": [
      "\n",
      "Training: 00186_iter.bot\n",
      "Training size: 174\t Test size: 20\n",
      "Train Loss: 0.000991\t1/10\n",
      "Train Loss: 0.000993\t2/10\n",
      "Train Loss: 0.000995\t3/10\n",
      "Train Loss: 0.000997\t4/10\n",
      "Train Loss: 0.000999\t5/10\n",
      "Train Loss: 0.001001\t6/10\n",
      "Train Loss: 0.001003\t7/10\n",
      "Train Loss: 0.001005\t8/10\n",
      "Train Loss: 0.001007\t9/10\n",
      "Train Loss: 0.001009\t10/10\n",
      "Saving trained bot as: 00187_iter.bot\n",
      "Generating 200 games of 00187_iter.bot vs. 00187_iter.bot, stored at data/00187_iter.bot.txt\n"
     ]
    },
    {
     "data": {
      "application/vnd.jupyter.widget-view+json": {
       "model_id": "dda5e5b8ba3c4c1282b72a4c22843ba6"
      }
     },
     "metadata": {},
     "output_type": "display_data"
    },
    {
     "name": "stdout",
     "output_type": "stream",
     "text": [
      "\n",
      "Stats: mean game length = 508, win/loss = 107 / 93\n"
     ]
    },
    {
     "data": {
      "application/vnd.jupyter.widget-view+json": {
       "model_id": "edf78aad6dfb461fb72f4dc8b310f54b"
      }
     },
     "metadata": {},
     "output_type": "display_data"
    },
    {
     "name": "stdout",
     "output_type": "stream",
     "text": [
      "\n",
      "Training: 00187_iter.bot\n",
      "Training size: 166\t Test size: 20\n",
      "Train Loss: 0.027690\t1/10\n",
      "Train Loss: 0.027686\t2/10\n",
      "Train Loss: 0.027683\t3/10\n",
      "Train Loss: 0.027680\t4/10\n",
      "Train Loss: 0.027677\t5/10\n",
      "Train Loss: 0.027674\t6/10\n",
      "Train Loss: 0.027671\t7/10\n",
      "Train Loss: 0.027668\t8/10\n",
      "Train Loss: 0.027665\t9/10\n",
      "Train Loss: 0.027662\t10/10\n",
      "Saving trained bot as: 00188_iter.bot\n",
      "Generating 200 games of 00188_iter.bot vs. 00188_iter.bot, stored at data/00188_iter.bot.txt\n"
     ]
    },
    {
     "data": {
      "application/vnd.jupyter.widget-view+json": {
       "model_id": "c3c9cd6742db44b4a0dcb89436947ef4"
      }
     },
     "metadata": {},
     "output_type": "display_data"
    },
    {
     "name": "stdout",
     "output_type": "stream",
     "text": [
      "\n",
      "Stats: mean game length = 470, win/loss = 103 / 97\n"
     ]
    },
    {
     "data": {
      "application/vnd.jupyter.widget-view+json": {
       "model_id": "1d091139545c43e585e64bd739463c12"
      }
     },
     "metadata": {},
     "output_type": "display_data"
    },
    {
     "name": "stdout",
     "output_type": "stream",
     "text": [
      "\n",
      "Training: 00188_iter.bot\n",
      "Training size: 174\t Test size: 20\n",
      "Train Loss: 0.001144\t1/10\n",
      "Train Loss: 0.001144\t2/10\n",
      "Train Loss: 0.001144\t3/10\n",
      "Train Loss: 0.001143\t4/10\n",
      "Train Loss: 0.001143\t5/10\n",
      "Train Loss: 0.001143\t6/10\n",
      "Train Loss: 0.001143\t7/10\n",
      "Train Loss: 0.001142\t8/10\n",
      "Train Loss: 0.001142\t9/10\n",
      "Train Loss: 0.001142\t10/10\n",
      "Saving trained bot as: 00189_iter.bot\n",
      "Generating 200 games of 00189_iter.bot vs. 00189_iter.bot, stored at data/00189_iter.bot.txt\n"
     ]
    },
    {
     "data": {
      "application/vnd.jupyter.widget-view+json": {
       "model_id": "e5c22fd400b741bab3096e835592c982"
      }
     },
     "metadata": {},
     "output_type": "display_data"
    },
    {
     "name": "stdout",
     "output_type": "stream",
     "text": [
      "\n",
      "Stats: mean game length = 461, win/loss = 97 / 103\n"
     ]
    },
    {
     "data": {
      "application/vnd.jupyter.widget-view+json": {
       "model_id": "a6258b65a85a442aa0b17c1c65c00a08"
      }
     },
     "metadata": {},
     "output_type": "display_data"
    },
    {
     "name": "stdout",
     "output_type": "stream",
     "text": [
      "\n",
      "Training: 00189_iter.bot\n",
      "Training size: 174\t Test size: 20\n",
      "Train Loss: 0.028411\t1/10\n",
      "Train Loss: 0.028414\t2/10\n",
      "Train Loss: 0.028417\t3/10\n",
      "Train Loss: 0.028420\t4/10\n",
      "Train Loss: 0.028422\t5/10\n",
      "Train Loss: 0.028425\t6/10\n",
      "Train Loss: 0.028428\t7/10\n",
      "Train Loss: 0.028430\t8/10\n",
      "Train Loss: 0.028433\t9/10\n",
      "Train Loss: 0.028436\t10/10\n",
      "Saving trained bot as: 00190_iter.bot\n",
      "Generating 200 games of 00190_iter.bot vs. 00190_iter.bot, stored at data/00190_iter.bot.txt\n"
     ]
    },
    {
     "data": {
      "application/vnd.jupyter.widget-view+json": {
       "model_id": "1e075e6806cc4839bc098ba0a23a9c80"
      }
     },
     "metadata": {},
     "output_type": "display_data"
    },
    {
     "name": "stdout",
     "output_type": "stream",
     "text": [
      "\n",
      "Stats: mean game length = 456, win/loss = 87 / 113\n"
     ]
    },
    {
     "data": {
      "application/vnd.jupyter.widget-view+json": {
       "model_id": "2655d3b164c04f1e88a67e3dfa33d5a5"
      }
     },
     "metadata": {},
     "output_type": "display_data"
    },
    {
     "name": "stdout",
     "output_type": "stream",
     "text": [
      "\n",
      "Training: 00190_iter.bot\n",
      "Training size: 154\t Test size: 20\n",
      "Train Loss: 0.052598\t1/10\n",
      "Train Loss: 0.052550\t2/10\n",
      "Train Loss: 0.052502\t3/10\n",
      "Train Loss: 0.052455\t4/10\n",
      "Train Loss: 0.052407\t5/10\n",
      "Train Loss: 0.052360\t6/10\n",
      "Train Loss: 0.052312\t7/10\n",
      "Train Loss: 0.052265\t8/10\n",
      "Train Loss: 0.052218\t9/10\n",
      "Train Loss: 0.052171\t10/10\n",
      "Saving trained bot as: 00191_iter.bot\n",
      "Generating 200 games of 00191_iter.bot vs. 00191_iter.bot, stored at data/00191_iter.bot.txt\n"
     ]
    },
    {
     "data": {
      "application/vnd.jupyter.widget-view+json": {
       "model_id": "5c5a0d5d2eca47f7bad0b3ba10e6f3b2"
      }
     },
     "metadata": {},
     "output_type": "display_data"
    },
    {
     "name": "stdout",
     "output_type": "stream",
     "text": [
      "\n",
      "Stats: mean game length = 434, win/loss = 97 / 103\n"
     ]
    },
    {
     "data": {
      "application/vnd.jupyter.widget-view+json": {
       "model_id": "a9b967efb81143949d1004f96a0dc253"
      }
     },
     "metadata": {},
     "output_type": "display_data"
    },
    {
     "name": "stdout",
     "output_type": "stream",
     "text": [
      "\n",
      "Training: 00191_iter.bot\n",
      "Training size: 174\t Test size: 20\n",
      "Train Loss: 0.028428\t1/10\n",
      "Train Loss: 0.028428\t2/10\n",
      "Train Loss: 0.028427\t3/10\n",
      "Train Loss: 0.028426\t4/10\n",
      "Train Loss: 0.028425\t5/10\n",
      "Train Loss: 0.028424\t6/10\n",
      "Train Loss: 0.028423\t7/10\n",
      "Train Loss: 0.028422\t8/10\n",
      "Train Loss: 0.028422\t9/10\n",
      "Train Loss: 0.028421\t10/10\n",
      "Saving trained bot as: 00192_iter.bot\n",
      "Generating 200 games of 00192_iter.bot vs. 00192_iter.bot, stored at data/00192_iter.bot.txt\n"
     ]
    },
    {
     "data": {
      "application/vnd.jupyter.widget-view+json": {
       "model_id": "182c35ad2a2d45e882b6291bb1107415"
      }
     },
     "metadata": {},
     "output_type": "display_data"
    },
    {
     "name": "stdout",
     "output_type": "stream",
     "text": [
      "\n",
      "Stats: mean game length = 439, win/loss = 91 / 109\n"
     ]
    },
    {
     "data": {
      "application/vnd.jupyter.widget-view+json": {
       "model_id": "196e191f292848198c677800afbf55a4"
      }
     },
     "metadata": {},
     "output_type": "display_data"
    },
    {
     "name": "stdout",
     "output_type": "stream",
     "text": [
      "\n",
      "Training: 00192_iter.bot\n",
      "Training size: 162\t Test size: 20\n",
      "Train Loss: 0.032007\t1/10\n",
      "Train Loss: 0.031997\t2/10\n",
      "Train Loss: 0.031988\t3/10\n",
      "Train Loss: 0.031978\t4/10\n",
      "Train Loss: 0.031968\t5/10\n",
      "Train Loss: 0.031959\t6/10\n",
      "Train Loss: 0.031949\t7/10\n",
      "Train Loss: 0.031940\t8/10\n",
      "Train Loss: 0.031930\t9/10\n",
      "Train Loss: 0.031921\t10/10\n",
      "Saving trained bot as: 00193_iter.bot\n",
      "Generating 200 games of 00193_iter.bot vs. 00193_iter.bot, stored at data/00193_iter.bot.txt\n"
     ]
    },
    {
     "data": {
      "application/vnd.jupyter.widget-view+json": {
       "model_id": "c356648f132a41199182a425112492d1"
      }
     },
     "metadata": {},
     "output_type": "display_data"
    },
    {
     "name": "stdout",
     "output_type": "stream",
     "text": [
      "\n",
      "Stats: mean game length = 479, win/loss = 114 / 86\n"
     ]
    },
    {
     "data": {
      "application/vnd.jupyter.widget-view+json": {
       "model_id": "856c9d8b127748c69e4193884e247138"
      }
     },
     "metadata": {},
     "output_type": "display_data"
    },
    {
     "name": "stdout",
     "output_type": "stream",
     "text": [
      "\n",
      "Training: 00193_iter.bot\n",
      "Training size: 152\t Test size: 20\n",
      "Train Loss: 0.028183\t1/10\n",
      "Train Loss: 0.028181\t2/10\n",
      "Train Loss: 0.028179\t3/10\n",
      "Train Loss: 0.028177\t4/10\n",
      "Train Loss: 0.028175\t5/10\n",
      "Train Loss: 0.028173\t6/10\n",
      "Train Loss: 0.028171\t7/10\n",
      "Train Loss: 0.028169\t8/10\n",
      "Train Loss: 0.028167\t9/10\n",
      "Train Loss: 0.028165\t10/10\n",
      "Saving trained bot as: 00194_iter.bot\n",
      "Generating 200 games of 00194_iter.bot vs. 00194_iter.bot, stored at data/00194_iter.bot.txt\n"
     ]
    },
    {
     "data": {
      "application/vnd.jupyter.widget-view+json": {
       "model_id": "5cf5bdc5fc5c453d884f0b98a6835f16"
      }
     },
     "metadata": {},
     "output_type": "display_data"
    },
    {
     "name": "stdout",
     "output_type": "stream",
     "text": [
      "\n",
      "Stats: mean game length = 428, win/loss = 102 / 98\n"
     ]
    },
    {
     "data": {
      "application/vnd.jupyter.widget-view+json": {
       "model_id": "38a7f5359a3641f7ac08429affffd1d3"
      }
     },
     "metadata": {},
     "output_type": "display_data"
    },
    {
     "name": "stdout",
     "output_type": "stream",
     "text": [
      "\n",
      "Training: 00194_iter.bot\n",
      "Training size: 176\t Test size: 20\n",
      "Train Loss: 0.028306\t1/10\n",
      "Train Loss: 0.028322\t2/10\n",
      "Train Loss: 0.028339\t3/10\n",
      "Train Loss: 0.028356\t4/10\n",
      "Train Loss: 0.028372\t5/10\n",
      "Train Loss: 0.028388\t6/10\n",
      "Train Loss: 0.028404\t7/10\n",
      "Train Loss: 0.028420\t8/10\n",
      "Train Loss: 0.028436\t9/10\n",
      "Train Loss: 0.028452\t10/10\n",
      "Saving trained bot as: 00195_iter.bot\n",
      "Generating 200 games of 00195_iter.bot vs. 00195_iter.bot, stored at data/00195_iter.bot.txt\n"
     ]
    },
    {
     "data": {
      "application/vnd.jupyter.widget-view+json": {
       "model_id": "4416c3f6160c49ad85948f65365626b2"
      }
     },
     "metadata": {},
     "output_type": "display_data"
    },
    {
     "name": "stdout",
     "output_type": "stream",
     "text": [
      "\n",
      "Stats: mean game length = 508, win/loss = 107 / 93\n"
     ]
    },
    {
     "data": {
      "application/vnd.jupyter.widget-view+json": {
       "model_id": "1d3e8fd3b1f74530856c3c05105d411d"
      }
     },
     "metadata": {},
     "output_type": "display_data"
    },
    {
     "name": "stdout",
     "output_type": "stream",
     "text": [
      "\n",
      "Training: 00195_iter.bot\n",
      "Training size: 166\t Test size: 20\n",
      "Train Loss: 0.028506\t1/10\n",
      "Train Loss: 0.028504\t2/10\n",
      "Train Loss: 0.028502\t3/10\n",
      "Train Loss: 0.028500\t4/10\n",
      "Train Loss: 0.028497\t5/10\n",
      "Train Loss: 0.028495\t6/10\n",
      "Train Loss: 0.028493\t7/10\n",
      "Train Loss: 0.028490\t8/10\n",
      "Train Loss: 0.028488\t9/10\n",
      "Train Loss: 0.028486\t10/10\n",
      "Saving trained bot as: 00196_iter.bot\n",
      "Generating 200 games of 00196_iter.bot vs. 00196_iter.bot, stored at data/00196_iter.bot.txt\n"
     ]
    },
    {
     "data": {
      "application/vnd.jupyter.widget-view+json": {
       "model_id": "c546f85c1a2b42f3af989ae790395764"
      }
     },
     "metadata": {},
     "output_type": "display_data"
    },
    {
     "name": "stdout",
     "output_type": "stream",
     "text": [
      "\n",
      "Stats: mean game length = 435, win/loss = 103 / 97\n"
     ]
    },
    {
     "data": {
      "application/vnd.jupyter.widget-view+json": {
       "model_id": "858b1e335b5248c38e0cbc698748d241"
      }
     },
     "metadata": {},
     "output_type": "display_data"
    },
    {
     "name": "stdout",
     "output_type": "stream",
     "text": [
      "\n",
      "Training: 00196_iter.bot\n",
      "Training size: 174\t Test size: 20\n",
      "Train Loss: 0.027260\t1/10\n",
      "Train Loss: 0.027245\t2/10\n",
      "Train Loss: 0.027230\t3/10\n",
      "Train Loss: 0.027215\t4/10\n",
      "Train Loss: 0.027200\t5/10\n",
      "Train Loss: 0.027185\t6/10\n",
      "Train Loss: 0.027171\t7/10\n",
      "Train Loss: 0.027156\t8/10\n",
      "Train Loss: 0.027141\t9/10\n",
      "Train Loss: 0.027127\t10/10\n",
      "Saving trained bot as: 00197_iter.bot\n",
      "Generating 200 games of 00197_iter.bot vs. 00197_iter.bot, stored at data/00197_iter.bot.txt\n"
     ]
    },
    {
     "data": {
      "application/vnd.jupyter.widget-view+json": {
       "model_id": "976f5787e1ed4ff09a0247891b48ddbf"
      }
     },
     "metadata": {},
     "output_type": "display_data"
    },
    {
     "name": "stdout",
     "output_type": "stream",
     "text": [
      "\n",
      "Stats: mean game length = 535, win/loss = 97 / 103\n"
     ]
    },
    {
     "data": {
      "application/vnd.jupyter.widget-view+json": {
       "model_id": "b810900c3dcd4448ace37e52fb4c3e06"
      }
     },
     "metadata": {},
     "output_type": "display_data"
    },
    {
     "name": "stdout",
     "output_type": "stream",
     "text": [
      "\n",
      "Training: 00197_iter.bot\n",
      "Training size: 174\t Test size: 20\n",
      "Train Loss: 0.028321\t1/10\n",
      "Train Loss: 0.028333\t2/10\n",
      "Train Loss: 0.028344\t3/10\n",
      "Train Loss: 0.028356\t4/10\n",
      "Train Loss: 0.028367\t5/10\n",
      "Train Loss: 0.028378\t6/10\n",
      "Train Loss: 0.028389\t7/10\n",
      "Train Loss: 0.028400\t8/10\n",
      "Train Loss: 0.028411\t9/10\n",
      "Train Loss: 0.028422\t10/10\n",
      "Saving trained bot as: 00198_iter.bot\n",
      "Generating 200 games of 00198_iter.bot vs. 00198_iter.bot, stored at data/00198_iter.bot.txt\n"
     ]
    },
    {
     "data": {
      "application/vnd.jupyter.widget-view+json": {
       "model_id": "4ef60e08a2e14e0f90a197abf8906e29"
      }
     },
     "metadata": {},
     "output_type": "display_data"
    },
    {
     "name": "stdout",
     "output_type": "stream",
     "text": [
      "\n",
      "Stats: mean game length = 521, win/loss = 90 / 110\n"
     ]
    },
    {
     "data": {
      "application/vnd.jupyter.widget-view+json": {
       "model_id": "32c7e47b065447028619384ea92aa071"
      }
     },
     "metadata": {},
     "output_type": "display_data"
    },
    {
     "name": "stdout",
     "output_type": "stream",
     "text": [
      "\n",
      "Training: 00198_iter.bot\n",
      "Training size: 160\t Test size: 20\n",
      "Train Loss: 0.001055\t1/10\n",
      "Train Loss: 0.001056\t2/10\n",
      "Train Loss: 0.001058\t3/10\n",
      "Train Loss: 0.001059\t4/10\n",
      "Train Loss: 0.001061\t5/10\n",
      "Train Loss: 0.001062\t6/10\n",
      "Train Loss: 0.001063\t7/10\n",
      "Train Loss: 0.001065\t8/10\n",
      "Train Loss: 0.001066\t9/10\n",
      "Train Loss: 0.001067\t10/10\n",
      "Saving trained bot as: 00199_iter.bot\n",
      "Generating 200 games of 00199_iter.bot vs. 00199_iter.bot, stored at data/00199_iter.bot.txt\n"
     ]
    },
    {
     "data": {
      "application/vnd.jupyter.widget-view+json": {
       "model_id": "5dfb265455154717882e63b180c9afac"
      }
     },
     "metadata": {},
     "output_type": "display_data"
    },
    {
     "name": "stdout",
     "output_type": "stream",
     "text": [
      "\n",
      "Stats: mean game length = 453, win/loss = 102 / 98\n"
     ]
    },
    {
     "data": {
      "application/vnd.jupyter.widget-view+json": {
       "model_id": "3182af92e7b7484394543a4554010f2b"
      }
     },
     "metadata": {},
     "output_type": "display_data"
    },
    {
     "name": "stdout",
     "output_type": "stream",
     "text": [
      "\n",
      "Training: 00199_iter.bot\n",
      "Training size: 176\t Test size: 20\n",
      "Train Loss: 0.028437\t1/10\n",
      "Train Loss: 0.028448\t2/10\n",
      "Train Loss: 0.028458\t3/10\n",
      "Train Loss: 0.028468\t4/10\n",
      "Train Loss: 0.028478\t5/10\n",
      "Train Loss: 0.028488\t6/10\n",
      "Train Loss: 0.028498\t7/10\n",
      "Train Loss: 0.028508\t8/10\n",
      "Train Loss: 0.028518\t9/10\n",
      "Train Loss: 0.028528\t10/10\n",
      "Saving trained bot as: 00200_iter.bot\n",
      "Generating 200 games of 00200_iter.bot vs. 00200_iter.bot, stored at data/00200_iter.bot.txt\n"
     ]
    },
    {
     "data": {
      "application/vnd.jupyter.widget-view+json": {
       "model_id": "33a671d885c84a858fb56063f3bf1384"
      }
     },
     "metadata": {},
     "output_type": "display_data"
    },
    {
     "name": "stdout",
     "output_type": "stream",
     "text": [
      "\n",
      "Stats: mean game length = 405, win/loss = 97 / 103\n"
     ]
    },
    {
     "data": {
      "application/vnd.jupyter.widget-view+json": {
       "model_id": "cd80e52204e1415d8e09b5610c7a2341"
      }
     },
     "metadata": {},
     "output_type": "display_data"
    },
    {
     "name": "stdout",
     "output_type": "stream",
     "text": [
      "\n",
      "Training: 00200_iter.bot\n",
      "Training size: 174\t Test size: 20\n",
      "Train Loss: 0.001063\t1/10\n",
      "Train Loss: 0.001060\t2/10\n",
      "Train Loss: 0.001056\t3/10\n",
      "Train Loss: 0.001053\t4/10\n",
      "Train Loss: 0.001050\t5/10\n",
      "Train Loss: 0.001047\t6/10\n",
      "Train Loss: 0.001044\t7/10\n",
      "Train Loss: 0.001041\t8/10\n",
      "Train Loss: 0.001037\t9/10\n",
      "Train Loss: 0.001034\t10/10\n",
      "Saving trained bot as: 00201_iter.bot\n",
      "Generating 200 games of 00201_iter.bot vs. 00201_iter.bot, stored at data/00201_iter.bot.txt\n"
     ]
    },
    {
     "data": {
      "application/vnd.jupyter.widget-view+json": {
       "model_id": "92ed75c6ae9a41df8861aa96cdb47676"
      }
     },
     "metadata": {},
     "output_type": "display_data"
    },
    {
     "name": "stdout",
     "output_type": "stream",
     "text": [
      "\n",
      "Stats: mean game length = 512, win/loss = 95 / 105\n"
     ]
    },
    {
     "data": {
      "application/vnd.jupyter.widget-view+json": {
       "model_id": "8097fe1367124e5eb2cfcabdfca6cf4b"
      }
     },
     "metadata": {},
     "output_type": "display_data"
    },
    {
     "name": "stdout",
     "output_type": "stream",
     "text": [
      "\n",
      "Training: 00201_iter.bot\n",
      "Training size: 170\t Test size: 20\n",
      "Train Loss: 0.000997\t1/10\n",
      "Train Loss: 0.000997\t2/10\n",
      "Train Loss: 0.000997\t3/10\n",
      "Train Loss: 0.000996\t4/10\n",
      "Train Loss: 0.000996\t5/10\n",
      "Train Loss: 0.000996\t6/10\n",
      "Train Loss: 0.000996\t7/10\n",
      "Train Loss: 0.000996\t8/10\n",
      "Train Loss: 0.000996\t9/10\n",
      "Train Loss: 0.000996\t10/10\n",
      "Saving trained bot as: 00202_iter.bot\n",
      "Generating 200 games of 00202_iter.bot vs. 00202_iter.bot, stored at data/00202_iter.bot.txt\n"
     ]
    },
    {
     "data": {
      "application/vnd.jupyter.widget-view+json": {
       "model_id": "1def94ad311b40bf8dfb9e54a386acf3"
      }
     },
     "metadata": {},
     "output_type": "display_data"
    },
    {
     "name": "stdout",
     "output_type": "stream",
     "text": [
      "\n",
      "Stats: mean game length = 465, win/loss = 114 / 86\n"
     ]
    },
    {
     "data": {
      "application/vnd.jupyter.widget-view+json": {
       "model_id": "dde946b587274e738b0a6f56a8a9c70d"
      }
     },
     "metadata": {},
     "output_type": "display_data"
    },
    {
     "name": "stdout",
     "output_type": "stream",
     "text": [
      "\n",
      "Training: 00202_iter.bot\n",
      "Training size: 152\t Test size: 20\n",
      "Train Loss: 0.029111\t1/10\n",
      "Train Loss: 0.029112\t2/10\n",
      "Train Loss: 0.029113\t3/10\n",
      "Train Loss: 0.029114\t4/10\n",
      "Train Loss: 0.029115\t5/10\n",
      "Train Loss: 0.029116\t6/10\n",
      "Train Loss: 0.029117\t7/10\n",
      "Train Loss: 0.029117\t8/10\n",
      "Train Loss: 0.029118\t9/10\n",
      "Train Loss: 0.029119\t10/10\n",
      "Saving trained bot as: 00203_iter.bot\n",
      "Generating 200 games of 00203_iter.bot vs. 00203_iter.bot, stored at data/00203_iter.bot.txt\n"
     ]
    },
    {
     "data": {
      "application/vnd.jupyter.widget-view+json": {
       "model_id": "19b8067cd2ae42ada6cc4cdde96441c3"
      }
     },
     "metadata": {},
     "output_type": "display_data"
    },
    {
     "name": "stdout",
     "output_type": "stream",
     "text": [
      "\n",
      "Stats: mean game length = 472, win/loss = 90 / 110\n"
     ]
    },
    {
     "data": {
      "application/vnd.jupyter.widget-view+json": {
       "model_id": "7fbb6cf192044f9280f2ad5f8988e32f"
      }
     },
     "metadata": {},
     "output_type": "display_data"
    },
    {
     "name": "stdout",
     "output_type": "stream",
     "text": [
      "\n",
      "Training: 00203_iter.bot\n",
      "Training size: 160\t Test size: 20\n",
      "Train Loss: 0.028552\t1/10\n",
      "Train Loss: 0.028549\t2/10\n",
      "Train Loss: 0.028546\t3/10\n",
      "Train Loss: 0.028543\t4/10\n",
      "Train Loss: 0.028540\t5/10\n",
      "Train Loss: 0.028536\t6/10\n",
      "Train Loss: 0.028533\t7/10\n",
      "Train Loss: 0.028530\t8/10\n",
      "Train Loss: 0.028527\t9/10\n",
      "Train Loss: 0.028524\t10/10\n",
      "Saving trained bot as: 00204_iter.bot\n",
      "Generating 200 games of 00204_iter.bot vs. 00204_iter.bot, stored at data/00204_iter.bot.txt\n"
     ]
    },
    {
     "data": {
      "application/vnd.jupyter.widget-view+json": {
       "model_id": "4d23ebe9b7f94f519b381da88f76e005"
      }
     },
     "metadata": {},
     "output_type": "display_data"
    },
    {
     "name": "stdout",
     "output_type": "stream",
     "text": [
      "\n",
      "Stats: mean game length = 477, win/loss = 106 / 94\n"
     ]
    },
    {
     "data": {
      "application/vnd.jupyter.widget-view+json": {
       "model_id": "e5dfec1d968943d1aa6e921558347630"
      }
     },
     "metadata": {},
     "output_type": "display_data"
    },
    {
     "name": "stdout",
     "output_type": "stream",
     "text": [
      "\n",
      "Training: 00204_iter.bot\n",
      "Training size: 168\t Test size: 20\n",
      "Train Loss: 0.068818\t1/10\n",
      "Train Loss: 0.068801\t2/10\n",
      "Train Loss: 0.068785\t3/10\n",
      "Train Loss: 0.068768\t4/10\n",
      "Train Loss: 0.068752\t5/10\n",
      "Train Loss: 0.068735\t6/10\n",
      "Train Loss: 0.068719\t7/10\n",
      "Train Loss: 0.068702\t8/10\n",
      "Train Loss: 0.068686\t9/10\n",
      "Train Loss: 0.068669\t10/10\n",
      "Saving trained bot as: 00205_iter.bot\n",
      "Generating 200 games of 00205_iter.bot vs. 00205_iter.bot, stored at data/00205_iter.bot.txt\n"
     ]
    },
    {
     "data": {
      "application/vnd.jupyter.widget-view+json": {
       "model_id": "7a78ae301ed445d695ab0dac425fe89d"
      }
     },
     "metadata": {},
     "output_type": "display_data"
    },
    {
     "name": "stdout",
     "output_type": "stream",
     "text": [
      "\n",
      "Stats: mean game length = 470, win/loss = 103 / 97\n"
     ]
    },
    {
     "data": {
      "application/vnd.jupyter.widget-view+json": {
       "model_id": "d2248dac5f9f4aa19fddd71a72d1c5a2"
      }
     },
     "metadata": {},
     "output_type": "display_data"
    },
    {
     "name": "stdout",
     "output_type": "stream",
     "text": [
      "\n",
      "Training: 00205_iter.bot\n",
      "Training size: 174\t Test size: 20\n",
      "Train Loss: 0.001047\t1/10\n",
      "Train Loss: 0.001045\t2/10\n",
      "Train Loss: 0.001043\t3/10\n",
      "Train Loss: 0.001042\t4/10\n",
      "Train Loss: 0.001040\t5/10\n",
      "Train Loss: 0.001039\t6/10\n",
      "Train Loss: 0.001037\t7/10\n",
      "Train Loss: 0.001036\t8/10\n",
      "Train Loss: 0.001034\t9/10\n",
      "Train Loss: 0.001033\t10/10\n",
      "Saving trained bot as: 00206_iter.bot\n",
      "Generating 200 games of 00206_iter.bot vs. 00206_iter.bot, stored at data/00206_iter.bot.txt\n"
     ]
    },
    {
     "data": {
      "application/vnd.jupyter.widget-view+json": {
       "model_id": "689bff01c36a4b4b8eb94abf5b887c87"
      }
     },
     "metadata": {},
     "output_type": "display_data"
    },
    {
     "name": "stdout",
     "output_type": "stream",
     "text": [
      "\n",
      "Stats: mean game length = 461, win/loss = 111 / 89\n"
     ]
    },
    {
     "data": {
      "application/vnd.jupyter.widget-view+json": {
       "model_id": "0b8c1333fc514d088610920e62ba9679"
      }
     },
     "metadata": {},
     "output_type": "display_data"
    },
    {
     "name": "stdout",
     "output_type": "stream",
     "text": [
      "\n",
      "Training: 00206_iter.bot\n",
      "Training size: 158\t Test size: 20\n",
      "Train Loss: 0.028585\t1/10\n",
      "Train Loss: 0.028582\t2/10\n",
      "Train Loss: 0.028580\t3/10\n",
      "Train Loss: 0.028577\t4/10\n",
      "Train Loss: 0.028575\t5/10\n",
      "Train Loss: 0.028572\t6/10\n",
      "Train Loss: 0.028569\t7/10\n",
      "Train Loss: 0.028567\t8/10\n",
      "Train Loss: 0.028564\t9/10\n",
      "Train Loss: 0.028562\t10/10\n",
      "Saving trained bot as: 00207_iter.bot\n",
      "Generating 200 games of 00207_iter.bot vs. 00207_iter.bot, stored at data/00207_iter.bot.txt\n"
     ]
    },
    {
     "data": {
      "application/vnd.jupyter.widget-view+json": {
       "model_id": "da686ad452e94d72a64ce77e0eac651d"
      }
     },
     "metadata": {},
     "output_type": "display_data"
    },
    {
     "name": "stdout",
     "output_type": "stream",
     "text": [
      "\n",
      "Stats: mean game length = 476, win/loss = 94 / 106\n"
     ]
    },
    {
     "data": {
      "application/vnd.jupyter.widget-view+json": {
       "model_id": "2aa857ecdafc4acebacb9963bb3551df"
      }
     },
     "metadata": {},
     "output_type": "display_data"
    },
    {
     "name": "stdout",
     "output_type": "stream",
     "text": [
      "\n",
      "Training: 00207_iter.bot\n",
      "Training size: 168\t Test size: 20\n",
      "Train Loss: 0.028071\t1/10\n",
      "Train Loss: 0.028066\t2/10\n",
      "Train Loss: 0.028061\t3/10\n",
      "Train Loss: 0.028055\t4/10\n",
      "Train Loss: 0.028050\t5/10\n",
      "Train Loss: 0.028045\t6/10\n",
      "Train Loss: 0.028040\t7/10\n",
      "Train Loss: 0.028035\t8/10\n",
      "Train Loss: 0.028029\t9/10\n",
      "Train Loss: 0.028024\t10/10\n",
      "Saving trained bot as: 00208_iter.bot\n",
      "Generating 200 games of 00208_iter.bot vs. 00208_iter.bot, stored at data/00208_iter.bot.txt\n"
     ]
    },
    {
     "data": {
      "application/vnd.jupyter.widget-view+json": {
       "model_id": "b29f8667051c4880bfffd397d4b56fad"
      }
     },
     "metadata": {},
     "output_type": "display_data"
    },
    {
     "name": "stdout",
     "output_type": "stream",
     "text": [
      "\n",
      "Stats: mean game length = 437, win/loss = 95 / 105\n"
     ]
    },
    {
     "data": {
      "application/vnd.jupyter.widget-view+json": {
       "model_id": "8f1113a08ca444e0915017e2b89e54a6"
      }
     },
     "metadata": {},
     "output_type": "display_data"
    },
    {
     "name": "stdout",
     "output_type": "stream",
     "text": [
      "\n",
      "Training: 00208_iter.bot\n",
      "Training size: 170\t Test size: 20\n",
      "Train Loss: 0.001313\t1/10\n",
      "Train Loss: 0.001309\t2/10\n",
      "Train Loss: 0.001305\t3/10\n",
      "Train Loss: 0.001302\t4/10\n",
      "Train Loss: 0.001298\t5/10\n",
      "Train Loss: 0.001294\t6/10\n",
      "Train Loss: 0.001290\t7/10\n",
      "Train Loss: 0.001286\t8/10\n",
      "Train Loss: 0.001283\t9/10\n",
      "Train Loss: 0.001279\t10/10\n",
      "Saving trained bot as: 00209_iter.bot\n",
      "Generating 200 games of 00209_iter.bot vs. 00209_iter.bot, stored at data/00209_iter.bot.txt\n"
     ]
    },
    {
     "data": {
      "application/vnd.jupyter.widget-view+json": {
       "model_id": "39f38dc128234b19a95f1c12ff5bd18d"
      }
     },
     "metadata": {},
     "output_type": "display_data"
    },
    {
     "name": "stdout",
     "output_type": "stream",
     "text": [
      "\n",
      "Stats: mean game length = 495, win/loss = 102 / 98\n"
     ]
    },
    {
     "data": {
      "application/vnd.jupyter.widget-view+json": {
       "model_id": "a4fc0124e80f4d8884eca711ab0810b4"
      }
     },
     "metadata": {},
     "output_type": "display_data"
    },
    {
     "name": "stdout",
     "output_type": "stream",
     "text": [
      "\n",
      "Training: 00209_iter.bot\n",
      "Training size: 176\t Test size: 20\n",
      "Train Loss: 0.028886\t1/10\n",
      "Train Loss: 0.028880\t2/10\n",
      "Train Loss: 0.028874\t3/10\n",
      "Train Loss: 0.028869\t4/10\n",
      "Train Loss: 0.028863\t5/10\n",
      "Train Loss: 0.028857\t6/10\n",
      "Train Loss: 0.028852\t7/10\n",
      "Train Loss: 0.028846\t8/10\n",
      "Train Loss: 0.028841\t9/10\n",
      "Train Loss: 0.028835\t10/10\n",
      "Saving trained bot as: 00210_iter.bot\n",
      "Generating 200 games of 00210_iter.bot vs. 00210_iter.bot, stored at data/00210_iter.bot.txt\n"
     ]
    },
    {
     "data": {
      "application/vnd.jupyter.widget-view+json": {
       "model_id": "b4af563ab634471b86dfc289a84bd8f6"
      }
     },
     "metadata": {},
     "output_type": "display_data"
    },
    {
     "name": "stdout",
     "output_type": "stream",
     "text": [
      "\n",
      "Stats: mean game length = 500, win/loss = 93 / 107\n"
     ]
    },
    {
     "data": {
      "application/vnd.jupyter.widget-view+json": {
       "model_id": "bfaad74526ff4e428e81815443be6a51"
      }
     },
     "metadata": {},
     "output_type": "display_data"
    },
    {
     "name": "stdout",
     "output_type": "stream",
     "text": [
      "\n",
      "Training: 00210_iter.bot\n",
      "Training size: 166\t Test size: 20\n",
      "Train Loss: 0.000977\t1/10\n",
      "Train Loss: 0.000978\t2/10\n",
      "Train Loss: 0.000979\t3/10\n",
      "Train Loss: 0.000980\t4/10\n",
      "Train Loss: 0.000981\t5/10\n",
      "Train Loss: 0.000982\t6/10\n",
      "Train Loss: 0.000983\t7/10\n",
      "Train Loss: 0.000984\t8/10\n",
      "Train Loss: 0.000985\t9/10\n",
      "Train Loss: 0.000986\t10/10\n",
      "Saving trained bot as: 00211_iter.bot\n",
      "Generating 200 games of 00211_iter.bot vs. 00211_iter.bot, stored at data/00211_iter.bot.txt\n"
     ]
    },
    {
     "data": {
      "application/vnd.jupyter.widget-view+json": {
       "model_id": "759f41e6358c4fbdaa0be4da2f9646d5"
      }
     },
     "metadata": {},
     "output_type": "display_data"
    },
    {
     "name": "stdout",
     "output_type": "stream",
     "text": [
      "\n",
      "Stats: mean game length = 547, win/loss = 101 / 99\n"
     ]
    },
    {
     "data": {
      "application/vnd.jupyter.widget-view+json": {
       "model_id": "86aac92b752f4e0b9938cae4e7492b88"
      }
     },
     "metadata": {},
     "output_type": "display_data"
    },
    {
     "name": "stdout",
     "output_type": "stream",
     "text": [
      "\n",
      "Training: 00211_iter.bot\n",
      "Training size: 178\t Test size: 20\n",
      "Train Loss: 0.001089\t1/10\n",
      "Train Loss: 0.001088\t2/10\n",
      "Train Loss: 0.001086\t3/10\n",
      "Train Loss: 0.001085\t4/10\n",
      "Train Loss: 0.001083\t5/10\n",
      "Train Loss: 0.001082\t6/10\n",
      "Train Loss: 0.001081\t7/10\n",
      "Train Loss: 0.001079\t8/10\n",
      "Train Loss: 0.001078\t9/10\n",
      "Train Loss: 0.001076\t10/10\n",
      "Saving trained bot as: 00212_iter.bot\n",
      "Generating 200 games of 00212_iter.bot vs. 00212_iter.bot, stored at data/00212_iter.bot.txt\n"
     ]
    },
    {
     "data": {
      "application/vnd.jupyter.widget-view+json": {
       "model_id": "d6c7a374afa648bc82cb86d939b8d870"
      }
     },
     "metadata": {},
     "output_type": "display_data"
    },
    {
     "name": "stdout",
     "output_type": "stream",
     "text": [
      "\n",
      "Stats: mean game length = 411, win/loss = 102 / 98\n"
     ]
    },
    {
     "data": {
      "application/vnd.jupyter.widget-view+json": {
       "model_id": "cc321f306348473ca925e9403d0d4dda"
      }
     },
     "metadata": {},
     "output_type": "display_data"
    },
    {
     "name": "stdout",
     "output_type": "stream",
     "text": [
      "\n",
      "Training: 00212_iter.bot\n",
      "Training size: 176\t Test size: 20\n",
      "Train Loss: 0.001067\t1/10\n",
      "Train Loss: 0.001069\t2/10\n",
      "Train Loss: 0.001072\t3/10\n",
      "Train Loss: 0.001074\t4/10\n",
      "Train Loss: 0.001077\t5/10\n",
      "Train Loss: 0.001079\t6/10\n",
      "Train Loss: 0.001082\t7/10\n",
      "Train Loss: 0.001084\t8/10\n",
      "Train Loss: 0.001087\t9/10\n",
      "Train Loss: 0.001089\t10/10\n",
      "Saving trained bot as: 00213_iter.bot\n",
      "Generating 200 games of 00213_iter.bot vs. 00213_iter.bot, stored at data/00213_iter.bot.txt\n"
     ]
    },
    {
     "data": {
      "application/vnd.jupyter.widget-view+json": {
       "model_id": "e2599ed689774e5482f99a191996cbaa"
      }
     },
     "metadata": {},
     "output_type": "display_data"
    },
    {
     "name": "stdout",
     "output_type": "stream",
     "text": [
      "\n",
      "Stats: mean game length = 446, win/loss = 109 / 91\n"
     ]
    },
    {
     "data": {
      "application/vnd.jupyter.widget-view+json": {
       "model_id": "a9bab06e1f204ede837fc6f009966c78"
      }
     },
     "metadata": {},
     "output_type": "display_data"
    },
    {
     "name": "stdout",
     "output_type": "stream",
     "text": [
      "\n",
      "Training: 00213_iter.bot\n",
      "Training size: 162\t Test size: 20\n",
      "Train Loss: 0.001023\t1/10\n",
      "Train Loss: 0.001022\t2/10\n",
      "Train Loss: 0.001021\t3/10\n",
      "Train Loss: 0.001020\t4/10\n",
      "Train Loss: 0.001019\t5/10\n",
      "Train Loss: 0.001018\t6/10\n",
      "Train Loss: 0.001016\t7/10\n",
      "Train Loss: 0.001015\t8/10\n",
      "Train Loss: 0.001014\t9/10\n",
      "Train Loss: 0.001013\t10/10\n",
      "Saving trained bot as: 00214_iter.bot\n",
      "Generating 200 games of 00214_iter.bot vs. 00214_iter.bot, stored at data/00214_iter.bot.txt\n"
     ]
    },
    {
     "data": {
      "application/vnd.jupyter.widget-view+json": {
       "model_id": "7e1ef9f89bf34912a567ac767c9e3faa"
      }
     },
     "metadata": {},
     "output_type": "display_data"
    },
    {
     "name": "stdout",
     "output_type": "stream",
     "text": [
      "\n",
      "Stats: mean game length = 480, win/loss = 111 / 89\n"
     ]
    },
    {
     "data": {
      "application/vnd.jupyter.widget-view+json": {
       "model_id": "b35ded32765a42e791221f44574f7368"
      }
     },
     "metadata": {},
     "output_type": "display_data"
    },
    {
     "name": "stdout",
     "output_type": "stream",
     "text": [
      "\n",
      "Training: 00214_iter.bot\n",
      "Training size: 158\t Test size: 20\n",
      "Train Loss: 0.001624\t1/10\n",
      "Train Loss: 0.001626\t2/10\n",
      "Train Loss: 0.001627\t3/10\n",
      "Train Loss: 0.001629\t4/10\n",
      "Train Loss: 0.001630\t5/10\n",
      "Train Loss: 0.001632\t6/10\n",
      "Train Loss: 0.001634\t7/10\n",
      "Train Loss: 0.001635\t8/10\n",
      "Train Loss: 0.001637\t9/10\n",
      "Train Loss: 0.001638\t10/10\n",
      "Saving trained bot as: 00215_iter.bot\n",
      "Generating 200 games of 00215_iter.bot vs. 00215_iter.bot, stored at data/00215_iter.bot.txt\n"
     ]
    },
    {
     "data": {
      "application/vnd.jupyter.widget-view+json": {
       "model_id": "cb880f57fea54c69a4b5da5d82fc08d0"
      }
     },
     "metadata": {},
     "output_type": "display_data"
    },
    {
     "name": "stdout",
     "output_type": "stream",
     "text": [
      "\n",
      "Stats: mean game length = 428, win/loss = 114 / 86\n"
     ]
    },
    {
     "data": {
      "application/vnd.jupyter.widget-view+json": {
       "model_id": "320d53f3a8d64f1d9601f2c79042e4bb"
      }
     },
     "metadata": {},
     "output_type": "display_data"
    },
    {
     "name": "stdout",
     "output_type": "stream",
     "text": [
      "\n",
      "Training: 00215_iter.bot\n",
      "Training size: 152\t Test size: 20\n",
      "Train Loss: 0.107235\t1/10\n",
      "Train Loss: 0.107167\t2/10\n",
      "Train Loss: 0.107099\t3/10\n",
      "Train Loss: 0.107032\t4/10\n",
      "Train Loss: 0.106965\t5/10\n",
      "Train Loss: 0.106897\t6/10\n",
      "Train Loss: 0.106830\t7/10\n",
      "Train Loss: 0.106764\t8/10\n",
      "Train Loss: 0.106697\t9/10\n",
      "Train Loss: 0.106630\t10/10\n",
      "Saving trained bot as: 00216_iter.bot\n",
      "Generating 200 games of 00216_iter.bot vs. 00216_iter.bot, stored at data/00216_iter.bot.txt\n"
     ]
    },
    {
     "data": {
      "application/vnd.jupyter.widget-view+json": {
       "model_id": "34e779cdebe2472db6141a6c9a01f165"
      }
     },
     "metadata": {},
     "output_type": "display_data"
    },
    {
     "name": "stdout",
     "output_type": "stream",
     "text": [
      "\n",
      "Stats: mean game length = 417, win/loss = 96 / 104\n"
     ]
    },
    {
     "data": {
      "application/vnd.jupyter.widget-view+json": {
       "model_id": "42044062cb6a4053aed0beba3c9a5f14"
      }
     },
     "metadata": {},
     "output_type": "display_data"
    },
    {
     "name": "stdout",
     "output_type": "stream",
     "text": [
      "\n",
      "Training: 00216_iter.bot\n",
      "Training size: 172\t Test size: 20\n",
      "Train Loss: 0.027788\t1/10\n",
      "Train Loss: 0.027781\t2/10\n",
      "Train Loss: 0.027775\t3/10\n",
      "Train Loss: 0.027768\t4/10\n",
      "Train Loss: 0.027761\t5/10\n",
      "Train Loss: 0.027754\t6/10\n",
      "Train Loss: 0.027747\t7/10\n",
      "Train Loss: 0.027741\t8/10\n",
      "Train Loss: 0.027734\t9/10\n",
      "Train Loss: 0.027727\t10/10\n",
      "Saving trained bot as: 00217_iter.bot\n",
      "Generating 200 games of 00217_iter.bot vs. 00217_iter.bot, stored at data/00217_iter.bot.txt\n"
     ]
    },
    {
     "data": {
      "application/vnd.jupyter.widget-view+json": {
       "model_id": "07d8dc84f128450dbc09c4ff6a186449"
      }
     },
     "metadata": {},
     "output_type": "display_data"
    },
    {
     "name": "stdout",
     "output_type": "stream",
     "text": [
      "\n",
      "Stats: mean game length = 491, win/loss = 97 / 103\n"
     ]
    },
    {
     "data": {
      "application/vnd.jupyter.widget-view+json": {
       "model_id": "151f0496cd7e43b290751ddfd8aac2a0"
      }
     },
     "metadata": {},
     "output_type": "display_data"
    },
    {
     "name": "stdout",
     "output_type": "stream",
     "text": [
      "\n",
      "Training: 00217_iter.bot\n",
      "Training size: 174\t Test size: 20\n",
      "Train Loss: 0.028271\t1/10\n",
      "Train Loss: 0.028264\t2/10\n",
      "Train Loss: 0.028258\t3/10\n",
      "Train Loss: 0.028251\t4/10\n",
      "Train Loss: 0.028245\t5/10\n",
      "Train Loss: 0.028239\t6/10\n",
      "Train Loss: 0.028232\t7/10\n",
      "Train Loss: 0.028226\t8/10\n",
      "Train Loss: 0.028220\t9/10\n",
      "Train Loss: 0.028213\t10/10\n",
      "Saving trained bot as: 00218_iter.bot\n",
      "Generating 200 games of 00218_iter.bot vs. 00218_iter.bot, stored at data/00218_iter.bot.txt\n"
     ]
    },
    {
     "data": {
      "application/vnd.jupyter.widget-view+json": {
       "model_id": "e4bc0f47ddcc4d298319fff470376f77"
      }
     },
     "metadata": {},
     "output_type": "display_data"
    },
    {
     "name": "stdout",
     "output_type": "stream",
     "text": [
      "\n",
      "Stats: mean game length = 452, win/loss = 110 / 90\n"
     ]
    },
    {
     "data": {
      "application/vnd.jupyter.widget-view+json": {
       "model_id": "2ad881be0c19412eaa7904cbfe42e646"
      }
     },
     "metadata": {},
     "output_type": "display_data"
    },
    {
     "name": "stdout",
     "output_type": "stream",
     "text": [
      "\n",
      "Training: 00218_iter.bot\n",
      "Training size: 160\t Test size: 20\n",
      "Train Loss: 0.001093\t1/10\n",
      "Train Loss: 0.001092\t2/10\n",
      "Train Loss: 0.001090\t3/10\n",
      "Train Loss: 0.001089\t4/10\n",
      "Train Loss: 0.001088\t5/10\n",
      "Train Loss: 0.001086\t6/10\n",
      "Train Loss: 0.001085\t7/10\n",
      "Train Loss: 0.001083\t8/10\n",
      "Train Loss: 0.001082\t9/10\n",
      "Train Loss: 0.001081\t10/10\n",
      "Saving trained bot as: 00219_iter.bot\n",
      "Generating 200 games of 00219_iter.bot vs. 00219_iter.bot, stored at data/00219_iter.bot.txt\n"
     ]
    },
    {
     "data": {
      "application/vnd.jupyter.widget-view+json": {
       "model_id": "4c22456535264d858755aa5ed545cda7"
      }
     },
     "metadata": {},
     "output_type": "display_data"
    },
    {
     "name": "stdout",
     "output_type": "stream",
     "text": [
      "\n",
      "Stats: mean game length = 492, win/loss = 100 / 100\n"
     ]
    },
    {
     "data": {
      "application/vnd.jupyter.widget-view+json": {
       "model_id": "dbb028a231534beeb13ca08eed098fb3"
      }
     },
     "metadata": {},
     "output_type": "display_data"
    },
    {
     "name": "stdout",
     "output_type": "stream",
     "text": [
      "\n",
      "Training: 00219_iter.bot\n",
      "Training size: 180\t Test size: 20\n",
      "Train Loss: 0.000976\t1/10\n",
      "Train Loss: 0.000977\t2/10\n",
      "Train Loss: 0.000978\t3/10\n",
      "Train Loss: 0.000978\t4/10\n",
      "Train Loss: 0.000979\t5/10\n",
      "Train Loss: 0.000980\t6/10\n",
      "Train Loss: 0.000981\t7/10\n",
      "Train Loss: 0.000981\t8/10\n",
      "Train Loss: 0.000982\t9/10\n",
      "Train Loss: 0.000983\t10/10\n",
      "Saving trained bot as: 00220_iter.bot\n"
     ]
    }
   ],
   "source": [
    "games=200\n",
    "name='iter'\n",
    "path='data/'\n",
    "for ii in range(100):\n",
    "    fname = get_current_filename(datapath='data/', prefix=name, suffix='.bot')\n",
    "    b1 = PositionBot(fname,path='data/')\n",
    "    b2 = PositionBot(fname,path='data/')\n",
    "    generate_games(b1,b2,games,fname+'.txt',path)\n",
    "    dataset,test_dataset=generate_dataset(fname,'data/',test_size=10, moves_before_end=100)\n",
    "    train_position_iteration(name=name,datapath='data/',epochs=10,lr=0.001,momentum=0.5,log_interval=1,cuda=False)"
   ]
  },
  {
   "cell_type": "code",
   "execution_count": 6,
   "metadata": {},
   "outputs": [
    {
     "data": {
      "text/plain": [
       "'00000_iter.bot'"
      ]
     },
     "execution_count": 6,
     "metadata": {},
     "output_type": "execute_result"
    }
   ],
   "source": [
    "fname"
   ]
  },
  {
   "cell_type": "code",
   "execution_count": 8,
   "metadata": {},
   "outputs": [
    {
     "data": {
      "text/plain": [
       "'00000_iter'"
      ]
     },
     "execution_count": 8,
     "metadata": {},
     "output_type": "execute_result"
    }
   ],
   "source": [
    "fname[:-4]"
   ]
  },
  {
   "cell_type": "code",
   "execution_count": null,
   "metadata": {
    "collapsed": true
   },
   "outputs": [],
   "source": []
  }
 ],
 "metadata": {
  "kernelspec": {
   "display_name": "Python 2",
   "language": "python",
   "name": "python2"
  },
  "language_info": {
   "codemirror_mode": {
    "name": "ipython",
    "version": 2
   },
   "file_extension": ".py",
   "mimetype": "text/x-python",
   "name": "python",
   "nbconvert_exporter": "python",
   "pygments_lexer": "ipython2",
   "version": "2.7.10"
  }
 },
 "nbformat": 4,
 "nbformat_minor": 2
}
